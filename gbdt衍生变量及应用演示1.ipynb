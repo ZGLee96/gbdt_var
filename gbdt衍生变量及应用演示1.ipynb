{
 "cells": [
  {
   "cell_type": "markdown",
   "metadata": {},
   "source": [
    "## 准备工作"
   ]
  },
  {
   "cell_type": "code",
   "execution_count": 1,
   "metadata": {
    "ExecuteTime": {
     "end_time": "2019-06-26T02:14:44.475519Z",
     "start_time": "2019-06-26T02:14:36.931083Z"
    }
   },
   "outputs": [],
   "source": [
    "import numpy as np\n",
    "import pandas as pd\n",
    "import os"
   ]
  },
  {
   "cell_type": "code",
   "execution_count": 2,
   "metadata": {
    "ExecuteTime": {
     "end_time": "2019-06-26T02:14:45.106556Z",
     "start_time": "2019-06-26T02:14:44.478518Z"
    }
   },
   "outputs": [],
   "source": [
    "# 读取数据集\n",
    "data = pd.read_csv(r'data/test_data.csv')\n",
    "data.columns = [col.upper() for col in data.columns]"
   ]
  },
  {
   "cell_type": "code",
   "execution_count": 3,
   "metadata": {
    "ExecuteTime": {
     "end_time": "2019-06-26T02:15:24.744825Z",
     "start_time": "2019-06-26T02:14:55.828167Z"
    }
   },
   "outputs": [],
   "source": [
    "# 导入gbdt_var的方法\n",
    "from gbdt_var import get_gbdt_path_var, get_data_gbdt, get_head_rule, get_rule_df, get_lr_model, get_lr_proba\n",
    "\n",
    "# 导入数据集比较的代码\n",
    "os.chdir('../常用代码')\n",
    "from common_function import dataframe_compare_all, dataframe_compare_sigle\n",
    "\n",
    "# 导入自动建模代码\n",
    "os.chdir('../../Auto-Modeling/Auto-Modeling')\n",
    "import auto_modeling as am"
   ]
  },
  {
   "cell_type": "code",
   "execution_count": 4,
   "metadata": {
    "ExecuteTime": {
     "end_time": "2019-06-26T02:15:28.247029Z",
     "start_time": "2019-06-26T02:15:27.835006Z"
    }
   },
   "outputs": [
    {
     "name": "stdout",
     "output_type": "stream",
     "text": [
      ">> 数据集划分成功,无跨时间测试集\n",
      ">> 训练集样本数: 23842\n",
      ">> 测试集样本数: 10219\n",
      ">> 训练集目标情况如下:\n",
      "   训练集TARGET为 0 的数量: 21451  占比: 89.97%\n",
      "   训练集TARGET为 1 的数量: 2391  占比: 10.03%\n"
     ]
    }
   ],
   "source": [
    "# 划分数据集\n",
    "X_train, Y_train, X_test, Y_test, X_time_test, Y_time_test = am.data_split(\n",
    "    data, test_size=0.3, time_test_type=False)"
   ]
  },
  {
   "cell_type": "code",
   "execution_count": 18,
   "metadata": {
    "ExecuteTime": {
     "end_time": "2019-06-25T05:47:38.784021Z",
     "start_time": "2019-06-25T05:40:51.886447Z"
    },
    "scrolled": true
   },
   "outputs": [
    {
     "name": "stdout",
     "output_type": "stream",
     "text": [
      ">> 根据缺失率删除 0 个变量\n",
      ">> 根据同质性删除 0 个变量\n",
      ">> 根据最大计数类别删除 1 个变量\n",
      ">> 根据相关性删除 0 个变量\n",
      ">> 特征重要度迭代次数 |■■■■■■■■■■■■■■■■■■■■■■■■■■■■■■■■■■■■■■■■■■■■■■   根据条件提前停止迭代\n",
      ">> 根据特征重要度最终保留 23 个变量\n",
      ">> 具体保留变量如下:\n",
      "   ['CREDIT_SCORE', 'APPL_AUTH_TIME', 'ACCOUNT_GRADE', 'BANKPRED', 'OVERTIME_DELTA', 'ID_LEN', 'COUNT_REC_INFO', 'BANK_RATE_AVG', 'USE_RATE', 'SEX', 'LATEST_APPL_ORDER', 'AMT_ORDER_SKEW', 'ORDER_NULL_AVG', 'DUR_DAY', 'NULL_COUNT', 'AUTH_TIME_DAY', 'AMT_ORDER_STD', 'ORDERPRED', 'AMT_ORDER_MEAN', 'AMT_ORDER_SUM', 'EVENING_ORDER_COUNT', 'WEEKDAY_COUNT', 'CHUXUKA_COUNT']\n"
     ]
    }
   ],
   "source": [
    "# 特征选择\n",
    "keep_cols = am.feature_select(X_train, Y_train, cols_number='auto', verbose=False)[0]"
   ]
  },
  {
   "cell_type": "code",
   "execution_count": 6,
   "metadata": {
    "ExecuteTime": {
     "end_time": "2019-06-26T02:15:37.964585Z",
     "start_time": "2019-06-26T02:15:37.906579Z"
    }
   },
   "outputs": [],
   "source": [
    "# 转换数据集\n",
    "X_train_trans, X_test_trans, X_time_test_trans, num_cols, char_cols = am.get_coltype_datalist(\n",
    "    X_train, X_test, X_time_test, keep_cols)\n",
    "\n",
    "# 封装DataFrameMapper\n",
    "mapper = am.get_mapper(num_cols, char_cols)"
   ]
  },
  {
   "cell_type": "code",
   "execution_count": 21,
   "metadata": {
    "ExecuteTime": {
     "end_time": "2019-06-25T07:11:34.932399Z",
     "start_time": "2019-06-25T05:47:48.717589Z"
    }
   },
   "outputs": [
    {
     "name": "stdout",
     "output_type": "stream",
     "text": [
      ">> 开始使用贝叶斯优化的TPE算法对 GBDT 进行超参数优化\n",
      "100%|██████████████████████████████████████████████| 100/100 [1:11:11<00:00, 28.92s/it, best loss: -0.8512065222910176]\n",
      ">> GBDT 最优超参数交叉验证结果为：训练集平均AUC：0.9322  验证集平均AUC：0.8512\n",
      ">> 模型超参数优化完成,最优模型为 GBDT\n"
     ]
    },
    {
     "data": {
      "image/png": "[encoded data removed]",
      "text/plain": [
       "<Figure size 432x288 with 1 Axes>"
      ]
     },
     "metadata": {
      "needs_background": "light"
     },
     "output_type": "display_data"
    }
   ],
   "source": [
    "#调参\n",
    "best_para_dict = am.para_optimize(X_train_trans, Y_train, mapper, model_list=['gbdt'])"
   ]
  },
  {
   "cell_type": "code",
   "execution_count": 22,
   "metadata": {
    "ExecuteTime": {
     "end_time": "2019-06-25T07:17:35.064028Z",
     "start_time": "2019-06-25T07:17:35.057033Z"
    }
   },
   "outputs": [
    {
     "data": {
      "text/plain": [
       "{'best': {'gbdt': {'learning_rate': 0.027360187181996815,\n",
       "   'max_depth': 9,\n",
       "   'max_features': 0.6695605900761501,\n",
       "   'min_samples_leaf': 70,\n",
       "   'min_samples_split': 340,\n",
       "   'n_estimators': 220,\n",
       "   'subsample': 0.9968467898569264}},\n",
       " 'xgb': {},\n",
       " 'lgbm': {},\n",
       " 'gbdt': {'learning_rate': 0.027360187181996815,\n",
       "  'max_depth': 9,\n",
       "  'max_features': 0.6695605900761501,\n",
       "  'min_samples_leaf': 70,\n",
       "  'min_samples_split': 340,\n",
       "  'n_estimators': 220,\n",
       "  'subsample': 0.9968467898569264},\n",
       " 'rf': {}}"
      ]
     },
     "execution_count": 22,
     "metadata": {},
     "output_type": "execute_result"
    }
   ],
   "source": [
    "best_para_dict"
   ]
  },
  {
   "cell_type": "code",
   "execution_count": 8,
   "metadata": {
    "ExecuteTime": {
     "end_time": "2019-06-26T02:15:54.505526Z",
     "start_time": "2019-06-26T02:15:54.497527Z"
    }
   },
   "outputs": [
    {
     "data": {
      "text/plain": [
       "GradientBoostingClassifier(criterion='friedman_mse', init=None,\n",
       "              learning_rate=0.027360187181996815, loss='deviance',\n",
       "              max_depth=9, max_features=0.6695605900761501,\n",
       "              max_leaf_nodes=None, min_impurity_decrease=0.0,\n",
       "              min_impurity_split=None, min_samples_leaf=70,\n",
       "              min_samples_split=340, min_weight_fraction_leaf=0.0,\n",
       "              n_estimators=220, n_iter_no_change=None, presort='auto',\n",
       "              random_state=1234, subsample=0.9968467898569264, tol=0.0001,\n",
       "              validation_fraction=0.1, verbose=0, warm_start=False)"
      ]
     },
     "execution_count": 8,
     "metadata": {},
     "output_type": "execute_result"
    }
   ],
   "source": [
    "# 建立模型\n",
    "from sklearn.ensemble import GradientBoostingClassifier\n",
    "\n",
    "model = GradientBoostingClassifier(**best_para_dict['gbdt'], random_state=1234)\n",
    "model"
   ]
  },
  {
   "cell_type": "markdown",
   "metadata": {},
   "source": [
    "## 衍生GBDT变量"
   ]
  },
  {
   "cell_type": "code",
   "execution_count": 9,
   "metadata": {
    "ExecuteTime": {
     "end_time": "2019-06-26T02:16:29.392525Z",
     "start_time": "2019-06-26T02:15:56.355633Z"
    }
   },
   "outputs": [
    {
     "data": {
      "text/html": [
       "<div>\n",
       "<style scoped>\n",
       "    .dataframe tbody tr th:only-of-type {\n",
       "        vertical-align: middle;\n",
       "    }\n",
       "\n",
       "    .dataframe tbody tr th {\n",
       "        vertical-align: top;\n",
       "    }\n",
       "\n",
       "    .dataframe thead th {\n",
       "        text-align: right;\n",
       "    }\n",
       "</style>\n",
       "<table border=\"1\" class=\"dataframe\">\n",
       "  <thead>\n",
       "    <tr style=\"text-align: right;\">\n",
       "      <th></th>\n",
       "      <th>CREDIT_SCORE &lt;= 379.5;APPL_AUTH_TIME &lt;= -23.5;ID_LEN &lt;= 19.0;NULL_COUNT &lt;= 6.5</th>\n",
       "      <th>CREDIT_SCORE &lt;= 379.5;APPL_AUTH_TIME &lt;= -23.5;ID_LEN &lt;= 19.0;NULL_COUNT &gt; 6.5</th>\n",
       "      <th>CREDIT_SCORE &lt;= 379.5;APPL_AUTH_TIME &lt;= -23.5;ID_LEN &gt; 19.0;ACCOUNT_GRADE &lt;= 0.5</th>\n",
       "      <th>CREDIT_SCORE &lt;= 379.5;APPL_AUTH_TIME &lt;= -23.5;ID_LEN &gt; 19.0;ACCOUNT_GRADE &gt; 0.5</th>\n",
       "      <th>CREDIT_SCORE &lt;= 379.5;APPL_AUTH_TIME &gt; -23.5;ACCOUNT_GRADE &lt;= -4.5;AUTH_TIME_DAY &lt;= 0.0</th>\n",
       "      <th>CREDIT_SCORE &lt;= 379.5;APPL_AUTH_TIME &gt; -23.5;ACCOUNT_GRADE &lt;= -4.5;AUTH_TIME_DAY &gt; 0.0</th>\n",
       "      <th>CREDIT_SCORE &lt;= 379.5;APPL_AUTH_TIME &gt; -23.5;ACCOUNT_GRADE &gt; -4.5;CHUXUKA_COUNT &lt;= 0.316667</th>\n",
       "      <th>CREDIT_SCORE &lt;= 379.5;APPL_AUTH_TIME &gt; -23.5;ACCOUNT_GRADE &gt; -4.5;CHUXUKA_COUNT &gt; 0.316667;BANKPRED &lt;= 0.03098;APPL_AUTH_TIME &lt;= -7.5;LATEST_APPL_ORDER &lt;= 10477070.0;BANKPRED &lt;= 0.028894</th>\n",
       "      <th>CREDIT_SCORE &lt;= 379.5;APPL_AUTH_TIME &gt; -23.5;ACCOUNT_GRADE &gt; -4.5;CHUXUKA_COUNT &gt; 0.316667;BANKPRED &lt;= 0.03098;APPL_AUTH_TIME &lt;= -7.5;LATEST_APPL_ORDER &lt;= 10477070.0;BANKPRED &gt; 0.028894;ID_LEN &lt;= 19.0</th>\n",
       "      <th>CREDIT_SCORE &lt;= 379.5;APPL_AUTH_TIME &gt; -23.5;ACCOUNT_GRADE &gt; -4.5;CHUXUKA_COUNT &gt; 0.316667;BANKPRED &lt;= 0.03098;APPL_AUTH_TIME &lt;= -7.5;LATEST_APPL_ORDER &lt;= 10477070.0;BANKPRED &gt; 0.028894;ID_LEN &gt; 19.0</th>\n",
       "      <th>...</th>\n",
       "      <th>USE_RATE &lt;= 1.037761;SEX &lt;= 1.5;CREDIT_SCORE &lt;= 575.5;USE_RATE &lt;= 0.993809;DUR_DAY &lt;= 1.44733955424256e+17;USE_RATE &lt;= 0.99038;DUR_DAY &gt; 9.838677864952627e+16</th>\n",
       "      <th>USE_RATE &lt;= 1.037761;SEX &lt;= 1.5;CREDIT_SCORE &lt;= 575.5;USE_RATE &lt;= 0.993809;DUR_DAY &lt;= 1.44733955424256e+17;USE_RATE &gt; 0.99038</th>\n",
       "      <th>USE_RATE &lt;= 1.037761;SEX &lt;= 1.5;CREDIT_SCORE &lt;= 575.5;USE_RATE &lt;= 0.993809;DUR_DAY &gt; 1.44733955424256e+17</th>\n",
       "      <th>USE_RATE &lt;= 1.037761;SEX &lt;= 1.5;CREDIT_SCORE &lt;= 575.5;USE_RATE &gt; 0.993809;APPL_AUTH_TIME &lt;= 78.5;WEEKDAY_COUNT &lt;= 0.914855;ACCOUNT_GRADE &lt;= 1.5</th>\n",
       "      <th>USE_RATE &lt;= 1.037761;SEX &lt;= 1.5;CREDIT_SCORE &lt;= 575.5;USE_RATE &gt; 0.993809;APPL_AUTH_TIME &lt;= 78.5;WEEKDAY_COUNT &lt;= 0.914855;ACCOUNT_GRADE &gt; 1.5</th>\n",
       "      <th>USE_RATE &lt;= 1.037761;SEX &lt;= 1.5;CREDIT_SCORE &gt; 575.5;APPL_AUTH_TIME &lt;= 11.5;APPL_AUTH_TIME &lt;= -12.5</th>\n",
       "      <th>USE_RATE &lt;= 1.037761;SEX &lt;= 1.5;CREDIT_SCORE &gt; 575.5;APPL_AUTH_TIME &lt;= 11.5;APPL_AUTH_TIME &gt; -12.5;ORDER_NULL_AVG &lt;= 1.58304</th>\n",
       "      <th>USE_RATE &lt;= 1.037761;SEX &lt;= 1.5;CREDIT_SCORE &gt; 575.5;APPL_AUTH_TIME &lt;= 11.5;APPL_AUTH_TIME &gt; -12.5;ORDER_NULL_AVG &gt; 1.58304</th>\n",
       "      <th>USE_RATE &lt;= 1.037761;SEX &gt; 1.5;AUTH_TIME_DAY &lt;= 27.5;NULL_COUNT &gt; 3.5;CREDIT_SCORE &gt; 315.5;LATEST_APPL_ORDER &lt;= 3120174.0;WEEKDAY_COUNT &lt;= 0.612573;NULL_COUNT &lt;= 6.5</th>\n",
       "      <th>USE_RATE &lt;= 1.037761;SEX &gt; 1.5;AUTH_TIME_DAY &lt;= 27.5;NULL_COUNT &gt; 3.5;CREDIT_SCORE &gt; 315.5;LATEST_APPL_ORDER &lt;= 3120174.0;WEEKDAY_COUNT &lt;= 0.612573;NULL_COUNT &gt; 6.5</th>\n",
       "    </tr>\n",
       "  </thead>\n",
       "  <tbody>\n",
       "    <tr>\n",
       "      <th>0</th>\n",
       "      <td>0</td>\n",
       "      <td>0</td>\n",
       "      <td>0</td>\n",
       "      <td>0</td>\n",
       "      <td>0</td>\n",
       "      <td>0</td>\n",
       "      <td>0</td>\n",
       "      <td>0</td>\n",
       "      <td>0</td>\n",
       "      <td>0</td>\n",
       "      <td>...</td>\n",
       "      <td>0</td>\n",
       "      <td>0</td>\n",
       "      <td>1</td>\n",
       "      <td>0</td>\n",
       "      <td>0</td>\n",
       "      <td>0</td>\n",
       "      <td>0</td>\n",
       "      <td>0</td>\n",
       "      <td>0</td>\n",
       "      <td>0</td>\n",
       "    </tr>\n",
       "    <tr>\n",
       "      <th>1</th>\n",
       "      <td>0</td>\n",
       "      <td>0</td>\n",
       "      <td>0</td>\n",
       "      <td>0</td>\n",
       "      <td>0</td>\n",
       "      <td>0</td>\n",
       "      <td>0</td>\n",
       "      <td>0</td>\n",
       "      <td>0</td>\n",
       "      <td>0</td>\n",
       "      <td>...</td>\n",
       "      <td>0</td>\n",
       "      <td>0</td>\n",
       "      <td>0</td>\n",
       "      <td>0</td>\n",
       "      <td>0</td>\n",
       "      <td>0</td>\n",
       "      <td>0</td>\n",
       "      <td>0</td>\n",
       "      <td>0</td>\n",
       "      <td>0</td>\n",
       "    </tr>\n",
       "    <tr>\n",
       "      <th>2</th>\n",
       "      <td>0</td>\n",
       "      <td>0</td>\n",
       "      <td>0</td>\n",
       "      <td>0</td>\n",
       "      <td>0</td>\n",
       "      <td>0</td>\n",
       "      <td>0</td>\n",
       "      <td>0</td>\n",
       "      <td>0</td>\n",
       "      <td>0</td>\n",
       "      <td>...</td>\n",
       "      <td>0</td>\n",
       "      <td>0</td>\n",
       "      <td>0</td>\n",
       "      <td>0</td>\n",
       "      <td>0</td>\n",
       "      <td>0</td>\n",
       "      <td>0</td>\n",
       "      <td>0</td>\n",
       "      <td>0</td>\n",
       "      <td>0</td>\n",
       "    </tr>\n",
       "    <tr>\n",
       "      <th>3</th>\n",
       "      <td>0</td>\n",
       "      <td>0</td>\n",
       "      <td>0</td>\n",
       "      <td>0</td>\n",
       "      <td>0</td>\n",
       "      <td>0</td>\n",
       "      <td>0</td>\n",
       "      <td>0</td>\n",
       "      <td>0</td>\n",
       "      <td>0</td>\n",
       "      <td>...</td>\n",
       "      <td>0</td>\n",
       "      <td>0</td>\n",
       "      <td>0</td>\n",
       "      <td>0</td>\n",
       "      <td>0</td>\n",
       "      <td>0</td>\n",
       "      <td>0</td>\n",
       "      <td>0</td>\n",
       "      <td>0</td>\n",
       "      <td>0</td>\n",
       "    </tr>\n",
       "    <tr>\n",
       "      <th>4</th>\n",
       "      <td>0</td>\n",
       "      <td>0</td>\n",
       "      <td>1</td>\n",
       "      <td>0</td>\n",
       "      <td>0</td>\n",
       "      <td>0</td>\n",
       "      <td>0</td>\n",
       "      <td>0</td>\n",
       "      <td>0</td>\n",
       "      <td>0</td>\n",
       "      <td>...</td>\n",
       "      <td>0</td>\n",
       "      <td>0</td>\n",
       "      <td>0</td>\n",
       "      <td>0</td>\n",
       "      <td>0</td>\n",
       "      <td>0</td>\n",
       "      <td>0</td>\n",
       "      <td>0</td>\n",
       "      <td>0</td>\n",
       "      <td>0</td>\n",
       "    </tr>\n",
       "  </tbody>\n",
       "</table>\n",
       "<p>5 rows × 11849 columns</p>\n",
       "</div>"
      ],
      "text/plain": [
       "   CREDIT_SCORE <= 379.5;APPL_AUTH_TIME <= -23.5;ID_LEN <= 19.0;NULL_COUNT <= 6.5  \\\n",
       "0                                                  0                                \n",
       "1                                                  0                                \n",
       "2                                                  0                                \n",
       "3                                                  0                                \n",
       "4                                                  0                                \n",
       "\n",
       "   CREDIT_SCORE <= 379.5;APPL_AUTH_TIME <= -23.5;ID_LEN <= 19.0;NULL_COUNT > 6.5  \\\n",
       "0                                                  0                               \n",
       "1                                                  0                               \n",
       "2                                                  0                               \n",
       "3                                                  0                               \n",
       "4                                                  0                               \n",
       "\n",
       "   CREDIT_SCORE <= 379.5;APPL_AUTH_TIME <= -23.5;ID_LEN > 19.0;ACCOUNT_GRADE <= 0.5  \\\n",
       "0                                                  0                                  \n",
       "1                                                  0                                  \n",
       "2                                                  0                                  \n",
       "3                                                  0                                  \n",
       "4                                                  1                                  \n",
       "\n",
       "   CREDIT_SCORE <= 379.5;APPL_AUTH_TIME <= -23.5;ID_LEN > 19.0;ACCOUNT_GRADE > 0.5  \\\n",
       "0                                                  0                                 \n",
       "1                                                  0                                 \n",
       "2                                                  0                                 \n",
       "3                                                  0                                 \n",
       "4                                                  0                                 \n",
       "\n",
       "   CREDIT_SCORE <= 379.5;APPL_AUTH_TIME > -23.5;ACCOUNT_GRADE <= -4.5;AUTH_TIME_DAY <= 0.0  \\\n",
       "0                                                  0                                         \n",
       "1                                                  0                                         \n",
       "2                                                  0                                         \n",
       "3                                                  0                                         \n",
       "4                                                  0                                         \n",
       "\n",
       "   CREDIT_SCORE <= 379.5;APPL_AUTH_TIME > -23.5;ACCOUNT_GRADE <= -4.5;AUTH_TIME_DAY > 0.0  \\\n",
       "0                                                  0                                        \n",
       "1                                                  0                                        \n",
       "2                                                  0                                        \n",
       "3                                                  0                                        \n",
       "4                                                  0                                        \n",
       "\n",
       "   CREDIT_SCORE <= 379.5;APPL_AUTH_TIME > -23.5;ACCOUNT_GRADE > -4.5;CHUXUKA_COUNT <= 0.316667  \\\n",
       "0                                                  0                                             \n",
       "1                                                  0                                             \n",
       "2                                                  0                                             \n",
       "3                                                  0                                             \n",
       "4                                                  0                                             \n",
       "\n",
       "   CREDIT_SCORE <= 379.5;APPL_AUTH_TIME > -23.5;ACCOUNT_GRADE > -4.5;CHUXUKA_COUNT > 0.316667;BANKPRED <= 0.03098;APPL_AUTH_TIME <= -7.5;LATEST_APPL_ORDER <= 10477070.0;BANKPRED <= 0.028894  \\\n",
       "0                                                  0                                                                                                                                            \n",
       "1                                                  0                                                                                                                                            \n",
       "2                                                  0                                                                                                                                            \n",
       "3                                                  0                                                                                                                                            \n",
       "4                                                  0                                                                                                                                            \n",
       "\n",
       "   CREDIT_SCORE <= 379.5;APPL_AUTH_TIME > -23.5;ACCOUNT_GRADE > -4.5;CHUXUKA_COUNT > 0.316667;BANKPRED <= 0.03098;APPL_AUTH_TIME <= -7.5;LATEST_APPL_ORDER <= 10477070.0;BANKPRED > 0.028894;ID_LEN <= 19.0  \\\n",
       "0                                                  0                                                                                                                                                          \n",
       "1                                                  0                                                                                                                                                          \n",
       "2                                                  0                                                                                                                                                          \n",
       "3                                                  0                                                                                                                                                          \n",
       "4                                                  0                                                                                                                                                          \n",
       "\n",
       "   CREDIT_SCORE <= 379.5;APPL_AUTH_TIME > -23.5;ACCOUNT_GRADE > -4.5;CHUXUKA_COUNT > 0.316667;BANKPRED <= 0.03098;APPL_AUTH_TIME <= -7.5;LATEST_APPL_ORDER <= 10477070.0;BANKPRED > 0.028894;ID_LEN > 19.0  \\\n",
       "0                                                  0                                                                                                                                                         \n",
       "1                                                  0                                                                                                                                                         \n",
       "2                                                  0                                                                                                                                                         \n",
       "3                                                  0                                                                                                                                                         \n",
       "4                                                  0                                                                                                                                                         \n",
       "\n",
       "   ...  \\\n",
       "0  ...   \n",
       "1  ...   \n",
       "2  ...   \n",
       "3  ...   \n",
       "4  ...   \n",
       "\n",
       "   USE_RATE <= 1.037761;SEX <= 1.5;CREDIT_SCORE <= 575.5;USE_RATE <= 0.993809;DUR_DAY <= 1.44733955424256e+17;USE_RATE <= 0.99038;DUR_DAY > 9.838677864952627e+16  \\\n",
       "0                                                  0                                                                                                                \n",
       "1                                                  0                                                                                                                \n",
       "2                                                  0                                                                                                                \n",
       "3                                                  0                                                                                                                \n",
       "4                                                  0                                                                                                                \n",
       "\n",
       "   USE_RATE <= 1.037761;SEX <= 1.5;CREDIT_SCORE <= 575.5;USE_RATE <= 0.993809;DUR_DAY <= 1.44733955424256e+17;USE_RATE > 0.99038  \\\n",
       "0                                                  0                                                                               \n",
       "1                                                  0                                                                               \n",
       "2                                                  0                                                                               \n",
       "3                                                  0                                                                               \n",
       "4                                                  0                                                                               \n",
       "\n",
       "   USE_RATE <= 1.037761;SEX <= 1.5;CREDIT_SCORE <= 575.5;USE_RATE <= 0.993809;DUR_DAY > 1.44733955424256e+17  \\\n",
       "0                                                  1                                                           \n",
       "1                                                  0                                                           \n",
       "2                                                  0                                                           \n",
       "3                                                  0                                                           \n",
       "4                                                  0                                                           \n",
       "\n",
       "   USE_RATE <= 1.037761;SEX <= 1.5;CREDIT_SCORE <= 575.5;USE_RATE > 0.993809;APPL_AUTH_TIME <= 78.5;WEEKDAY_COUNT <= 0.914855;ACCOUNT_GRADE <= 1.5  \\\n",
       "0                                                  0                                                                                                 \n",
       "1                                                  0                                                                                                 \n",
       "2                                                  0                                                                                                 \n",
       "3                                                  0                                                                                                 \n",
       "4                                                  0                                                                                                 \n",
       "\n",
       "   USE_RATE <= 1.037761;SEX <= 1.5;CREDIT_SCORE <= 575.5;USE_RATE > 0.993809;APPL_AUTH_TIME <= 78.5;WEEKDAY_COUNT <= 0.914855;ACCOUNT_GRADE > 1.5  \\\n",
       "0                                                  0                                                                                                \n",
       "1                                                  0                                                                                                \n",
       "2                                                  0                                                                                                \n",
       "3                                                  0                                                                                                \n",
       "4                                                  0                                                                                                \n",
       "\n",
       "   USE_RATE <= 1.037761;SEX <= 1.5;CREDIT_SCORE > 575.5;APPL_AUTH_TIME <= 11.5;APPL_AUTH_TIME <= -12.5  \\\n",
       "0                                                  0                                                     \n",
       "1                                                  0                                                     \n",
       "2                                                  0                                                     \n",
       "3                                                  0                                                     \n",
       "4                                                  0                                                     \n",
       "\n",
       "   USE_RATE <= 1.037761;SEX <= 1.5;CREDIT_SCORE > 575.5;APPL_AUTH_TIME <= 11.5;APPL_AUTH_TIME > -12.5;ORDER_NULL_AVG <= 1.58304  \\\n",
       "0                                                  0                                                                              \n",
       "1                                                  0                                                                              \n",
       "2                                                  0                                                                              \n",
       "3                                                  0                                                                              \n",
       "4                                                  0                                                                              \n",
       "\n",
       "   USE_RATE <= 1.037761;SEX <= 1.5;CREDIT_SCORE > 575.5;APPL_AUTH_TIME <= 11.5;APPL_AUTH_TIME > -12.5;ORDER_NULL_AVG > 1.58304  \\\n",
       "0                                                  0                                                                             \n",
       "1                                                  0                                                                             \n",
       "2                                                  0                                                                             \n",
       "3                                                  0                                                                             \n",
       "4                                                  0                                                                             \n",
       "\n",
       "   USE_RATE <= 1.037761;SEX > 1.5;AUTH_TIME_DAY <= 27.5;NULL_COUNT > 3.5;CREDIT_SCORE > 315.5;LATEST_APPL_ORDER <= 3120174.0;WEEKDAY_COUNT <= 0.612573;NULL_COUNT <= 6.5  \\\n",
       "0                                                  0                                                                                                                       \n",
       "1                                                  0                                                                                                                       \n",
       "2                                                  0                                                                                                                       \n",
       "3                                                  0                                                                                                                       \n",
       "4                                                  0                                                                                                                       \n",
       "\n",
       "   USE_RATE <= 1.037761;SEX > 1.5;AUTH_TIME_DAY <= 27.5;NULL_COUNT > 3.5;CREDIT_SCORE > 315.5;LATEST_APPL_ORDER <= 3120174.0;WEEKDAY_COUNT <= 0.612573;NULL_COUNT > 6.5  \n",
       "0                                                  0                                                                                                                     \n",
       "1                                                  0                                                                                                                     \n",
       "2                                                  0                                                                                                                     \n",
       "3                                                  0                                                                                                                     \n",
       "4                                                  0                                                                                                                     \n",
       "\n",
       "[5 rows x 11849 columns]"
      ]
     },
     "execution_count": 9,
     "metadata": {},
     "output_type": "execute_result"
    }
   ],
   "source": [
    "# 衍生gbdt变量\n",
    "gbdt_path_var = get_gbdt_path_var(X_train_trans, model, y=Y_train, one_hot=False)\n",
    "gbdt_path_var.head()"
   ]
  },
  {
   "cell_type": "code",
   "execution_count": 10,
   "metadata": {
    "ExecuteTime": {
     "end_time": "2019-06-26T02:22:37.648613Z",
     "start_time": "2019-06-26T02:16:30.762606Z"
    }
   },
   "outputs": [
    {
     "data": {
      "text/html": [
       "<div>\n",
       "<style scoped>\n",
       "    .dataframe tbody tr th:only-of-type {\n",
       "        vertical-align: middle;\n",
       "    }\n",
       "\n",
       "    .dataframe tbody tr th {\n",
       "        vertical-align: top;\n",
       "    }\n",
       "\n",
       "    .dataframe thead th {\n",
       "        text-align: right;\n",
       "    }\n",
       "</style>\n",
       "<table border=\"1\" class=\"dataframe\">\n",
       "  <thead>\n",
       "    <tr style=\"text-align: right;\">\n",
       "      <th></th>\n",
       "      <th>CREDIT_SCORE &lt;= 379.5;APPL_AUTH_TIME &lt;= -23.5;ID_LEN &lt;= 19.0;NULL_COUNT &lt;= 6.5</th>\n",
       "      <th>CREDIT_SCORE &lt;= 379.5;APPL_AUTH_TIME &lt;= -23.5;ID_LEN &lt;= 19.0;NULL_COUNT &gt; 6.5</th>\n",
       "      <th>CREDIT_SCORE &lt;= 379.5;APPL_AUTH_TIME &lt;= -23.5;ID_LEN &gt; 19.0;ACCOUNT_GRADE &lt;= 0.5</th>\n",
       "      <th>CREDIT_SCORE &lt;= 379.5;APPL_AUTH_TIME &lt;= -23.5;ID_LEN &gt; 19.0;ACCOUNT_GRADE &gt; 0.5</th>\n",
       "      <th>CREDIT_SCORE &lt;= 379.5;APPL_AUTH_TIME &gt; -23.5;ACCOUNT_GRADE &lt;= -4.5;AUTH_TIME_DAY &lt;= 0.0</th>\n",
       "      <th>CREDIT_SCORE &lt;= 379.5;APPL_AUTH_TIME &gt; -23.5;ACCOUNT_GRADE &lt;= -4.5;AUTH_TIME_DAY &gt; 0.0</th>\n",
       "      <th>CREDIT_SCORE &lt;= 379.5;APPL_AUTH_TIME &gt; -23.5;ACCOUNT_GRADE &gt; -4.5;CHUXUKA_COUNT &lt;= 0.316667</th>\n",
       "      <th>CREDIT_SCORE &lt;= 379.5;APPL_AUTH_TIME &gt; -23.5;ACCOUNT_GRADE &gt; -4.5;CHUXUKA_COUNT &gt; 0.316667;BANKPRED &lt;= 0.03098;APPL_AUTH_TIME &lt;= -7.5;LATEST_APPL_ORDER &lt;= 10477070.0;BANKPRED &lt;= 0.028894</th>\n",
       "      <th>CREDIT_SCORE &lt;= 379.5;APPL_AUTH_TIME &gt; -23.5;ACCOUNT_GRADE &gt; -4.5;CHUXUKA_COUNT &gt; 0.316667;BANKPRED &lt;= 0.03098;APPL_AUTH_TIME &lt;= -7.5;LATEST_APPL_ORDER &lt;= 10477070.0;BANKPRED &gt; 0.028894;ID_LEN &lt;= 19.0</th>\n",
       "      <th>CREDIT_SCORE &lt;= 379.5;APPL_AUTH_TIME &gt; -23.5;ACCOUNT_GRADE &gt; -4.5;CHUXUKA_COUNT &gt; 0.316667;BANKPRED &lt;= 0.03098;APPL_AUTH_TIME &lt;= -7.5;LATEST_APPL_ORDER &lt;= 10477070.0;BANKPRED &gt; 0.028894;ID_LEN &gt; 19.0</th>\n",
       "      <th>...</th>\n",
       "      <th>USE_RATE &lt;= 1.037761;SEX &lt;= 1.5;CREDIT_SCORE &lt;= 575.5;USE_RATE &lt;= 0.993809;DUR_DAY &lt;= 1.44733955424256e+17;USE_RATE &lt;= 0.99038;DUR_DAY &gt; 9.838677864952627e+16</th>\n",
       "      <th>USE_RATE &lt;= 1.037761;SEX &lt;= 1.5;CREDIT_SCORE &lt;= 575.5;USE_RATE &lt;= 0.993809;DUR_DAY &lt;= 1.44733955424256e+17;USE_RATE &gt; 0.99038</th>\n",
       "      <th>USE_RATE &lt;= 1.037761;SEX &lt;= 1.5;CREDIT_SCORE &lt;= 575.5;USE_RATE &lt;= 0.993809;DUR_DAY &gt; 1.44733955424256e+17</th>\n",
       "      <th>USE_RATE &lt;= 1.037761;SEX &lt;= 1.5;CREDIT_SCORE &lt;= 575.5;USE_RATE &gt; 0.993809;APPL_AUTH_TIME &lt;= 78.5;WEEKDAY_COUNT &lt;= 0.914855;ACCOUNT_GRADE &lt;= 1.5</th>\n",
       "      <th>USE_RATE &lt;= 1.037761;SEX &lt;= 1.5;CREDIT_SCORE &lt;= 575.5;USE_RATE &gt; 0.993809;APPL_AUTH_TIME &lt;= 78.5;WEEKDAY_COUNT &lt;= 0.914855;ACCOUNT_GRADE &gt; 1.5</th>\n",
       "      <th>USE_RATE &lt;= 1.037761;SEX &lt;= 1.5;CREDIT_SCORE &gt; 575.5;APPL_AUTH_TIME &lt;= 11.5;APPL_AUTH_TIME &lt;= -12.5</th>\n",
       "      <th>USE_RATE &lt;= 1.037761;SEX &lt;= 1.5;CREDIT_SCORE &gt; 575.5;APPL_AUTH_TIME &lt;= 11.5;APPL_AUTH_TIME &gt; -12.5;ORDER_NULL_AVG &lt;= 1.58304</th>\n",
       "      <th>USE_RATE &lt;= 1.037761;SEX &lt;= 1.5;CREDIT_SCORE &gt; 575.5;APPL_AUTH_TIME &lt;= 11.5;APPL_AUTH_TIME &gt; -12.5;ORDER_NULL_AVG &gt; 1.58304</th>\n",
       "      <th>USE_RATE &lt;= 1.037761;SEX &gt; 1.5;AUTH_TIME_DAY &lt;= 27.5;NULL_COUNT &gt; 3.5;CREDIT_SCORE &gt; 315.5;LATEST_APPL_ORDER &lt;= 3120174.0;WEEKDAY_COUNT &lt;= 0.612573;NULL_COUNT &lt;= 6.5</th>\n",
       "      <th>USE_RATE &lt;= 1.037761;SEX &gt; 1.5;AUTH_TIME_DAY &lt;= 27.5;NULL_COUNT &gt; 3.5;CREDIT_SCORE &gt; 315.5;LATEST_APPL_ORDER &lt;= 3120174.0;WEEKDAY_COUNT &lt;= 0.612573;NULL_COUNT &gt; 6.5</th>\n",
       "    </tr>\n",
       "  </thead>\n",
       "  <tbody>\n",
       "    <tr>\n",
       "      <th>26242</th>\n",
       "      <td>0</td>\n",
       "      <td>0</td>\n",
       "      <td>0</td>\n",
       "      <td>0</td>\n",
       "      <td>0</td>\n",
       "      <td>0</td>\n",
       "      <td>0</td>\n",
       "      <td>0</td>\n",
       "      <td>0</td>\n",
       "      <td>0</td>\n",
       "      <td>...</td>\n",
       "      <td>0</td>\n",
       "      <td>0</td>\n",
       "      <td>1</td>\n",
       "      <td>0</td>\n",
       "      <td>0</td>\n",
       "      <td>0</td>\n",
       "      <td>0</td>\n",
       "      <td>0</td>\n",
       "      <td>0</td>\n",
       "      <td>0</td>\n",
       "    </tr>\n",
       "    <tr>\n",
       "      <th>28803</th>\n",
       "      <td>0</td>\n",
       "      <td>0</td>\n",
       "      <td>0</td>\n",
       "      <td>0</td>\n",
       "      <td>0</td>\n",
       "      <td>0</td>\n",
       "      <td>0</td>\n",
       "      <td>0</td>\n",
       "      <td>0</td>\n",
       "      <td>0</td>\n",
       "      <td>...</td>\n",
       "      <td>0</td>\n",
       "      <td>0</td>\n",
       "      <td>0</td>\n",
       "      <td>0</td>\n",
       "      <td>0</td>\n",
       "      <td>0</td>\n",
       "      <td>0</td>\n",
       "      <td>0</td>\n",
       "      <td>0</td>\n",
       "      <td>0</td>\n",
       "    </tr>\n",
       "    <tr>\n",
       "      <th>7655</th>\n",
       "      <td>0</td>\n",
       "      <td>0</td>\n",
       "      <td>0</td>\n",
       "      <td>0</td>\n",
       "      <td>0</td>\n",
       "      <td>0</td>\n",
       "      <td>0</td>\n",
       "      <td>0</td>\n",
       "      <td>0</td>\n",
       "      <td>0</td>\n",
       "      <td>...</td>\n",
       "      <td>0</td>\n",
       "      <td>0</td>\n",
       "      <td>0</td>\n",
       "      <td>0</td>\n",
       "      <td>0</td>\n",
       "      <td>0</td>\n",
       "      <td>0</td>\n",
       "      <td>0</td>\n",
       "      <td>0</td>\n",
       "      <td>0</td>\n",
       "    </tr>\n",
       "    <tr>\n",
       "      <th>24551</th>\n",
       "      <td>0</td>\n",
       "      <td>0</td>\n",
       "      <td>0</td>\n",
       "      <td>0</td>\n",
       "      <td>0</td>\n",
       "      <td>0</td>\n",
       "      <td>0</td>\n",
       "      <td>0</td>\n",
       "      <td>0</td>\n",
       "      <td>0</td>\n",
       "      <td>...</td>\n",
       "      <td>0</td>\n",
       "      <td>0</td>\n",
       "      <td>0</td>\n",
       "      <td>0</td>\n",
       "      <td>0</td>\n",
       "      <td>0</td>\n",
       "      <td>0</td>\n",
       "      <td>0</td>\n",
       "      <td>0</td>\n",
       "      <td>0</td>\n",
       "    </tr>\n",
       "    <tr>\n",
       "      <th>31764</th>\n",
       "      <td>0</td>\n",
       "      <td>0</td>\n",
       "      <td>1</td>\n",
       "      <td>0</td>\n",
       "      <td>0</td>\n",
       "      <td>0</td>\n",
       "      <td>0</td>\n",
       "      <td>0</td>\n",
       "      <td>0</td>\n",
       "      <td>0</td>\n",
       "      <td>...</td>\n",
       "      <td>0</td>\n",
       "      <td>0</td>\n",
       "      <td>0</td>\n",
       "      <td>0</td>\n",
       "      <td>0</td>\n",
       "      <td>0</td>\n",
       "      <td>0</td>\n",
       "      <td>0</td>\n",
       "      <td>0</td>\n",
       "      <td>0</td>\n",
       "    </tr>\n",
       "  </tbody>\n",
       "</table>\n",
       "<p>5 rows × 11849 columns</p>\n",
       "</div>"
      ],
      "text/plain": [
       "       CREDIT_SCORE <= 379.5;APPL_AUTH_TIME <= -23.5;ID_LEN <= 19.0;NULL_COUNT <= 6.5  \\\n",
       "26242                                                  0                                \n",
       "28803                                                  0                                \n",
       "7655                                                   0                                \n",
       "24551                                                  0                                \n",
       "31764                                                  0                                \n",
       "\n",
       "       CREDIT_SCORE <= 379.5;APPL_AUTH_TIME <= -23.5;ID_LEN <= 19.0;NULL_COUNT > 6.5  \\\n",
       "26242                                                  0                               \n",
       "28803                                                  0                               \n",
       "7655                                                   0                               \n",
       "24551                                                  0                               \n",
       "31764                                                  0                               \n",
       "\n",
       "       CREDIT_SCORE <= 379.5;APPL_AUTH_TIME <= -23.5;ID_LEN > 19.0;ACCOUNT_GRADE <= 0.5  \\\n",
       "26242                                                  0                                  \n",
       "28803                                                  0                                  \n",
       "7655                                                   0                                  \n",
       "24551                                                  0                                  \n",
       "31764                                                  1                                  \n",
       "\n",
       "       CREDIT_SCORE <= 379.5;APPL_AUTH_TIME <= -23.5;ID_LEN > 19.0;ACCOUNT_GRADE > 0.5  \\\n",
       "26242                                                  0                                 \n",
       "28803                                                  0                                 \n",
       "7655                                                   0                                 \n",
       "24551                                                  0                                 \n",
       "31764                                                  0                                 \n",
       "\n",
       "       CREDIT_SCORE <= 379.5;APPL_AUTH_TIME > -23.5;ACCOUNT_GRADE <= -4.5;AUTH_TIME_DAY <= 0.0  \\\n",
       "26242                                                  0                                         \n",
       "28803                                                  0                                         \n",
       "7655                                                   0                                         \n",
       "24551                                                  0                                         \n",
       "31764                                                  0                                         \n",
       "\n",
       "       CREDIT_SCORE <= 379.5;APPL_AUTH_TIME > -23.5;ACCOUNT_GRADE <= -4.5;AUTH_TIME_DAY > 0.0  \\\n",
       "26242                                                  0                                        \n",
       "28803                                                  0                                        \n",
       "7655                                                   0                                        \n",
       "24551                                                  0                                        \n",
       "31764                                                  0                                        \n",
       "\n",
       "       CREDIT_SCORE <= 379.5;APPL_AUTH_TIME > -23.5;ACCOUNT_GRADE > -4.5;CHUXUKA_COUNT <= 0.316667  \\\n",
       "26242                                                  0                                             \n",
       "28803                                                  0                                             \n",
       "7655                                                   0                                             \n",
       "24551                                                  0                                             \n",
       "31764                                                  0                                             \n",
       "\n",
       "       CREDIT_SCORE <= 379.5;APPL_AUTH_TIME > -23.5;ACCOUNT_GRADE > -4.5;CHUXUKA_COUNT > 0.316667;BANKPRED <= 0.03098;APPL_AUTH_TIME <= -7.5;LATEST_APPL_ORDER <= 10477070.0;BANKPRED <= 0.028894  \\\n",
       "26242                                                  0                                                                                                                                            \n",
       "28803                                                  0                                                                                                                                            \n",
       "7655                                                   0                                                                                                                                            \n",
       "24551                                                  0                                                                                                                                            \n",
       "31764                                                  0                                                                                                                                            \n",
       "\n",
       "       CREDIT_SCORE <= 379.5;APPL_AUTH_TIME > -23.5;ACCOUNT_GRADE > -4.5;CHUXUKA_COUNT > 0.316667;BANKPRED <= 0.03098;APPL_AUTH_TIME <= -7.5;LATEST_APPL_ORDER <= 10477070.0;BANKPRED > 0.028894;ID_LEN <= 19.0  \\\n",
       "26242                                                  0                                                                                                                                                          \n",
       "28803                                                  0                                                                                                                                                          \n",
       "7655                                                   0                                                                                                                                                          \n",
       "24551                                                  0                                                                                                                                                          \n",
       "31764                                                  0                                                                                                                                                          \n",
       "\n",
       "       CREDIT_SCORE <= 379.5;APPL_AUTH_TIME > -23.5;ACCOUNT_GRADE > -4.5;CHUXUKA_COUNT > 0.316667;BANKPRED <= 0.03098;APPL_AUTH_TIME <= -7.5;LATEST_APPL_ORDER <= 10477070.0;BANKPRED > 0.028894;ID_LEN > 19.0  \\\n",
       "26242                                                  0                                                                                                                                                         \n",
       "28803                                                  0                                                                                                                                                         \n",
       "7655                                                   0                                                                                                                                                         \n",
       "24551                                                  0                                                                                                                                                         \n",
       "31764                                                  0                                                                                                                                                         \n",
       "\n",
       "       ...  \\\n",
       "26242  ...   \n",
       "28803  ...   \n",
       "7655   ...   \n",
       "24551  ...   \n",
       "31764  ...   \n",
       "\n",
       "       USE_RATE <= 1.037761;SEX <= 1.5;CREDIT_SCORE <= 575.5;USE_RATE <= 0.993809;DUR_DAY <= 1.44733955424256e+17;USE_RATE <= 0.99038;DUR_DAY > 9.838677864952627e+16  \\\n",
       "26242                                                  0                                                                                                                \n",
       "28803                                                  0                                                                                                                \n",
       "7655                                                   0                                                                                                                \n",
       "24551                                                  0                                                                                                                \n",
       "31764                                                  0                                                                                                                \n",
       "\n",
       "       USE_RATE <= 1.037761;SEX <= 1.5;CREDIT_SCORE <= 575.5;USE_RATE <= 0.993809;DUR_DAY <= 1.44733955424256e+17;USE_RATE > 0.99038  \\\n",
       "26242                                                  0                                                                               \n",
       "28803                                                  0                                                                               \n",
       "7655                                                   0                                                                               \n",
       "24551                                                  0                                                                               \n",
       "31764                                                  0                                                                               \n",
       "\n",
       "       USE_RATE <= 1.037761;SEX <= 1.5;CREDIT_SCORE <= 575.5;USE_RATE <= 0.993809;DUR_DAY > 1.44733955424256e+17  \\\n",
       "26242                                                  1                                                           \n",
       "28803                                                  0                                                           \n",
       "7655                                                   0                                                           \n",
       "24551                                                  0                                                           \n",
       "31764                                                  0                                                           \n",
       "\n",
       "       USE_RATE <= 1.037761;SEX <= 1.5;CREDIT_SCORE <= 575.5;USE_RATE > 0.993809;APPL_AUTH_TIME <= 78.5;WEEKDAY_COUNT <= 0.914855;ACCOUNT_GRADE <= 1.5  \\\n",
       "26242                                                  0                                                                                                 \n",
       "28803                                                  0                                                                                                 \n",
       "7655                                                   0                                                                                                 \n",
       "24551                                                  0                                                                                                 \n",
       "31764                                                  0                                                                                                 \n",
       "\n",
       "       USE_RATE <= 1.037761;SEX <= 1.5;CREDIT_SCORE <= 575.5;USE_RATE > 0.993809;APPL_AUTH_TIME <= 78.5;WEEKDAY_COUNT <= 0.914855;ACCOUNT_GRADE > 1.5  \\\n",
       "26242                                                  0                                                                                                \n",
       "28803                                                  0                                                                                                \n",
       "7655                                                   0                                                                                                \n",
       "24551                                                  0                                                                                                \n",
       "31764                                                  0                                                                                                \n",
       "\n",
       "       USE_RATE <= 1.037761;SEX <= 1.5;CREDIT_SCORE > 575.5;APPL_AUTH_TIME <= 11.5;APPL_AUTH_TIME <= -12.5  \\\n",
       "26242                                                  0                                                     \n",
       "28803                                                  0                                                     \n",
       "7655                                                   0                                                     \n",
       "24551                                                  0                                                     \n",
       "31764                                                  0                                                     \n",
       "\n",
       "       USE_RATE <= 1.037761;SEX <= 1.5;CREDIT_SCORE > 575.5;APPL_AUTH_TIME <= 11.5;APPL_AUTH_TIME > -12.5;ORDER_NULL_AVG <= 1.58304  \\\n",
       "26242                                                  0                                                                              \n",
       "28803                                                  0                                                                              \n",
       "7655                                                   0                                                                              \n",
       "24551                                                  0                                                                              \n",
       "31764                                                  0                                                                              \n",
       "\n",
       "       USE_RATE <= 1.037761;SEX <= 1.5;CREDIT_SCORE > 575.5;APPL_AUTH_TIME <= 11.5;APPL_AUTH_TIME > -12.5;ORDER_NULL_AVG > 1.58304  \\\n",
       "26242                                                  0                                                                             \n",
       "28803                                                  0                                                                             \n",
       "7655                                                   0                                                                             \n",
       "24551                                                  0                                                                             \n",
       "31764                                                  0                                                                             \n",
       "\n",
       "       USE_RATE <= 1.037761;SEX > 1.5;AUTH_TIME_DAY <= 27.5;NULL_COUNT > 3.5;CREDIT_SCORE > 315.5;LATEST_APPL_ORDER <= 3120174.0;WEEKDAY_COUNT <= 0.612573;NULL_COUNT <= 6.5  \\\n",
       "26242                                                  0                                                                                                                       \n",
       "28803                                                  0                                                                                                                       \n",
       "7655                                                   0                                                                                                                       \n",
       "24551                                                  0                                                                                                                       \n",
       "31764                                                  0                                                                                                                       \n",
       "\n",
       "       USE_RATE <= 1.037761;SEX > 1.5;AUTH_TIME_DAY <= 27.5;NULL_COUNT > 3.5;CREDIT_SCORE > 315.5;LATEST_APPL_ORDER <= 3120174.0;WEEKDAY_COUNT <= 0.612573;NULL_COUNT > 6.5  \n",
       "26242                                                  0                                                                                                                     \n",
       "28803                                                  0                                                                                                                     \n",
       "7655                                                   0                                                                                                                     \n",
       "24551                                                  0                                                                                                                     \n",
       "31764                                                  0                                                                                                                     \n",
       "\n",
       "[5 rows x 11849 columns]"
      ]
     },
     "execution_count": 10,
     "metadata": {},
     "output_type": "execute_result"
    }
   ],
   "source": [
    "# 回溯gbdt变量给其他数据集\n",
    "X_train_gbdt = get_data_gbdt(X_train_trans, gbdt_path_var.columns)\n",
    "X_train_gbdt.head()"
   ]
  },
  {
   "cell_type": "code",
   "execution_count": 11,
   "metadata": {
    "ExecuteTime": {
     "end_time": "2019-06-26T02:25:15.274642Z",
     "start_time": "2019-06-26T02:22:39.339709Z"
    },
    "scrolled": true
   },
   "outputs": [
    {
     "name": "stdout",
     "output_type": "stream",
     "text": [
      "第一个数据集的维度: (23842, 11850)\n",
      "第二个数据集的维度: (23842, 11850)\n",
      "两个数据集公共变量数: 11849\n",
      "两个数据集相同 index 样本数: 23842\n",
      "变量 CREDIT_SCORE > -4.5;ACCOUNT_GRADE > -4.5;ORDER_NULL_AVG <= 3.231801;BANKPRED <= 0.030044;USE_RATE <= 0.862438;AMT_ORDER_STD > 1190.839417;AMT_ORDER_STD <= 1743.890442 一致率：0.9999580572099656\n",
      "变量 CREDIT_SCORE > 375.5;NULL_COUNT <= 6.5;CREDIT_SCORE > 486.5;BANKPRED <= 0.031824;ID_LEN <= 19.0;USE_RATE > 0.862438;APPL_AUTH_TIME > 285.0 一致率：0.9999580572099656\n",
      "变量 ACCOUNT_GRADE > -4.5;SEX <= 1.5;CREDIT_SCORE <= 575.5;AMT_ORDER_SUM <= 53563.904297;NULL_COUNT <= 6.5;APPL_AUTH_TIME <= 734.0;APPL_AUTH_TIME > -86.5;USE_RATE <= 0.862438;USE_RATE > -4.5 一致率：0.9999580572099656\n",
      "变量 ACCOUNT_GRADE > -4.5;SEX <= 1.5;CREDIT_SCORE <= 575.5;AMT_ORDER_SUM <= 53563.904297;NULL_COUNT <= 6.5;APPL_AUTH_TIME <= 734.0;APPL_AUTH_TIME > -86.5;USE_RATE > 0.862438;ORDER_NULL_AVG > 2.147895 一致率：0.9999580572099656\n",
      "变量 CREDIT_SCORE > 362.5;APPL_AUTH_TIME > 67.5;APPL_AUTH_TIME > 73.5;USE_RATE > 0.862438;ORDER_NULL_AVG > 2.161105;BANKPRED <= 0.019969 一致率：0.9999580572099656\n",
      "变量 ACCOUNT_GRADE > -4.5;NULL_COUNT <= 6.5;ACCOUNT_GRADE > 1.5;AMT_ORDER_SUM > 1924.179993;CREDIT_SCORE > 466.5;BANKPRED <= 0.031824;USE_RATE > 0.862438;BANKPRED <= 0.020504 一致率：0.9999580572099656\n",
      "变量 CREDIT_SCORE > 362.5;APPL_AUTH_TIME > 67.5;APPL_AUTH_TIME > 73.5;USE_RATE <= 0.862438;CREDIT_SCORE <= 549.5;COUNT_REC_INFO > 0.5;AUTH_TIME_DAY > 3.5;EVENING_ORDER_COUNT > 0.326124;AUTH_TIME_DAY <= 28.5 一致率：0.9999580572099656\n",
      "变量 ACCOUNT_GRADE > -4.5;SEX <= 1.5;CREDIT_SCORE <= 575.5;NULL_COUNT <= 6.5;USE_RATE > 0.862438;BANKPRED <= 0.020205 一致率：0.9999580572099656\n",
      "变量 ACCOUNT_GRADE > -4.5;ORDERPRED <= 0.027497;CREDIT_SCORE > 362.5;SEX <= 1.5;CREDIT_SCORE <= 575.5;APPL_AUTH_TIME > -20.5;AUTH_TIME_DAY <= 30.5;USE_RATE <= 0.862438;USE_RATE > 0.000127 一致率：0.9999580572099656\n",
      "变量 SEX <= 1.5;NULL_COUNT <= 6.5;CREDIT_SCORE <= 575.5;BANK_RATE_AVG <= 0.02578;USE_RATE <= 0.862438;AMT_ORDER_MEAN > 207.056061;LATEST_APPL_ORDER > 631020.0;AMT_ORDER_SKEW > 0.335173;CHUXUKA_COUNT <= 0.775 一致率：0.9999580572099656\n",
      "变量 CREDIT_SCORE > 375.5;NULL_COUNT <= 6.5;CREDIT_SCORE > 486.5;BANKPRED <= 0.031824;ID_LEN <= 19.0;USE_RATE <= 0.862438;ORDER_NULL_AVG > 1.990196;APPL_AUTH_TIME > -5.5;APPL_AUTH_TIME > 449.5 一致率：0.9999580572099656\n",
      "变量 ACCOUNT_GRADE > -4.5;NULL_COUNT <= 6.5;ACCOUNT_GRADE > 1.5;AMT_ORDER_SUM > 1924.179993;CREDIT_SCORE > 466.5;BANKPRED <= 0.031824;USE_RATE <= 0.862438;ORDER_NULL_AVG > 0.444994;AMT_ORDER_SKEW <= 3.730513 一致率：0.9999580572099656\n",
      "变量 ACCOUNT_GRADE > -4.5;ORDERPRED <= 0.027497;CREDIT_SCORE > 362.5;SEX <= 1.5;CREDIT_SCORE <= 575.5;APPL_AUTH_TIME > -20.5;AUTH_TIME_DAY <= 30.5;USE_RATE > 0.862438;ORDER_NULL_AVG > 2.161105 一致率：0.9999580572099656\n",
      "变量 NULL_COUNT <= 6.5;CREDIT_SCORE > 369.5;ACCOUNT_GRADE > -4.5;BANK_RATE_AVG <= 0.030603;APPL_AUTH_TIME > -51.5;ORDERPRED <= 0.047533;CREDIT_SCORE <= 575.5;USE_RATE > 0.862438;ID_LEN <= 19.0 一致率：0.9999580572099656\n",
      "变量 CREDIT_SCORE > -4.5;ACCOUNT_GRADE > -4.5;ORDER_NULL_AVG <= 3.231801;BANKPRED <= 0.030044;USE_RATE > 0.862438;BANKPRED <= 0.020205;BANKPRED <= 0.015944;CREDIT_SCORE <= 525.5 一致率：0.9999580572099656\n",
      "变量 NULL_COUNT <= 6.5;CREDIT_SCORE > 369.5;ACCOUNT_GRADE > -4.5;BANK_RATE_AVG <= 0.030603;APPL_AUTH_TIME > -51.5;ORDERPRED <= 0.047533;CREDIT_SCORE <= 575.5;USE_RATE <= 0.862438;USE_RATE > 0.002959 一致率：0.9999580572099656\n",
      "变量 SEX <= 1.5;NULL_COUNT <= 6.5;CREDIT_SCORE <= 575.5;BANK_RATE_AVG <= 0.02578;USE_RATE > 0.862438;ID_LEN <= 19.0;CREDIT_SCORE > 449.5;DUR_DAY <= 7.37292339642368e+16;ORDER_NULL_AVG > 2.15301 一致率：0.9999580572099656\n",
      "变量 ACCOUNT_GRADE > -4.5;SEX <= 1.5;CREDIT_SCORE <= 575.5;NULL_COUNT <= 6.5;USE_RATE <= 0.862438;USE_RATE > -4.5;AUTH_TIME_DAY > 0.0;APPL_AUTH_TIME > 244.5;CHUXUKA_COUNT <= 0.732143 一致率：0.9999580572099656\n"
     ]
    }
   ],
   "source": [
    "# 对两个数据集是否一致进行检验\n",
    "# 数据集还与下面代码操作后的数据集一致\n",
    "# X_train_gbdt = model.apply(X_train_mapper)[:, :, 0]\n",
    "# enc = OneHotEncoder()\n",
    "# X_train_gbdt = np.array(enc.fit_transform(X_train_gbdt).toarray())\n",
    "# 但由于get_gbdt_path_var有进行一个去重的操作，列数可能会不同，这里不再检验\n",
    "\n",
    "gbdt_path_var.index = X_train_gbdt.index\n",
    "compare_all = dataframe_compare_all(gbdt_path_var.reset_index(), X_train_gbdt.reset_index(), 'index', verbose=1)\n",
    "\n",
    "# 两个数据集一定是完全一致的，如果不一致一般因为有变量的小数位过长，在提取子树结构时，每个节点判断的阈值精度取了6位\n",
    "# 这精准的6位有可能让路径的信息损失，需让原数据集的小数位进行四舍五入，或者将get_gbdt_path_var的参数precision增大"
   ]
  },
  {
   "cell_type": "code",
   "execution_count": 12,
   "metadata": {
    "ExecuteTime": {
     "end_time": "2019-06-26T02:34:33.263329Z",
     "start_time": "2019-06-26T02:25:17.211753Z"
    }
   },
   "outputs": [
    {
     "name": "stdout",
     "output_type": "stream",
     "text": [
      "第一个数据集的维度: (23842, 11850)\n",
      "第二个数据集的维度: (23842, 11850)\n",
      "两个数据集公共变量数: 11849\n",
      "两个数据集相同 index 样本数: 23842\n",
      "所有变量均一致\n"
     ]
    }
   ],
   "source": [
    "# 增大精度\n",
    "gbdt_path_var = get_gbdt_path_var(X_train_trans, model, y=Y_train, one_hot=False, precision=10)\n",
    "X_train_gbdt = get_data_gbdt(X_train_trans, gbdt_path_var.columns)\n",
    "gbdt_path_var.index = X_train_gbdt.index\n",
    "compare_all = dataframe_compare_all(gbdt_path_var.reset_index(), X_train_gbdt.reset_index(), 'index', verbose=1)"
   ]
  },
  {
   "cell_type": "markdown",
   "metadata": {},
   "source": [
    "## 规则提取"
   ]
  },
  {
   "cell_type": "code",
   "execution_count": 13,
   "metadata": {
    "ExecuteTime": {
     "end_time": "2019-06-26T02:35:54.769001Z",
     "start_time": "2019-06-26T02:35:30.666614Z"
    }
   },
   "outputs": [
    {
     "name": "stdout",
     "output_type": "stream",
     "text": [
      "总样本目标为 1 的样本占比为: 0.1003\n",
      "\n",
      "根据目标占比,提取前 8 个规则,具体规则如下:\n",
      ">> 规则 1: 覆盖率 0.003  目标占比 0.625\n",
      "   CREDIT_SCORE <= 362.5;BANKPRED <= 0.0309798662;BANKPRED > 0.0217065336;BANKPRED > 0.0220806189;BANKPRED <= 0.0288935956;NULL_COUNT <= 6.5;AUTH_TIME_DAY <= 0.0\n",
      "\n",
      ">> 规则 2: 覆盖率 0.0039  目标占比 0.6064\n",
      "   ACCOUNT_GRADE > -4.5;APPL_AUTH_TIME > -20.5;CREDIT_SCORE <= 362.5;BANKPRED <= 0.0309798662;CREDIT_SCORE > 293.5;BANKPRED <= 0.0288935956;ID_LEN <= 19.0;AUTH_TIME_DAY <= 0.0\n",
      "\n",
      ">> 规则 3: 覆盖率 0.004  目标占比 0.6042\n",
      "   ACCOUNT_GRADE > -4.5;CREDIT_SCORE <= 379.5;APPL_AUTH_TIME > -10.5;BANK_RATE_AVG > 0.0217653792;BANKPRED > 0.0309798662;CREDIT_SCORE > -4.5;USE_RATE <= -4.5;APPL_AUTH_TIME <= 115.5;AMT_ORDER_SKEW > 0.5774277151\n",
      "\n",
      ">> 规则 4: 覆盖率 0.0077  目标占比 0.5956\n",
      "   CREDIT_SCORE <= 362.5;BANKPRED > 0.0309798662;BANKPRED > 0.0314750858;CREDIT_SCORE > 294.0;APPL_AUTH_TIME <= 50.5;BANKPRED <= 0.1369128749;CREDIT_SCORE <= 329.5;AUTH_TIME_DAY <= 4.5\n",
      "\n",
      ">> 规则 5: 覆盖率 0.0029  目标占比 0.5857\n",
      "   ACCOUNT_GRADE > -4.5;CREDIT_SCORE <= 362.5;APPL_AUTH_TIME > -23.5;CREDIT_SCORE > -4.5;BANKPRED > 0.0309798662;OVERTIME_DELTA <= 0.0382327046;APPL_AUTH_TIME <= 50.5;NULL_COUNT <= 6.5;EVENING_ORDER_COUNT > 0.1801075265\n",
      "\n",
      ">> 规则 6: 覆盖率 0.0039  目标占比 0.5806\n",
      "   ACCOUNT_GRADE > -4.5;CREDIT_SCORE <= 379.5;APPL_AUTH_TIME > -20.5;CHUXUKA_COUNT > 0.3166666776;BANKPRED <= 0.0309798662;BANKPRED <= 0.030044415;BANK_RATE_AVG > 0.0236572353;APPL_AUTH_TIME <= -5.5\n",
      "\n",
      ">> 规则 7: 覆盖率 0.0043  目标占比 0.5784\n",
      "   CREDIT_SCORE <= 379.5;APPL_AUTH_TIME > -23.5;NULL_COUNT <= 7.5;USE_RATE <= -4.5;CHUXUKA_COUNT > 0.2916666716;CREDIT_SCORE > -4.5;BANKPRED > 0.0309798662;APPL_AUTH_TIME <= 115.5;AMT_ORDER_SKEW > 0.5774277151\n",
      "\n",
      ">> 规则 8: 覆盖率 0.003  目标占比 0.5775\n",
      "   ACCOUNT_GRADE > -4.5;APPL_AUTH_TIME > -20.5;CREDIT_SCORE <= 362.5;BANKPRED > 0.0309798662;APPL_AUTH_TIME <= 50.5;NULL_COUNT <= 6.5;ORDERPRED > 0.0293143718\n",
      "\n"
     ]
    }
   ],
   "source": [
    "# 查看目标占比前8的规则\n",
    "get_head_rule(X_train_gbdt, Y_train, head=8)"
   ]
  },
  {
   "cell_type": "code",
   "execution_count": 14,
   "metadata": {
    "ExecuteTime": {
     "end_time": "2019-06-26T02:36:19.738427Z",
     "start_time": "2019-06-26T02:35:55.776059Z"
    }
   },
   "outputs": [
    {
     "data": {
      "text/html": [
       "<div>\n",
       "<style scoped>\n",
       "    .dataframe tbody tr th:only-of-type {\n",
       "        vertical-align: middle;\n",
       "    }\n",
       "\n",
       "    .dataframe tbody tr th {\n",
       "        vertical-align: top;\n",
       "    }\n",
       "\n",
       "    .dataframe thead th {\n",
       "        text-align: right;\n",
       "    }\n",
       "</style>\n",
       "<table border=\"1\" class=\"dataframe\">\n",
       "  <thead>\n",
       "    <tr style=\"text-align: right;\">\n",
       "      <th></th>\n",
       "      <th>rule</th>\n",
       "      <th>cover</th>\n",
       "      <th>target</th>\n",
       "    </tr>\n",
       "  </thead>\n",
       "  <tbody>\n",
       "    <tr>\n",
       "      <th>0</th>\n",
       "      <td>CREDIT_SCORE &lt;= 362.5;BANKPRED &lt;= 0.0309798662...</td>\n",
       "      <td>0.0030</td>\n",
       "      <td>0.6250</td>\n",
       "    </tr>\n",
       "    <tr>\n",
       "      <th>1</th>\n",
       "      <td>ACCOUNT_GRADE &gt; -4.5;APPL_AUTH_TIME &gt; -20.5;CR...</td>\n",
       "      <td>0.0039</td>\n",
       "      <td>0.6064</td>\n",
       "    </tr>\n",
       "    <tr>\n",
       "      <th>2</th>\n",
       "      <td>ACCOUNT_GRADE &gt; -4.5;CREDIT_SCORE &lt;= 379.5;APP...</td>\n",
       "      <td>0.0040</td>\n",
       "      <td>0.6042</td>\n",
       "    </tr>\n",
       "    <tr>\n",
       "      <th>3</th>\n",
       "      <td>CREDIT_SCORE &lt;= 362.5;BANKPRED &gt; 0.0309798662;...</td>\n",
       "      <td>0.0077</td>\n",
       "      <td>0.5956</td>\n",
       "    </tr>\n",
       "    <tr>\n",
       "      <th>4</th>\n",
       "      <td>ACCOUNT_GRADE &gt; -4.5;CREDIT_SCORE &lt;= 362.5;APP...</td>\n",
       "      <td>0.0029</td>\n",
       "      <td>0.5857</td>\n",
       "    </tr>\n",
       "  </tbody>\n",
       "</table>\n",
       "</div>"
      ],
      "text/plain": [
       "                                                rule   cover  target\n",
       "0  CREDIT_SCORE <= 362.5;BANKPRED <= 0.0309798662...  0.0030  0.6250\n",
       "1  ACCOUNT_GRADE > -4.5;APPL_AUTH_TIME > -20.5;CR...  0.0039  0.6064\n",
       "2  ACCOUNT_GRADE > -4.5;CREDIT_SCORE <= 379.5;APP...  0.0040  0.6042\n",
       "3  CREDIT_SCORE <= 362.5;BANKPRED > 0.0309798662;...  0.0077  0.5956\n",
       "4  ACCOUNT_GRADE > -4.5;CREDIT_SCORE <= 362.5;APP...  0.0029  0.5857"
      ]
     },
     "execution_count": 14,
     "metadata": {},
     "output_type": "execute_result"
    }
   ],
   "source": [
    "# 获取所有规则信息的数据集\n",
    "rule_df = get_rule_df(X_train_gbdt, Y_train)\n",
    "rule_df.head()"
   ]
  },
  {
   "cell_type": "markdown",
   "metadata": {},
   "source": [
    "## 逻辑回归"
   ]
  },
  {
   "cell_type": "code",
   "execution_count": 15,
   "metadata": {
    "ExecuteTime": {
     "end_time": "2019-06-26T02:38:16.262098Z",
     "start_time": "2019-06-26T02:36:20.816487Z"
    },
    "scrolled": false
   },
   "outputs": [
    {
     "name": "stdout",
     "output_type": "stream",
     "text": [
      "在L1正则项系数为 0.01 下,训练出的逻辑回归模型共选择了 32 个变量\n",
      "交叉验证结果为:  训练集平均AUC: 0.8096  验证集平均AUC: 0.8071\n",
      "\n",
      "逻辑回归模型如下:\n",
      "1 / (1 + e^(1.1527312554947835 - 0.10587729848069462 * X[1] - 0.22637171420016958 * X[2] - 0.1393058217680669 * X[3] - 0.020930831378182916 * X[4] + 0.30161517446455444 * X[5] + 0.0012477098168467435 * X[6] - 0.00938348836879521 * X[7] - 0.021193398234121533 * X[8] + 0.25674676201110436 * X[9] - 0.1190741451243337 * X[10] - 0.11536938633832616 * X[11] + 0.14418008917328623 * X[12] - 0.06916905430055442 * X[13] + 0.13641015681057203 * X[14] - 0.1655008848413723 * X[15] + 0.05661303986922289 * X[16] - 0.015274252982060811 * X[17] + 0.0795421250060848 * X[18] + 0.03834112139927904 * X[19] - 0.0005035641427966378 * X[20] + 0.5263473309014012 * X[21] + 0.28918556938308754 * X[22] - 0.07569243231570366 * X[23] + 0.0038417355819300014 * X[24] + 0.0479675569785015 * X[25] + 0.11640082832154112 * X[26] + 0.01699008487564195 * X[27] + 0.1686146497238901 * X[28] + 0.0921067603833908 * X[29] + 0.816418853386694 * X[30] + 0.15499086632637407 * X[31] + 0.29568430557322783 * X[32]))\n",
      "\n",
      "各变量对应关系如下\n",
      "X[1] ==> ACCOUNT_GRADE > -4.5;CREDIT_SCORE <= 379.5;APPL_AUTH_TIME > -10.5;CHUXUKA_COUNT > 0.3166666776;USE_RATE <= -4.5;CREDIT_SCORE > 283.5;BANKPRED > 0.0309798662;AUTH_TIME_DAY <= 23.5;APPL_AUTH_TIME <= 115.5\n",
      "X[2] ==> CREDIT_SCORE <= 379.5;ACCOUNT_GRADE > -4.5;APPL_AUTH_TIME > -10.5;CHUXUKA_COUNT > 0.3166666776;APPL_AUTH_TIME <= 360.5;AMT_ORDER_STD <= 1505.3301391602;CREDIT_SCORE > -4.5;USE_RATE <= -4.5;ORDER_NULL_AVG <= 2.9342857599\n",
      "X[3] ==> CREDIT_SCORE <= 379.5;APPL_AUTH_TIME > -23.5;ACCOUNT_GRADE > -4.5;CHUXUKA_COUNT > 0.3166666776;CREDIT_SCORE > -4.5;USE_RATE <= -4.5;ORDER_NULL_AVG <= 2.9342857599;BANKPRED > 0.0309798662;AUTH_TIME_DAY <= 23.5\n",
      "X[4] ==> CREDIT_SCORE <= 362.5;CREDIT_SCORE > 238.5;APPL_AUTH_TIME > -23.5;APPL_AUTH_TIME <= 321.5;DUR_DAY <= 1.555310737096704e+16;AMT_ORDER_STD <= 857.8582763672;ACCOUNT_GRADE <= 1.5;BANKPRED > 0.0309798662;AUTH_TIME_DAY <= 23.5\n",
      "X[5] ==> CREDIT_SCORE > 362.5;APPL_AUTH_TIME <= -4.5;ID_LEN <= 19.0;NULL_COUNT > 6.5;ORDERPRED <= 0.0502293576;CREDIT_SCORE > 383.5;AUTH_TIME_DAY <= 25.5;SEX > -4.5;AMT_ORDER_MEAN <= 3998.625\n",
      "X[6] ==> NULL_COUNT > 6.5;APPL_AUTH_TIME <= -4.5;APPL_AUTH_TIME > -264.5;CREDIT_SCORE > 359.5;OVERTIME_DELTA <= 0.0333786644;BANK_RATE_AVG <= 0.035388533;BANK_RATE_AVG <= 0.0277925795;CREDIT_SCORE > 366.5;BANKPRED <= 0.0324950442\n",
      "X[7] ==> CREDIT_SCORE <= 362.5;APPL_AUTH_TIME > -23.5;APPL_AUTH_TIME <= 321.5;DUR_DAY <= 3.368649902312653e+16;NULL_COUNT > 2.5;BANKPRED <= 0.1369128749;BANK_RATE_AVG <= 0.0325303413;WEEKDAY_COUNT <= 0.8881944418;OVERTIME_DELTA <= 0.0382327046\n",
      "X[8] ==> CREDIT_SCORE <= 375.5;AMT_ORDER_SKEW <= 4.3166365623;ORDER_NULL_AVG <= 2.9927536249;ORDERPRED <= 0.0480149928;AMT_ORDER_SKEW <= 2.6422202587;COUNT_REC_INFO <= 2.5;APPL_AUTH_TIME <= 321.5;BANKPRED <= 0.1369128749;CREDIT_SCORE > 290.5\n",
      "X[9] ==> CREDIT_SCORE > 375.5;NULL_COUNT > 0.5;BANK_RATE_AVG <= 0.0311620086;BANKPRED <= 0.0333059039;CREDIT_SCORE <= 538.5;DUR_DAY <= 4.357997014810624e+16;BANKPRED <= 0.0324950442;AMT_ORDER_STD <= 1475.6795043945;APPL_AUTH_TIME <= 478.5\n",
      "X[10] ==> ACCOUNT_GRADE > -4.5;SEX <= 1.5;CREDIT_SCORE <= 575.5;APPL_AUTH_TIME > -10.5;CHUXUKA_COUNT > 0.1380952448;USE_RATE <= 0.9937771857;USE_RATE <= -4.5;AMT_ORDER_STD <= 2791.0446777344;ORDERPRED <= 0.046778271\n",
      "X[11] ==> ACCOUNT_GRADE > -4.5;SEX <= 1.5;CREDIT_SCORE <= 575.5;AMT_ORDER_SUM <= 53563.904296875;NULL_COUNT <= 6.5;APPL_AUTH_TIME <= 734.0;APPL_AUTH_TIME > -86.5;USE_RATE <= 0.8624384999;USE_RATE <= -4.5\n",
      "X[12] ==> USE_RATE <= -4.5;ORDERPRED <= 0.046778271;AMT_ORDER_STD <= 2791.0446777344;AMT_ORDER_STD <= 2236.0062255859;APPL_AUTH_TIME <= -4.5;BANKPRED <= 0.1369128749;AMT_ORDER_STD <= 1692.0531616211;APPL_AUTH_TIME > -264.5;BANKPRED <= 0.0333059039\n",
      "X[13] ==> ACCOUNT_GRADE > -4.5;COUNT_REC_INFO <= 2.5;NULL_COUNT > 1.5;APPL_AUTH_TIME > -264.5;APPL_AUTH_TIME > -74.5;DUR_DAY <= 8.42454699784274e+16;AMT_ORDER_SKEW <= 4.097796917;BANKPRED <= 0.1369128749;SEX <= 1.5\n",
      "X[14] ==> APPL_AUTH_TIME <= 0.5;BANKPRED <= 0.1369128749;BANKPRED <= 0.043797601;LATEST_APPL_ORDER <= 29972401.0;CREDIT_SCORE > 305.5;APPL_AUTH_TIME <= -1.5;CREDIT_SCORE > 312.5;CREDIT_SCORE > 326.5;LATEST_APPL_ORDER <= 25492179.0\n",
      "X[15] ==> CREDIT_SCORE <= 422.5;USE_RATE <= 0.5565683544;USE_RATE <= -4.5;APPL_AUTH_TIME > -264.5;BANKPRED > 0.0077727681;BANKPRED > 0.0125760087;APPL_AUTH_TIME > -28.5;BANKPRED > 0.0191970207;APPL_AUTH_TIME <= 348.5\n",
      "X[16] ==> CREDIT_SCORE <= 532.5;DUR_DAY <= 1.2330642800902144e+17;DUR_DAY <= 9.89249122819113e+16;NULL_COUNT > 6.5;BANKPRED <= 0.0333059039;USE_RATE <= 0.9967998266;CHUXUKA_COUNT > 0.2928571552;DUR_DAY <= 4.414825230342554e+16;ORDERPRED <= 0.040808782\n",
      "X[17] ==> AMT_ORDER_SKEW <= 4.1845462322;AMT_ORDER_SKEW <= 4.043056488;COUNT_REC_INFO <= 2.5;ID_LEN <= 19.0;COUNT_REC_INFO > 0.5;USE_RATE <= 0.9539882243;BANKPRED <= 0.043797601;AMT_ORDER_MEAN <= 5643.0;USE_RATE <= -4.5\n",
      "X[18] ==> AMT_ORDER_SKEW <= 4.1845462322;AMT_ORDER_SKEW <= 4.043056488;AMT_ORDER_MEAN <= 3095.4576416016;AMT_ORDER_MEAN <= 2600.4749755859;BANK_RATE_AVG > 0.0145059107;LATEST_APPL_ORDER <= 5497220.0;NULL_COUNT > 1.5;LATEST_APPL_ORDER <= 3586302.0;ORDER_NULL_AVG <= 2.4491379261\n",
      "X[19] ==> ACCOUNT_GRADE <= -4.5;NULL_COUNT <= 8.5;CREDIT_SCORE > 291.5;OVERTIME_DELTA <= 0.0333786644;BANK_RATE_AVG <= 0.0358044896;BANK_RATE_AVG <= 0.0322402157;ORDERPRED <= 0.0534159485;AUTH_TIME_DAY <= 29.5;AUTH_TIME_DAY <= 27.5\n",
      "X[20] ==> SEX <= 1.5;ACCOUNT_GRADE > -4.5;AUTH_TIME_DAY <= 23.5;BANKPRED <= 0.1358551979;BANK_RATE_AVG <= 0.0306034125;CREDIT_SCORE > -4.5;BANK_RATE_AVG <= 0.0281287711;BANK_RATE_AVG > 0.0146230781;COUNT_REC_INFO <= 5.5\n",
      "X[21] ==> CREDIT_SCORE > -4.5;CREDIT_SCORE > 297.5;CREDIT_SCORE > 304.5;NULL_COUNT <= 8.5;CREDIT_SCORE > 305.5;CREDIT_SCORE > 308.5;BANKPRED <= 0.1167420857;CREDIT_SCORE > 331.5;CREDIT_SCORE > 334.5\n",
      "X[22] ==> COUNT_REC_INFO <= 2.5;COUNT_REC_INFO <= 0.5;CREDIT_SCORE > 297.5;APPL_AUTH_TIME > -264.5;BANK_RATE_AVG <= 0.03487809;BANK_RATE_AVG <= 0.0277791619;ID_LEN <= 19.0;OVERTIME_DELTA > -4.492367906;CREDIT_SCORE > 383.5\n",
      "X[23] ==> AMT_ORDER_SKEW <= 4.1845462322;AMT_ORDER_SKEW <= 4.043056488;COUNT_REC_INFO <= 2.5;COUNT_REC_INFO > 0.5;USE_RATE <= 0.9938859046;OVERTIME_DELTA > 0.0256004808;BANK_RATE_AVG > 0.0150008569;BANKPRED <= 0.1167420857;NULL_COUNT <= 9.5\n",
      "X[24] ==> AMT_ORDER_SKEW <= 4.112953186;BANK_RATE_AVG > 0.0145059107;AMT_ORDER_SKEW <= 4.043056488;AMT_ORDER_MEAN <= 3095.4576416016;AMT_ORDER_MEAN <= 2600.4749755859;LATEST_APPL_ORDER <= 5497220.0;LATEST_APPL_ORDER <= 3586302.0;ORDER_NULL_AVG <= 2.4491379261;ORDERPRED <= 0.0460990239\n",
      "X[25] ==> CREDIT_SCORE <= 575.5;SEX <= 1.5;NULL_COUNT > 6.5;AUTH_TIME_DAY <= 30.5;APPL_AUTH_TIME <= 267.5;BANKPRED <= 0.0333059039;APPL_AUTH_TIME <= 256.5;DUR_DAY <= 2.449434129675059e+16;APPL_AUTH_TIME > -264.5\n",
      "X[26] ==> AMT_ORDER_SKEW <= 4.1845462322;AMT_ORDER_SKEW <= 4.0181367397;AMT_ORDER_MEAN <= 3095.4576416016;BANK_RATE_AVG > 0.0145059107;AMT_ORDER_MEAN <= 2600.4749755859;LATEST_APPL_ORDER <= 5497220.0;LATEST_APPL_ORDER <= 3586302.0;ORDER_NULL_AVG <= 2.4491379261;ORDERPRED <= 0.0460990239\n",
      "X[27] ==> USE_RATE <= 1.0377610326;APPL_AUTH_TIME <= 0.5;BANKPRED <= 0.1369128749;LATEST_APPL_ORDER <= 29972401.0;ORDERPRED <= 0.0324074309;CREDIT_SCORE > 296.5;CREDIT_SCORE > 312.5;CREDIT_SCORE > 326.5;AUTH_TIME_DAY <= 30.5\n",
      "X[28] ==> USE_RATE <= 1.0377610326;COUNT_REC_INFO <= 2.5;COUNT_REC_INFO <= 0.5;APPL_AUTH_TIME <= 321.5;BANKPRED <= 0.0759109296;APPL_AUTH_TIME <= 294.5;ID_LEN <= 19.0;OVERTIME_DELTA > -4.492367906;USE_RATE <= 0.9975961149\n",
      "X[29] ==> ORDER_NULL_AVG > 1.7344322801;BANK_RATE_AVG <= 0.0292211175;CREDIT_SCORE > -4.5;ORDERPRED <= 0.0534159485;AMT_ORDER_SUM > 9.9399995804;AMT_ORDER_MEAN > 14.8857140541;BANK_RATE_AVG <= 0.0276786154;NULL_COUNT > 0.5;AMT_ORDER_MEAN > 19.9299993515\n",
      "X[30] ==> CREDIT_SCORE > -4.5;ACCOUNT_GRADE <= -4.5;CREDIT_SCORE > 237.0;NULL_COUNT <= 8.5;BANK_RATE_AVG <= 0.0370268431;APPL_AUTH_TIME > -348.5;BANK_RATE_AVG <= 0.0341483671;AUTH_TIME_DAY <= 28.5;AUTH_TIME_DAY <= 27.5\n",
      "X[31] ==> AMT_ORDER_STD <= 4066.5289306641;AMT_ORDER_STD <= 3208.9212646484;AMT_ORDER_STD <= 2005.8381958008;AMT_ORDER_STD <= 1902.4870605469;APPL_AUTH_TIME > -426.5;BANKPRED <= 0.0527475085;BANKPRED <= 0.0333059039;ORDER_NULL_AVG <= 3.2270725965;ORDERPRED <= 0.0757606812\n",
      "X[32] ==> CREDIT_SCORE > -4.5;APPL_AUTH_TIME <= 0.5;BANKPRED <= 0.1369128749;APPL_AUTH_TIME <= -2.5;CREDIT_SCORE > 330.5;CREDIT_SCORE > 341.5;AMT_ORDER_STD <= 3376.3801269531;APPL_AUTH_TIME > -426.5;CREDIT_SCORE > 361.5\n"
     ]
    }
   ],
   "source": [
    "# 训练逻辑回归模型\n",
    "# 选择的变量数与C呈正相关\n",
    "intercept, coef, cols = get_lr_model(X_train_gbdt, Y_train, C=0.01)"
   ]
  },
  {
   "cell_type": "code",
   "execution_count": 16,
   "metadata": {
    "ExecuteTime": {
     "end_time": "2019-06-26T02:38:33.496087Z",
     "start_time": "2019-06-26T02:38:31.758989Z"
    }
   },
   "outputs": [
    {
     "data": {
      "text/plain": [
       "26242    0.127230\n",
       "28803    0.088854\n",
       "7655     0.029691\n",
       "24551    0.015293\n",
       "31764    0.163832\n",
       "dtype: float64"
      ]
     },
     "execution_count": 16,
     "metadata": {},
     "output_type": "execute_result"
    }
   ],
   "source": [
    "# 计算预测的概率值\n",
    "lr_proba = get_lr_proba(intercept, coef, cols, X_train_gbdt)\n",
    "lr_proba[:5]"
   ]
  },
  {
   "cell_type": "code",
   "execution_count": 17,
   "metadata": {
    "ExecuteTime": {
     "end_time": "2019-06-26T02:42:34.308874Z",
     "start_time": "2019-06-26T02:39:09.536157Z"
    }
   },
   "outputs": [
    {
     "name": "stdout",
     "output_type": "stream",
     "text": [
      "AUC: 0.8071  KS: 0.4882\n"
     ]
    }
   ],
   "source": [
    "# 对测试集回溯GBDT衍生变量，并预测概率值，查看AUC、KS\n",
    "X_test_gbdt = get_data_gbdt(X_test_trans, gbdt_path_var.columns)\n",
    "test_proba = get_lr_proba(intercept, coef, cols, X_test_gbdt, Y_test)"
   ]
  },
  {
   "cell_type": "code",
   "execution_count": null,
   "metadata": {},
   "outputs": [],
   "source": []
  }
 ],
 "metadata": {
  "kernelspec": {
   "display_name": "Python 3",
   "language": "python",
   "name": "python3"
  },
  "language_info": {
   "codemirror_mode": {
    "name": "ipython",
    "version": 3
   },
   "file_extension": ".py",
   "mimetype": "text/x-python",
   "name": "python",
   "nbconvert_exporter": "python",
   "pygments_lexer": "ipython3",
   "version": "3.6.5"
  },
  "toc": {
   "base_numbering": 1,
   "nav_menu": {},
   "number_sections": true,
   "sideBar": true,
   "skip_h1_title": false,
   "title_cell": "Table of Contents",
   "title_sidebar": "Contents",
   "toc_cell": false,
   "toc_position": {},
   "toc_section_display": true,
   "toc_window_display": false
  },
  "varInspector": {
   "cols": {
    "lenName": 16,
    "lenType": 16,
    "lenVar": 40
   },
   "kernels_config": {
    "python": {
     "delete_cmd_postfix": "",
     "delete_cmd_prefix": "del ",
     "library": "var_list.py",
     "varRefreshCmd": "print(var_dic_list())"
    },
    "r": {
     "delete_cmd_postfix": ") ",
     "delete_cmd_prefix": "rm(",
     "library": "var_list.r",
     "varRefreshCmd": "cat(var_dic_list()) "
    }
   },
   "types_to_exclude": [
    "module",
    "function",
    "builtin_function_or_method",
    "instance",
    "_Feature"
   ],
   "window_display": false
  }
 },
 "nbformat": 4,
 "nbformat_minor": 2
}
