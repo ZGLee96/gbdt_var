{
 "cells": [
  {
   "cell_type": "markdown",
   "metadata": {},
   "source": [
    "## 准备工作"
   ]
  },
  {
   "cell_type": "code",
   "execution_count": 1,
   "metadata": {
    "ExecuteTime": {
     "end_time": "2019-06-26T10:19:29.216832Z",
     "start_time": "2019-06-26T10:19:28.559782Z"
    }
   },
   "outputs": [],
   "source": [
    "import numpy as np\n",
    "import pandas as pd\n",
    "import os"
   ]
  },
  {
   "cell_type": "code",
   "execution_count": 2,
   "metadata": {
    "ExecuteTime": {
     "end_time": "2019-06-26T10:19:30.422886Z",
     "start_time": "2019-06-26T10:19:29.219818Z"
    }
   },
   "outputs": [],
   "source": [
    "# 读取数据集\n",
    "data = pd.read_csv(r'data/application_train.csv')\n",
    "data.columns = [col.upper() for col in data.columns]"
   ]
  },
  {
   "cell_type": "code",
   "execution_count": 3,
   "metadata": {
    "ExecuteTime": {
     "end_time": "2019-06-26T10:19:35.133217Z",
     "start_time": "2019-06-26T10:19:30.424888Z"
    }
   },
   "outputs": [],
   "source": [
    "# 导入gbdt_var的方法\n",
    "from gbdt_var import get_gbdt_path_var, get_data_gbdt, get_head_rule, get_rule_df, get_lr_model, get_lr_proba\n",
    "\n",
    "# 导入数据集比较的代码\n",
    "os.chdir('../常用代码')\n",
    "from common_function import dataframe_compare_all, dataframe_compare_sigle\n",
    "\n",
    "# 导入自动建模代码\n",
    "os.chdir('../../Auto-Modeling/Auto-Modeling')\n",
    "import auto_modeling as am"
   ]
  },
  {
   "cell_type": "code",
   "execution_count": 4,
   "metadata": {
    "ExecuteTime": {
     "end_time": "2019-06-26T10:19:36.192215Z",
     "start_time": "2019-06-26T10:19:35.140162Z"
    }
   },
   "outputs": [
    {
     "name": "stdout",
     "output_type": "stream",
     "text": [
      ">> 数据集划分成功,无跨时间测试集\n",
      ">> 训练集样本数: 43051\n",
      ">> 测试集样本数: 18451\n",
      ">> 训练集目标情况如下:\n",
      "   训练集TARGET为 0 的数量: 39583  占比: 91.94%\n",
      "   训练集TARGET为 1 的数量: 3468  占比: 8.06%\n"
     ]
    }
   ],
   "source": [
    "# 划分数据集\n",
    "X_train, Y_train, X_test, Y_test, X_time_test, Y_time_test = am.data_split(\n",
    "    data, test_size=0.3, time_test_type=False)"
   ]
  },
  {
   "cell_type": "code",
   "execution_count": 6,
   "metadata": {
    "ExecuteTime": {
     "end_time": "2019-06-26T10:05:27.559625Z",
     "start_time": "2019-06-26T09:48:42.122044Z"
    },
    "scrolled": true
   },
   "outputs": [
    {
     "name": "stdout",
     "output_type": "stream",
     "text": [
      ">> 根据缺失率删除 0 个变量\n",
      ">> 根据同质性删除 2 个变量\n",
      ">> 根据最大计数类别删除 0 个变量\n",
      ">> 根据相关性删除 0 个变量\n",
      ">> 特征重要度迭代次数 |■■■■■■■■■■■■■■■■■■■■■■■■■■■■■■■■■■■■■■■■■■■■■■   根据条件提前停止迭代\n",
      ">> 根据特征重要度最终保留 37 个变量\n",
      ">> 具体保留变量如下:\n",
      "   ['EXT_SOURCE_3', 'EXT_SOURCE_2', 'ORGANIZATION_TYPE', 'EXT_SOURCE_1', 'AMT_CREDIT', 'AMT_ANNUITY', 'DAYS_ID_PUBLISH', 'DAYS_BIRTH', 'AMT_GOODS_PRICE', 'DAYS_REGISTRATION', 'DAYS_LAST_PHONE_CHANGE', 'SK_ID_CURR', 'DAYS_EMPLOYED', 'OWN_CAR_AGE', 'OCCUPATION_TYPE', 'REGION_POPULATION_RELATIVE', 'AMT_INCOME_TOTAL', 'YEARS_BEGINEXPLUATATION_AVG', 'AMT_REQ_CREDIT_BUREAU_YEAR', 'LANDAREA_AVG', 'TOTALAREA_MODE', 'BASEMENTAREA_MODE', 'HOUR_APPR_PROCESS_START', 'NONLIVINGAREA_AVG', 'LIVINGAREA_MODE', 'APARTMENTS_AVG', 'OBS_30_CNT_SOCIAL_CIRCLE', 'CODE_GENDER', 'NAME_EDUCATION_TYPE', 'LIVINGAPARTMENTS_AVG', 'YEARS_BUILD_AVG', 'NAME_INCOME_TYPE', 'COMMONAREA_AVG', 'DEF_60_CNT_SOCIAL_CIRCLE', 'APARTMENTS_MODE', 'FLAG_DOCUMENT_3', 'REGION_RATING_CLIENT_W_CITY']\n"
     ]
    }
   ],
   "source": [
    "# 特征选择\n",
    "keep_cols = am.feature_select(X_train, Y_train, cols_number=50, auto_iteration=True, verbose=False)[0]"
   ]
  },
  {
   "cell_type": "code",
   "execution_count": 6,
   "metadata": {
    "ExecuteTime": {
     "end_time": "2019-06-26T10:19:42.162563Z",
     "start_time": "2019-06-26T10:19:42.024553Z"
    }
   },
   "outputs": [],
   "source": [
    "# 转换数据集\n",
    "X_train_trans, X_test_trans, X_time_test_trans, num_cols, char_cols = am.get_coltype_datalist(\n",
    "    X_train, X_test, X_time_test, keep_cols)\n",
    "\n",
    "# 封装DataFrameMapper\n",
    "mapper = am.get_mapper(num_cols, char_cols)"
   ]
  },
  {
   "cell_type": "code",
   "execution_count": 7,
   "metadata": {
    "ExecuteTime": {
     "end_time": "2019-06-26T10:19:42.427575Z",
     "start_time": "2019-06-26T10:19:42.422575Z"
    }
   },
   "outputs": [],
   "source": [
    "# 建立深度为4的模型模型，也就是让GBDT的路径长度不超过4\n",
    "from sklearn.ensemble import GradientBoostingClassifier\n",
    "\n",
    "model = GradientBoostingClassifier(max_depth=4, random_state=1234)"
   ]
  },
  {
   "cell_type": "markdown",
   "metadata": {},
   "source": [
    "## 衍生GBDT变量"
   ]
  },
  {
   "cell_type": "code",
   "execution_count": 8,
   "metadata": {
    "ExecuteTime": {
     "end_time": "2019-06-26T10:20:23.660936Z",
     "start_time": "2019-06-26T10:19:46.938832Z"
    }
   },
   "outputs": [
    {
     "data": {
      "text/html": [
       "<div>\n",
       "<style scoped>\n",
       "    .dataframe tbody tr th:only-of-type {\n",
       "        vertical-align: middle;\n",
       "    }\n",
       "\n",
       "    .dataframe tbody tr th {\n",
       "        vertical-align: top;\n",
       "    }\n",
       "\n",
       "    .dataframe thead th {\n",
       "        text-align: right;\n",
       "    }\n",
       "</style>\n",
       "<table border=\"1\" class=\"dataframe\">\n",
       "  <thead>\n",
       "    <tr style=\"text-align: right;\">\n",
       "      <th></th>\n",
       "      <th>EXT_SOURCE_2 &lt;= 0.356838;EXT_SOURCE_3 &lt;= 0.36813;EXT_SOURCE_2 &lt;= 0.108422;EXT_SOURCE_3 &lt;= 0.23337</th>\n",
       "      <th>EXT_SOURCE_2 &lt;= 0.356838;EXT_SOURCE_3 &lt;= 0.36813;EXT_SOURCE_2 &lt;= 0.108422;EXT_SOURCE_3 &gt; 0.23337</th>\n",
       "      <th>EXT_SOURCE_2 &lt;= 0.356838;EXT_SOURCE_3 &lt;= 0.36813;EXT_SOURCE_2 &gt; 0.108422;EXT_SOURCE_3 &lt;= -4.499736</th>\n",
       "      <th>EXT_SOURCE_2 &lt;= 0.356838;EXT_SOURCE_3 &lt;= 0.36813;EXT_SOURCE_2 &gt; 0.108422;EXT_SOURCE_3 &gt; -4.499736</th>\n",
       "      <th>EXT_SOURCE_2 &lt;= 0.356838;EXT_SOURCE_3 &gt; 0.36813;EXT_SOURCE_2 &lt;= 0.137969;EXT_SOURCE_3 &lt;= 0.740105</th>\n",
       "      <th>EXT_SOURCE_2 &lt;= 0.356838;EXT_SOURCE_3 &gt; 0.36813;EXT_SOURCE_2 &lt;= 0.137969;EXT_SOURCE_3 &gt; 0.740105</th>\n",
       "      <th>EXT_SOURCE_2 &lt;= 0.356838;EXT_SOURCE_3 &gt; 0.36813;EXT_SOURCE_2 &gt; 0.137969;ORGANIZATION_TYPE != Transport: type 3</th>\n",
       "      <th>EXT_SOURCE_2 &lt;= 0.356838;EXT_SOURCE_3 &gt; 0.36813;EXT_SOURCE_2 &gt; 0.137969;ORGANIZATION_TYPE == Transport: type 3</th>\n",
       "      <th>EXT_SOURCE_2 &gt; 0.356838;EXT_SOURCE_3 &lt;= 0.42325;EXT_SOURCE_2 &lt;= 0.597194;EXT_SOURCE_3 &lt;= -4.499736</th>\n",
       "      <th>EXT_SOURCE_2 &gt; 0.356838;EXT_SOURCE_3 &lt;= 0.42325;EXT_SOURCE_2 &lt;= 0.597194;EXT_SOURCE_3 &gt; -4.499736</th>\n",
       "      <th>...</th>\n",
       "      <th>AMT_CREDIT &lt;= 102762.0;SK_ID_CURR &lt;= 440557.0;DAYS_EMPLOYED &lt;= -1389.5;DAYS_BIRTH &gt; -8598.0</th>\n",
       "      <th>AMT_CREDIT &lt;= 102762.0;SK_ID_CURR &lt;= 440557.0;DAYS_EMPLOYED &gt; -1389.5;DAYS_BIRTH &lt;= -14362.0</th>\n",
       "      <th>AMT_CREDIT &lt;= 102762.0;SK_ID_CURR &lt;= 440557.0;DAYS_EMPLOYED &gt; -1389.5;DAYS_BIRTH &gt; -14362.0</th>\n",
       "      <th>AMT_CREDIT &gt; 102762.0;DAYS_EMPLOYED &lt;= -11687.5;ORGANIZATION_TYPE != University;NONLIVINGAREA_AVG &lt;= 0.1269</th>\n",
       "      <th>AMT_CREDIT &gt; 102762.0;DAYS_EMPLOYED &lt;= -11687.5;ORGANIZATION_TYPE != University;NONLIVINGAREA_AVG &gt; 0.1269</th>\n",
       "      <th>AMT_CREDIT &gt; 102762.0;DAYS_EMPLOYED &lt;= -11687.5;ORGANIZATION_TYPE == University;OCCUPATION_TYPE != Laborers</th>\n",
       "      <th>AMT_CREDIT &gt; 102762.0;DAYS_EMPLOYED &lt;= -11687.5;ORGANIZATION_TYPE == University;OCCUPATION_TYPE == Laborers</th>\n",
       "      <th>AMT_CREDIT &gt; 102762.0;DAYS_EMPLOYED &gt; -11687.5;DAYS_EMPLOYED &lt;= -11685.5</th>\n",
       "      <th>AMT_CREDIT &gt; 102762.0;DAYS_EMPLOYED &gt; -11687.5;DAYS_EMPLOYED &gt; -11685.5;NONLIVINGAREA_AVG &lt;= 0.00205</th>\n",
       "      <th>AMT_CREDIT &gt; 102762.0;DAYS_EMPLOYED &gt; -11687.5;DAYS_EMPLOYED &gt; -11685.5;NONLIVINGAREA_AVG &gt; 0.00205</th>\n",
       "    </tr>\n",
       "  </thead>\n",
       "  <tbody>\n",
       "    <tr>\n",
       "      <th>0</th>\n",
       "      <td>0</td>\n",
       "      <td>0</td>\n",
       "      <td>0</td>\n",
       "      <td>0</td>\n",
       "      <td>0</td>\n",
       "      <td>0</td>\n",
       "      <td>0</td>\n",
       "      <td>0</td>\n",
       "      <td>0</td>\n",
       "      <td>0</td>\n",
       "      <td>...</td>\n",
       "      <td>0</td>\n",
       "      <td>0</td>\n",
       "      <td>0</td>\n",
       "      <td>0</td>\n",
       "      <td>0</td>\n",
       "      <td>0</td>\n",
       "      <td>0</td>\n",
       "      <td>0</td>\n",
       "      <td>0</td>\n",
       "      <td>1</td>\n",
       "    </tr>\n",
       "    <tr>\n",
       "      <th>1</th>\n",
       "      <td>0</td>\n",
       "      <td>0</td>\n",
       "      <td>0</td>\n",
       "      <td>0</td>\n",
       "      <td>0</td>\n",
       "      <td>0</td>\n",
       "      <td>0</td>\n",
       "      <td>0</td>\n",
       "      <td>0</td>\n",
       "      <td>0</td>\n",
       "      <td>...</td>\n",
       "      <td>0</td>\n",
       "      <td>0</td>\n",
       "      <td>0</td>\n",
       "      <td>0</td>\n",
       "      <td>0</td>\n",
       "      <td>0</td>\n",
       "      <td>0</td>\n",
       "      <td>0</td>\n",
       "      <td>1</td>\n",
       "      <td>0</td>\n",
       "    </tr>\n",
       "    <tr>\n",
       "      <th>2</th>\n",
       "      <td>0</td>\n",
       "      <td>0</td>\n",
       "      <td>0</td>\n",
       "      <td>0</td>\n",
       "      <td>0</td>\n",
       "      <td>0</td>\n",
       "      <td>0</td>\n",
       "      <td>0</td>\n",
       "      <td>0</td>\n",
       "      <td>1</td>\n",
       "      <td>...</td>\n",
       "      <td>0</td>\n",
       "      <td>0</td>\n",
       "      <td>0</td>\n",
       "      <td>0</td>\n",
       "      <td>0</td>\n",
       "      <td>0</td>\n",
       "      <td>0</td>\n",
       "      <td>0</td>\n",
       "      <td>1</td>\n",
       "      <td>0</td>\n",
       "    </tr>\n",
       "    <tr>\n",
       "      <th>3</th>\n",
       "      <td>0</td>\n",
       "      <td>0</td>\n",
       "      <td>0</td>\n",
       "      <td>0</td>\n",
       "      <td>0</td>\n",
       "      <td>0</td>\n",
       "      <td>0</td>\n",
       "      <td>0</td>\n",
       "      <td>0</td>\n",
       "      <td>0</td>\n",
       "      <td>...</td>\n",
       "      <td>0</td>\n",
       "      <td>0</td>\n",
       "      <td>0</td>\n",
       "      <td>0</td>\n",
       "      <td>0</td>\n",
       "      <td>0</td>\n",
       "      <td>0</td>\n",
       "      <td>0</td>\n",
       "      <td>0</td>\n",
       "      <td>1</td>\n",
       "    </tr>\n",
       "    <tr>\n",
       "      <th>4</th>\n",
       "      <td>0</td>\n",
       "      <td>0</td>\n",
       "      <td>0</td>\n",
       "      <td>0</td>\n",
       "      <td>0</td>\n",
       "      <td>0</td>\n",
       "      <td>0</td>\n",
       "      <td>0</td>\n",
       "      <td>0</td>\n",
       "      <td>0</td>\n",
       "      <td>...</td>\n",
       "      <td>0</td>\n",
       "      <td>0</td>\n",
       "      <td>0</td>\n",
       "      <td>0</td>\n",
       "      <td>0</td>\n",
       "      <td>0</td>\n",
       "      <td>0</td>\n",
       "      <td>0</td>\n",
       "      <td>1</td>\n",
       "      <td>0</td>\n",
       "    </tr>\n",
       "  </tbody>\n",
       "</table>\n",
       "<p>5 rows × 1436 columns</p>\n",
       "</div>"
      ],
      "text/plain": [
       "   EXT_SOURCE_2 <= 0.356838;EXT_SOURCE_3 <= 0.36813;EXT_SOURCE_2 <= 0.108422;EXT_SOURCE_3 <= 0.23337  \\\n",
       "0                                                  0                                                   \n",
       "1                                                  0                                                   \n",
       "2                                                  0                                                   \n",
       "3                                                  0                                                   \n",
       "4                                                  0                                                   \n",
       "\n",
       "   EXT_SOURCE_2 <= 0.356838;EXT_SOURCE_3 <= 0.36813;EXT_SOURCE_2 <= 0.108422;EXT_SOURCE_3 > 0.23337  \\\n",
       "0                                                  0                                                  \n",
       "1                                                  0                                                  \n",
       "2                                                  0                                                  \n",
       "3                                                  0                                                  \n",
       "4                                                  0                                                  \n",
       "\n",
       "   EXT_SOURCE_2 <= 0.356838;EXT_SOURCE_3 <= 0.36813;EXT_SOURCE_2 > 0.108422;EXT_SOURCE_3 <= -4.499736  \\\n",
       "0                                                  0                                                    \n",
       "1                                                  0                                                    \n",
       "2                                                  0                                                    \n",
       "3                                                  0                                                    \n",
       "4                                                  0                                                    \n",
       "\n",
       "   EXT_SOURCE_2 <= 0.356838;EXT_SOURCE_3 <= 0.36813;EXT_SOURCE_2 > 0.108422;EXT_SOURCE_3 > -4.499736  \\\n",
       "0                                                  0                                                   \n",
       "1                                                  0                                                   \n",
       "2                                                  0                                                   \n",
       "3                                                  0                                                   \n",
       "4                                                  0                                                   \n",
       "\n",
       "   EXT_SOURCE_2 <= 0.356838;EXT_SOURCE_3 > 0.36813;EXT_SOURCE_2 <= 0.137969;EXT_SOURCE_3 <= 0.740105  \\\n",
       "0                                                  0                                                   \n",
       "1                                                  0                                                   \n",
       "2                                                  0                                                   \n",
       "3                                                  0                                                   \n",
       "4                                                  0                                                   \n",
       "\n",
       "   EXT_SOURCE_2 <= 0.356838;EXT_SOURCE_3 > 0.36813;EXT_SOURCE_2 <= 0.137969;EXT_SOURCE_3 > 0.740105  \\\n",
       "0                                                  0                                                  \n",
       "1                                                  0                                                  \n",
       "2                                                  0                                                  \n",
       "3                                                  0                                                  \n",
       "4                                                  0                                                  \n",
       "\n",
       "   EXT_SOURCE_2 <= 0.356838;EXT_SOURCE_3 > 0.36813;EXT_SOURCE_2 > 0.137969;ORGANIZATION_TYPE != Transport: type 3  \\\n",
       "0                                                  0                                                                \n",
       "1                                                  0                                                                \n",
       "2                                                  0                                                                \n",
       "3                                                  0                                                                \n",
       "4                                                  0                                                                \n",
       "\n",
       "   EXT_SOURCE_2 <= 0.356838;EXT_SOURCE_3 > 0.36813;EXT_SOURCE_2 > 0.137969;ORGANIZATION_TYPE == Transport: type 3  \\\n",
       "0                                                  0                                                                \n",
       "1                                                  0                                                                \n",
       "2                                                  0                                                                \n",
       "3                                                  0                                                                \n",
       "4                                                  0                                                                \n",
       "\n",
       "   EXT_SOURCE_2 > 0.356838;EXT_SOURCE_3 <= 0.42325;EXT_SOURCE_2 <= 0.597194;EXT_SOURCE_3 <= -4.499736  \\\n",
       "0                                                  0                                                    \n",
       "1                                                  0                                                    \n",
       "2                                                  0                                                    \n",
       "3                                                  0                                                    \n",
       "4                                                  0                                                    \n",
       "\n",
       "   EXT_SOURCE_2 > 0.356838;EXT_SOURCE_3 <= 0.42325;EXT_SOURCE_2 <= 0.597194;EXT_SOURCE_3 > -4.499736  \\\n",
       "0                                                  0                                                   \n",
       "1                                                  0                                                   \n",
       "2                                                  1                                                   \n",
       "3                                                  0                                                   \n",
       "4                                                  0                                                   \n",
       "\n",
       "   ...  \\\n",
       "0  ...   \n",
       "1  ...   \n",
       "2  ...   \n",
       "3  ...   \n",
       "4  ...   \n",
       "\n",
       "   AMT_CREDIT <= 102762.0;SK_ID_CURR <= 440557.0;DAYS_EMPLOYED <= -1389.5;DAYS_BIRTH > -8598.0  \\\n",
       "0                                                  0                                             \n",
       "1                                                  0                                             \n",
       "2                                                  0                                             \n",
       "3                                                  0                                             \n",
       "4                                                  0                                             \n",
       "\n",
       "   AMT_CREDIT <= 102762.0;SK_ID_CURR <= 440557.0;DAYS_EMPLOYED > -1389.5;DAYS_BIRTH <= -14362.0  \\\n",
       "0                                                  0                                              \n",
       "1                                                  0                                              \n",
       "2                                                  0                                              \n",
       "3                                                  0                                              \n",
       "4                                                  0                                              \n",
       "\n",
       "   AMT_CREDIT <= 102762.0;SK_ID_CURR <= 440557.0;DAYS_EMPLOYED > -1389.5;DAYS_BIRTH > -14362.0  \\\n",
       "0                                                  0                                             \n",
       "1                                                  0                                             \n",
       "2                                                  0                                             \n",
       "3                                                  0                                             \n",
       "4                                                  0                                             \n",
       "\n",
       "   AMT_CREDIT > 102762.0;DAYS_EMPLOYED <= -11687.5;ORGANIZATION_TYPE != University;NONLIVINGAREA_AVG <= 0.1269  \\\n",
       "0                                                  0                                                             \n",
       "1                                                  0                                                             \n",
       "2                                                  0                                                             \n",
       "3                                                  0                                                             \n",
       "4                                                  0                                                             \n",
       "\n",
       "   AMT_CREDIT > 102762.0;DAYS_EMPLOYED <= -11687.5;ORGANIZATION_TYPE != University;NONLIVINGAREA_AVG > 0.1269  \\\n",
       "0                                                  0                                                            \n",
       "1                                                  0                                                            \n",
       "2                                                  0                                                            \n",
       "3                                                  0                                                            \n",
       "4                                                  0                                                            \n",
       "\n",
       "   AMT_CREDIT > 102762.0;DAYS_EMPLOYED <= -11687.5;ORGANIZATION_TYPE == University;OCCUPATION_TYPE != Laborers  \\\n",
       "0                                                  0                                                             \n",
       "1                                                  0                                                             \n",
       "2                                                  0                                                             \n",
       "3                                                  0                                                             \n",
       "4                                                  0                                                             \n",
       "\n",
       "   AMT_CREDIT > 102762.0;DAYS_EMPLOYED <= -11687.5;ORGANIZATION_TYPE == University;OCCUPATION_TYPE == Laborers  \\\n",
       "0                                                  0                                                             \n",
       "1                                                  0                                                             \n",
       "2                                                  0                                                             \n",
       "3                                                  0                                                             \n",
       "4                                                  0                                                             \n",
       "\n",
       "   AMT_CREDIT > 102762.0;DAYS_EMPLOYED > -11687.5;DAYS_EMPLOYED <= -11685.5  \\\n",
       "0                                                  0                          \n",
       "1                                                  0                          \n",
       "2                                                  0                          \n",
       "3                                                  0                          \n",
       "4                                                  0                          \n",
       "\n",
       "   AMT_CREDIT > 102762.0;DAYS_EMPLOYED > -11687.5;DAYS_EMPLOYED > -11685.5;NONLIVINGAREA_AVG <= 0.00205  \\\n",
       "0                                                  0                                                      \n",
       "1                                                  1                                                      \n",
       "2                                                  1                                                      \n",
       "3                                                  0                                                      \n",
       "4                                                  1                                                      \n",
       "\n",
       "   AMT_CREDIT > 102762.0;DAYS_EMPLOYED > -11687.5;DAYS_EMPLOYED > -11685.5;NONLIVINGAREA_AVG > 0.00205  \n",
       "0                                                  1                                                    \n",
       "1                                                  0                                                    \n",
       "2                                                  0                                                    \n",
       "3                                                  1                                                    \n",
       "4                                                  0                                                    \n",
       "\n",
       "[5 rows x 1436 columns]"
      ]
     },
     "execution_count": 8,
     "metadata": {},
     "output_type": "execute_result"
    }
   ],
   "source": [
    "# 衍生gbdt变量\n",
    "gbdt_path_var = get_gbdt_path_var(X_train_trans, model, y=Y_train, one_hot=False)\n",
    "gbdt_path_var.head()"
   ]
  },
  {
   "cell_type": "code",
   "execution_count": 9,
   "metadata": {
    "ExecuteTime": {
     "end_time": "2019-06-26T10:20:59.046962Z",
     "start_time": "2019-06-26T10:20:24.082961Z"
    }
   },
   "outputs": [
    {
     "data": {
      "text/html": [
       "<div>\n",
       "<style scoped>\n",
       "    .dataframe tbody tr th:only-of-type {\n",
       "        vertical-align: middle;\n",
       "    }\n",
       "\n",
       "    .dataframe tbody tr th {\n",
       "        vertical-align: top;\n",
       "    }\n",
       "\n",
       "    .dataframe thead th {\n",
       "        text-align: right;\n",
       "    }\n",
       "</style>\n",
       "<table border=\"1\" class=\"dataframe\">\n",
       "  <thead>\n",
       "    <tr style=\"text-align: right;\">\n",
       "      <th></th>\n",
       "      <th>EXT_SOURCE_2 &lt;= 0.356838;EXT_SOURCE_3 &lt;= 0.36813;EXT_SOURCE_2 &lt;= 0.108422;EXT_SOURCE_3 &lt;= 0.23337</th>\n",
       "      <th>EXT_SOURCE_2 &lt;= 0.356838;EXT_SOURCE_3 &lt;= 0.36813;EXT_SOURCE_2 &lt;= 0.108422;EXT_SOURCE_3 &gt; 0.23337</th>\n",
       "      <th>EXT_SOURCE_2 &lt;= 0.356838;EXT_SOURCE_3 &lt;= 0.36813;EXT_SOURCE_2 &gt; 0.108422;EXT_SOURCE_3 &lt;= -4.499736</th>\n",
       "      <th>EXT_SOURCE_2 &lt;= 0.356838;EXT_SOURCE_3 &lt;= 0.36813;EXT_SOURCE_2 &gt; 0.108422;EXT_SOURCE_3 &gt; -4.499736</th>\n",
       "      <th>EXT_SOURCE_2 &lt;= 0.356838;EXT_SOURCE_3 &gt; 0.36813;EXT_SOURCE_2 &lt;= 0.137969;EXT_SOURCE_3 &lt;= 0.740105</th>\n",
       "      <th>EXT_SOURCE_2 &lt;= 0.356838;EXT_SOURCE_3 &gt; 0.36813;EXT_SOURCE_2 &lt;= 0.137969;EXT_SOURCE_3 &gt; 0.740105</th>\n",
       "      <th>EXT_SOURCE_2 &lt;= 0.356838;EXT_SOURCE_3 &gt; 0.36813;EXT_SOURCE_2 &gt; 0.137969;ORGANIZATION_TYPE != Transport: type 3</th>\n",
       "      <th>EXT_SOURCE_2 &lt;= 0.356838;EXT_SOURCE_3 &gt; 0.36813;EXT_SOURCE_2 &gt; 0.137969;ORGANIZATION_TYPE == Transport: type 3</th>\n",
       "      <th>EXT_SOURCE_2 &gt; 0.356838;EXT_SOURCE_3 &lt;= 0.42325;EXT_SOURCE_2 &lt;= 0.597194;EXT_SOURCE_3 &lt;= -4.499736</th>\n",
       "      <th>EXT_SOURCE_2 &gt; 0.356838;EXT_SOURCE_3 &lt;= 0.42325;EXT_SOURCE_2 &lt;= 0.597194;EXT_SOURCE_3 &gt; -4.499736</th>\n",
       "      <th>...</th>\n",
       "      <th>AMT_CREDIT &lt;= 102762.0;SK_ID_CURR &lt;= 440557.0;DAYS_EMPLOYED &lt;= -1389.5;DAYS_BIRTH &gt; -8598.0</th>\n",
       "      <th>AMT_CREDIT &lt;= 102762.0;SK_ID_CURR &lt;= 440557.0;DAYS_EMPLOYED &gt; -1389.5;DAYS_BIRTH &lt;= -14362.0</th>\n",
       "      <th>AMT_CREDIT &lt;= 102762.0;SK_ID_CURR &lt;= 440557.0;DAYS_EMPLOYED &gt; -1389.5;DAYS_BIRTH &gt; -14362.0</th>\n",
       "      <th>AMT_CREDIT &gt; 102762.0;DAYS_EMPLOYED &lt;= -11687.5;ORGANIZATION_TYPE != University;NONLIVINGAREA_AVG &lt;= 0.1269</th>\n",
       "      <th>AMT_CREDIT &gt; 102762.0;DAYS_EMPLOYED &lt;= -11687.5;ORGANIZATION_TYPE != University;NONLIVINGAREA_AVG &gt; 0.1269</th>\n",
       "      <th>AMT_CREDIT &gt; 102762.0;DAYS_EMPLOYED &lt;= -11687.5;ORGANIZATION_TYPE == University;OCCUPATION_TYPE != Laborers</th>\n",
       "      <th>AMT_CREDIT &gt; 102762.0;DAYS_EMPLOYED &lt;= -11687.5;ORGANIZATION_TYPE == University;OCCUPATION_TYPE == Laborers</th>\n",
       "      <th>AMT_CREDIT &gt; 102762.0;DAYS_EMPLOYED &gt; -11687.5;DAYS_EMPLOYED &lt;= -11685.5</th>\n",
       "      <th>AMT_CREDIT &gt; 102762.0;DAYS_EMPLOYED &gt; -11687.5;DAYS_EMPLOYED &gt; -11685.5;NONLIVINGAREA_AVG &lt;= 0.00205</th>\n",
       "      <th>AMT_CREDIT &gt; 102762.0;DAYS_EMPLOYED &gt; -11687.5;DAYS_EMPLOYED &gt; -11685.5;NONLIVINGAREA_AVG &gt; 0.00205</th>\n",
       "    </tr>\n",
       "  </thead>\n",
       "  <tbody>\n",
       "    <tr>\n",
       "      <th>53107</th>\n",
       "      <td>0</td>\n",
       "      <td>0</td>\n",
       "      <td>0</td>\n",
       "      <td>0</td>\n",
       "      <td>0</td>\n",
       "      <td>0</td>\n",
       "      <td>0</td>\n",
       "      <td>0</td>\n",
       "      <td>0</td>\n",
       "      <td>0</td>\n",
       "      <td>...</td>\n",
       "      <td>0</td>\n",
       "      <td>0</td>\n",
       "      <td>0</td>\n",
       "      <td>0</td>\n",
       "      <td>0</td>\n",
       "      <td>0</td>\n",
       "      <td>0</td>\n",
       "      <td>0</td>\n",
       "      <td>0</td>\n",
       "      <td>1</td>\n",
       "    </tr>\n",
       "    <tr>\n",
       "      <th>42038</th>\n",
       "      <td>0</td>\n",
       "      <td>0</td>\n",
       "      <td>0</td>\n",
       "      <td>0</td>\n",
       "      <td>0</td>\n",
       "      <td>0</td>\n",
       "      <td>0</td>\n",
       "      <td>0</td>\n",
       "      <td>0</td>\n",
       "      <td>0</td>\n",
       "      <td>...</td>\n",
       "      <td>0</td>\n",
       "      <td>0</td>\n",
       "      <td>0</td>\n",
       "      <td>0</td>\n",
       "      <td>0</td>\n",
       "      <td>0</td>\n",
       "      <td>0</td>\n",
       "      <td>0</td>\n",
       "      <td>1</td>\n",
       "      <td>0</td>\n",
       "    </tr>\n",
       "    <tr>\n",
       "      <th>48694</th>\n",
       "      <td>0</td>\n",
       "      <td>0</td>\n",
       "      <td>0</td>\n",
       "      <td>0</td>\n",
       "      <td>0</td>\n",
       "      <td>0</td>\n",
       "      <td>0</td>\n",
       "      <td>0</td>\n",
       "      <td>0</td>\n",
       "      <td>1</td>\n",
       "      <td>...</td>\n",
       "      <td>0</td>\n",
       "      <td>0</td>\n",
       "      <td>0</td>\n",
       "      <td>0</td>\n",
       "      <td>0</td>\n",
       "      <td>0</td>\n",
       "      <td>0</td>\n",
       "      <td>0</td>\n",
       "      <td>1</td>\n",
       "      <td>0</td>\n",
       "    </tr>\n",
       "    <tr>\n",
       "      <th>39556</th>\n",
       "      <td>0</td>\n",
       "      <td>0</td>\n",
       "      <td>0</td>\n",
       "      <td>0</td>\n",
       "      <td>0</td>\n",
       "      <td>0</td>\n",
       "      <td>0</td>\n",
       "      <td>0</td>\n",
       "      <td>0</td>\n",
       "      <td>0</td>\n",
       "      <td>...</td>\n",
       "      <td>0</td>\n",
       "      <td>0</td>\n",
       "      <td>0</td>\n",
       "      <td>0</td>\n",
       "      <td>0</td>\n",
       "      <td>0</td>\n",
       "      <td>0</td>\n",
       "      <td>0</td>\n",
       "      <td>0</td>\n",
       "      <td>1</td>\n",
       "    </tr>\n",
       "    <tr>\n",
       "      <th>25479</th>\n",
       "      <td>0</td>\n",
       "      <td>0</td>\n",
       "      <td>0</td>\n",
       "      <td>0</td>\n",
       "      <td>0</td>\n",
       "      <td>0</td>\n",
       "      <td>0</td>\n",
       "      <td>0</td>\n",
       "      <td>0</td>\n",
       "      <td>0</td>\n",
       "      <td>...</td>\n",
       "      <td>0</td>\n",
       "      <td>0</td>\n",
       "      <td>0</td>\n",
       "      <td>0</td>\n",
       "      <td>0</td>\n",
       "      <td>0</td>\n",
       "      <td>0</td>\n",
       "      <td>0</td>\n",
       "      <td>1</td>\n",
       "      <td>0</td>\n",
       "    </tr>\n",
       "  </tbody>\n",
       "</table>\n",
       "<p>5 rows × 1436 columns</p>\n",
       "</div>"
      ],
      "text/plain": [
       "       EXT_SOURCE_2 <= 0.356838;EXT_SOURCE_3 <= 0.36813;EXT_SOURCE_2 <= 0.108422;EXT_SOURCE_3 <= 0.23337  \\\n",
       "53107                                                  0                                                   \n",
       "42038                                                  0                                                   \n",
       "48694                                                  0                                                   \n",
       "39556                                                  0                                                   \n",
       "25479                                                  0                                                   \n",
       "\n",
       "       EXT_SOURCE_2 <= 0.356838;EXT_SOURCE_3 <= 0.36813;EXT_SOURCE_2 <= 0.108422;EXT_SOURCE_3 > 0.23337  \\\n",
       "53107                                                  0                                                  \n",
       "42038                                                  0                                                  \n",
       "48694                                                  0                                                  \n",
       "39556                                                  0                                                  \n",
       "25479                                                  0                                                  \n",
       "\n",
       "       EXT_SOURCE_2 <= 0.356838;EXT_SOURCE_3 <= 0.36813;EXT_SOURCE_2 > 0.108422;EXT_SOURCE_3 <= -4.499736  \\\n",
       "53107                                                  0                                                    \n",
       "42038                                                  0                                                    \n",
       "48694                                                  0                                                    \n",
       "39556                                                  0                                                    \n",
       "25479                                                  0                                                    \n",
       "\n",
       "       EXT_SOURCE_2 <= 0.356838;EXT_SOURCE_3 <= 0.36813;EXT_SOURCE_2 > 0.108422;EXT_SOURCE_3 > -4.499736  \\\n",
       "53107                                                  0                                                   \n",
       "42038                                                  0                                                   \n",
       "48694                                                  0                                                   \n",
       "39556                                                  0                                                   \n",
       "25479                                                  0                                                   \n",
       "\n",
       "       EXT_SOURCE_2 <= 0.356838;EXT_SOURCE_3 > 0.36813;EXT_SOURCE_2 <= 0.137969;EXT_SOURCE_3 <= 0.740105  \\\n",
       "53107                                                  0                                                   \n",
       "42038                                                  0                                                   \n",
       "48694                                                  0                                                   \n",
       "39556                                                  0                                                   \n",
       "25479                                                  0                                                   \n",
       "\n",
       "       EXT_SOURCE_2 <= 0.356838;EXT_SOURCE_3 > 0.36813;EXT_SOURCE_2 <= 0.137969;EXT_SOURCE_3 > 0.740105  \\\n",
       "53107                                                  0                                                  \n",
       "42038                                                  0                                                  \n",
       "48694                                                  0                                                  \n",
       "39556                                                  0                                                  \n",
       "25479                                                  0                                                  \n",
       "\n",
       "       EXT_SOURCE_2 <= 0.356838;EXT_SOURCE_3 > 0.36813;EXT_SOURCE_2 > 0.137969;ORGANIZATION_TYPE != Transport: type 3  \\\n",
       "53107                                                  0                                                                \n",
       "42038                                                  0                                                                \n",
       "48694                                                  0                                                                \n",
       "39556                                                  0                                                                \n",
       "25479                                                  0                                                                \n",
       "\n",
       "       EXT_SOURCE_2 <= 0.356838;EXT_SOURCE_3 > 0.36813;EXT_SOURCE_2 > 0.137969;ORGANIZATION_TYPE == Transport: type 3  \\\n",
       "53107                                                  0                                                                \n",
       "42038                                                  0                                                                \n",
       "48694                                                  0                                                                \n",
       "39556                                                  0                                                                \n",
       "25479                                                  0                                                                \n",
       "\n",
       "       EXT_SOURCE_2 > 0.356838;EXT_SOURCE_3 <= 0.42325;EXT_SOURCE_2 <= 0.597194;EXT_SOURCE_3 <= -4.499736  \\\n",
       "53107                                                  0                                                    \n",
       "42038                                                  0                                                    \n",
       "48694                                                  0                                                    \n",
       "39556                                                  0                                                    \n",
       "25479                                                  0                                                    \n",
       "\n",
       "       EXT_SOURCE_2 > 0.356838;EXT_SOURCE_3 <= 0.42325;EXT_SOURCE_2 <= 0.597194;EXT_SOURCE_3 > -4.499736  \\\n",
       "53107                                                  0                                                   \n",
       "42038                                                  0                                                   \n",
       "48694                                                  1                                                   \n",
       "39556                                                  0                                                   \n",
       "25479                                                  0                                                   \n",
       "\n",
       "       ...  \\\n",
       "53107  ...   \n",
       "42038  ...   \n",
       "48694  ...   \n",
       "39556  ...   \n",
       "25479  ...   \n",
       "\n",
       "       AMT_CREDIT <= 102762.0;SK_ID_CURR <= 440557.0;DAYS_EMPLOYED <= -1389.5;DAYS_BIRTH > -8598.0  \\\n",
       "53107                                                  0                                             \n",
       "42038                                                  0                                             \n",
       "48694                                                  0                                             \n",
       "39556                                                  0                                             \n",
       "25479                                                  0                                             \n",
       "\n",
       "       AMT_CREDIT <= 102762.0;SK_ID_CURR <= 440557.0;DAYS_EMPLOYED > -1389.5;DAYS_BIRTH <= -14362.0  \\\n",
       "53107                                                  0                                              \n",
       "42038                                                  0                                              \n",
       "48694                                                  0                                              \n",
       "39556                                                  0                                              \n",
       "25479                                                  0                                              \n",
       "\n",
       "       AMT_CREDIT <= 102762.0;SK_ID_CURR <= 440557.0;DAYS_EMPLOYED > -1389.5;DAYS_BIRTH > -14362.0  \\\n",
       "53107                                                  0                                             \n",
       "42038                                                  0                                             \n",
       "48694                                                  0                                             \n",
       "39556                                                  0                                             \n",
       "25479                                                  0                                             \n",
       "\n",
       "       AMT_CREDIT > 102762.0;DAYS_EMPLOYED <= -11687.5;ORGANIZATION_TYPE != University;NONLIVINGAREA_AVG <= 0.1269  \\\n",
       "53107                                                  0                                                             \n",
       "42038                                                  0                                                             \n",
       "48694                                                  0                                                             \n",
       "39556                                                  0                                                             \n",
       "25479                                                  0                                                             \n",
       "\n",
       "       AMT_CREDIT > 102762.0;DAYS_EMPLOYED <= -11687.5;ORGANIZATION_TYPE != University;NONLIVINGAREA_AVG > 0.1269  \\\n",
       "53107                                                  0                                                            \n",
       "42038                                                  0                                                            \n",
       "48694                                                  0                                                            \n",
       "39556                                                  0                                                            \n",
       "25479                                                  0                                                            \n",
       "\n",
       "       AMT_CREDIT > 102762.0;DAYS_EMPLOYED <= -11687.5;ORGANIZATION_TYPE == University;OCCUPATION_TYPE != Laborers  \\\n",
       "53107                                                  0                                                             \n",
       "42038                                                  0                                                             \n",
       "48694                                                  0                                                             \n",
       "39556                                                  0                                                             \n",
       "25479                                                  0                                                             \n",
       "\n",
       "       AMT_CREDIT > 102762.0;DAYS_EMPLOYED <= -11687.5;ORGANIZATION_TYPE == University;OCCUPATION_TYPE == Laborers  \\\n",
       "53107                                                  0                                                             \n",
       "42038                                                  0                                                             \n",
       "48694                                                  0                                                             \n",
       "39556                                                  0                                                             \n",
       "25479                                                  0                                                             \n",
       "\n",
       "       AMT_CREDIT > 102762.0;DAYS_EMPLOYED > -11687.5;DAYS_EMPLOYED <= -11685.5  \\\n",
       "53107                                                  0                          \n",
       "42038                                                  0                          \n",
       "48694                                                  0                          \n",
       "39556                                                  0                          \n",
       "25479                                                  0                          \n",
       "\n",
       "       AMT_CREDIT > 102762.0;DAYS_EMPLOYED > -11687.5;DAYS_EMPLOYED > -11685.5;NONLIVINGAREA_AVG <= 0.00205  \\\n",
       "53107                                                  0                                                      \n",
       "42038                                                  1                                                      \n",
       "48694                                                  1                                                      \n",
       "39556                                                  0                                                      \n",
       "25479                                                  1                                                      \n",
       "\n",
       "       AMT_CREDIT > 102762.0;DAYS_EMPLOYED > -11687.5;DAYS_EMPLOYED > -11685.5;NONLIVINGAREA_AVG > 0.00205  \n",
       "53107                                                  1                                                    \n",
       "42038                                                  0                                                    \n",
       "48694                                                  0                                                    \n",
       "39556                                                  1                                                    \n",
       "25479                                                  0                                                    \n",
       "\n",
       "[5 rows x 1436 columns]"
      ]
     },
     "execution_count": 9,
     "metadata": {},
     "output_type": "execute_result"
    }
   ],
   "source": [
    "# 回溯gbdt变量给其他数据集\n",
    "X_train_gbdt = get_data_gbdt(X_train_trans, gbdt_path_var.columns)\n",
    "X_train_gbdt.head()"
   ]
  },
  {
   "cell_type": "code",
   "execution_count": 10,
   "metadata": {
    "ExecuteTime": {
     "end_time": "2019-06-26T10:21:21.987273Z",
     "start_time": "2019-06-26T10:20:59.532000Z"
    },
    "scrolled": true
   },
   "outputs": [
    {
     "name": "stdout",
     "output_type": "stream",
     "text": [
      "第一个数据集的维度: (43051, 1437)\n",
      "第二个数据集的维度: (43051, 1437)\n",
      "两个数据集公共变量数: 1436\n",
      "两个数据集相同 index 样本数: 43051\n",
      "所有变量均一致\n"
     ]
    }
   ],
   "source": [
    "# 对两个数据集是否一致进行检验\n",
    "# 数据集还与下面代码操作后的数据集一致\n",
    "# X_train_gbdt = model.apply(X_train_mapper)[:, :, 0]\n",
    "# enc = OneHotEncoder()\n",
    "# X_train_gbdt = np.array(enc.fit_transform(X_train_gbdt).toarray())\n",
    "# 但由于get_gbdt_path_var有进行一个去重的操作，列数可能会不同，这里不再检验\n",
    "\n",
    "gbdt_path_var.index = X_train_gbdt.index\n",
    "compare_all = dataframe_compare_all(gbdt_path_var.reset_index(), X_train_gbdt.reset_index(), 'index', verbose=1)\n",
    "\n",
    "# 两个数据集一定是完全一致的，如果不一致一般因为有变量的小数位过长，在提取子树结构时，每个节点判断的阈值精度取了6位\n",
    "# 这精准的6位有可能让路径的信息损失，需让原数据集的小数位进行四舍五入，或者将get_gbdt_path_var的参数precision增大"
   ]
  },
  {
   "cell_type": "markdown",
   "metadata": {},
   "source": [
    "## 规则提取"
   ]
  },
  {
   "cell_type": "code",
   "execution_count": 11,
   "metadata": {
    "ExecuteTime": {
     "end_time": "2019-06-26T10:21:26.197522Z",
     "start_time": "2019-06-26T10:21:22.511307Z"
    }
   },
   "outputs": [
    {
     "name": "stdout",
     "output_type": "stream",
     "text": [
      "总样本目标为 1 的样本占比为: 0.0806\n",
      "\n",
      "根据目标占比,提取前 5 个规则,具体规则如下:\n",
      ">> 规则 1: 覆盖率 0.0  目标占比 1.0\n",
      "   DAYS_BIRTH <= -23761.5;AMT_REQ_CREDIT_BUREAU_YEAR <= 10.0;DAYS_REGISTRATION > -3.0\n",
      "\n",
      ">> 规则 2: 覆盖率 0.0  目标占比 1.0\n",
      "   AMT_CREDIT <= 102762.0;SK_ID_CURR <= 440557.0;EXT_SOURCE_3 <= 0.336867;DAYS_LAST_PHONE_CHANGE <= -2835.0\n",
      "\n",
      ">> 规则 3: 覆盖率 0.0  目标占比 1.0\n",
      "   EXT_SOURCE_2 <= 0.392158;EXT_SOURCE_1 <= 0.425951;DAYS_EMPLOYED > -55.5;EXT_SOURCE_1 > 0.417333\n",
      "\n",
      ">> 规则 4: 覆盖率 0.0  目标占比 1.0\n",
      "   NAME_EDUCATION_TYPE == Higher education;HOUR_APPR_PROCESS_START <= 9.5;DAYS_ID_PUBLISH > -5.5\n",
      "\n",
      ">> 规则 5: 覆盖率 0.0  目标占比 1.0\n",
      "   EXT_SOURCE_2 <= 0.392158;EXT_SOURCE_1 > 0.425951;AMT_INCOME_TOTAL <= 900000.0;EXT_SOURCE_2 > 0.392014\n",
      "\n"
     ]
    }
   ],
   "source": [
    "# 查看目标占比前5的规则\n",
    "get_head_rule(X_train_gbdt, Y_train, head=5)"
   ]
  },
  {
   "cell_type": "code",
   "execution_count": 12,
   "metadata": {
    "ExecuteTime": {
     "end_time": "2019-06-26T10:21:30.321759Z",
     "start_time": "2019-06-26T10:21:26.623542Z"
    }
   },
   "outputs": [
    {
     "name": "stdout",
     "output_type": "stream",
     "text": [
      "总样本目标为 1 的样本占比为: 0.0806\n",
      "\n",
      "根据目标占比,提取前 5 个规则,具体规则如下:\n",
      ">> 规则 1: 覆盖率 0.0235  目标占比 0.3126\n",
      "   EXT_SOURCE_2 <= 0.392158;EXT_SOURCE_3 <= 0.400542;EXT_SOURCE_2 <= 0.168078;NAME_INCOME_TYPE == Working\n",
      "\n",
      ">> 规则 2: 覆盖率 0.0218  目标占比 0.3052\n",
      "   EXT_SOURCE_2 <= 0.356838;EXT_SOURCE_3 <= 0.373177;EXT_SOURCE_2 <= 0.106543;EXT_SOURCE_2 <= 0.104158\n",
      "\n",
      ">> 规则 3: 覆盖率 0.027  目标占比 0.3006\n",
      "   EXT_SOURCE_2 <= 0.462132;EXT_SOURCE_3 <= 0.474951;EXT_SOURCE_2 <= 0.168078;NAME_INCOME_TYPE == Working\n",
      "\n",
      ">> 规则 4: 覆盖率 0.0322  目标占比 0.2686\n",
      "   EXT_SOURCE_3 > -4.499736;EXT_SOURCE_3 <= 0.155217;AMT_CREDIT > 249486.75;AMT_REQ_CREDIT_BUREAU_YEAR <= 7.5\n",
      "\n",
      ">> 规则 5: 覆盖率 0.0361  目标占比 0.2609\n",
      "   EXT_SOURCE_2 <= 0.205233;DAYS_BIRTH > -19540.5;EXT_SOURCE_1 <= 0.280158;OWN_CAR_AGE <= -4.5\n",
      "\n"
     ]
    }
   ],
   "source": [
    "# 查看目标占比前5的规则，增加覆盖率阈值的过滤\n",
    "get_head_rule(X_train_gbdt, Y_train, head=5, cover=0.02)"
   ]
  },
  {
   "cell_type": "code",
   "execution_count": 13,
   "metadata": {
    "ExecuteTime": {
     "end_time": "2019-06-26T10:21:43.871530Z",
     "start_time": "2019-06-26T10:21:40.328325Z"
    }
   },
   "outputs": [
    {
     "data": {
      "text/html": [
       "<div>\n",
       "<style scoped>\n",
       "    .dataframe tbody tr th:only-of-type {\n",
       "        vertical-align: middle;\n",
       "    }\n",
       "\n",
       "    .dataframe tbody tr th {\n",
       "        vertical-align: top;\n",
       "    }\n",
       "\n",
       "    .dataframe thead th {\n",
       "        text-align: right;\n",
       "    }\n",
       "</style>\n",
       "<table border=\"1\" class=\"dataframe\">\n",
       "  <thead>\n",
       "    <tr style=\"text-align: right;\">\n",
       "      <th></th>\n",
       "      <th>rule</th>\n",
       "      <th>cover</th>\n",
       "      <th>target</th>\n",
       "    </tr>\n",
       "  </thead>\n",
       "  <tbody>\n",
       "    <tr>\n",
       "      <th>0</th>\n",
       "      <td>DAYS_BIRTH &lt;= -23761.5;AMT_REQ_CREDIT_BUREAU_Y...</td>\n",
       "      <td>0.0</td>\n",
       "      <td>1.0</td>\n",
       "    </tr>\n",
       "    <tr>\n",
       "      <th>1</th>\n",
       "      <td>AMT_CREDIT &lt;= 102762.0;SK_ID_CURR &lt;= 440557.0;...</td>\n",
       "      <td>0.0</td>\n",
       "      <td>1.0</td>\n",
       "    </tr>\n",
       "    <tr>\n",
       "      <th>2</th>\n",
       "      <td>EXT_SOURCE_2 &lt;= 0.392158;EXT_SOURCE_1 &lt;= 0.425...</td>\n",
       "      <td>0.0</td>\n",
       "      <td>1.0</td>\n",
       "    </tr>\n",
       "    <tr>\n",
       "      <th>3</th>\n",
       "      <td>NAME_EDUCATION_TYPE == Higher education;HOUR_A...</td>\n",
       "      <td>0.0</td>\n",
       "      <td>1.0</td>\n",
       "    </tr>\n",
       "    <tr>\n",
       "      <th>4</th>\n",
       "      <td>EXT_SOURCE_2 &lt;= 0.392158;EXT_SOURCE_1 &gt; 0.4259...</td>\n",
       "      <td>0.0</td>\n",
       "      <td>1.0</td>\n",
       "    </tr>\n",
       "  </tbody>\n",
       "</table>\n",
       "</div>"
      ],
      "text/plain": [
       "                                                rule  cover  target\n",
       "0  DAYS_BIRTH <= -23761.5;AMT_REQ_CREDIT_BUREAU_Y...    0.0     1.0\n",
       "1  AMT_CREDIT <= 102762.0;SK_ID_CURR <= 440557.0;...    0.0     1.0\n",
       "2  EXT_SOURCE_2 <= 0.392158;EXT_SOURCE_1 <= 0.425...    0.0     1.0\n",
       "3  NAME_EDUCATION_TYPE == Higher education;HOUR_A...    0.0     1.0\n",
       "4  EXT_SOURCE_2 <= 0.392158;EXT_SOURCE_1 > 0.4259...    0.0     1.0"
      ]
     },
     "execution_count": 13,
     "metadata": {},
     "output_type": "execute_result"
    }
   ],
   "source": [
    "# 获取所有规则信息的数据集\n",
    "rule_df = get_rule_df(X_train_gbdt, Y_train)\n",
    "rule_df.head()"
   ]
  },
  {
   "cell_type": "markdown",
   "metadata": {},
   "source": [
    "## 逻辑回归"
   ]
  },
  {
   "cell_type": "code",
   "execution_count": 17,
   "metadata": {
    "ExecuteTime": {
     "end_time": "2019-06-27T01:09:30.850667Z",
     "start_time": "2019-06-27T01:08:56.684710Z"
    },
    "scrolled": false
   },
   "outputs": [
    {
     "name": "stdout",
     "output_type": "stream",
     "text": [
      "在L1正则项系数为 0.005 下,训练出的逻辑回归模型共选择了 31 个变量\n",
      "交叉验证结果为:  训练集平均AUC: 0.7243  验证集平均AUC: 0.7208\n",
      "\n",
      "逻辑回归模型如下:\n",
      "1 / (1 + e^(1.016838592724033 + 0.3300950914910841 * X[1] + 0.020349607448408052 * X[2] - 0.01413752332745934 * X[3] + 0.06107196145100728 * X[4] - 0.1665065428989339 * X[5] - 0.13311322587267477 * X[6] - 0.003965953149747113 * X[7] - 0.3089779028107443 * X[8] - 0.032009009670833644 * X[9] - 0.20075264798663278 * X[10] + 0.03932903066610135 * X[11] + 0.21523179930077416 * X[12] - 0.03133184028912312 * X[13] + 0.08281992219506636 * X[14] + 0.025385669509265855 * X[15] - 0.08237202606860983 * X[16] + 0.03214551951476795 * X[17] - 0.057380821600134586 * X[18] + 0.0689120425013211 * X[19] + 0.16374518090279278 * X[20] - 0.049355975680382976 * X[21] + 0.2541849131699279 * X[22] + 0.005935863614716591 * X[23] + 0.7606132109869506 * X[24] + 0.2413382119979138 * X[25] + 0.08999677560682959 * X[26] + 0.08738342387950955 * X[27] + 0.13028770073137716 * X[28] + 0.13396000565805571 * X[29] + 0.028751307871061192 * X[30] - 0.008917938761502674 * X[31]))\n",
      "\n",
      "各变量对应关系如下\n",
      "X[1] ==> EXT_SOURCE_2 > 0.247911;EXT_SOURCE_3 > 0.388482;EXT_SOURCE_2 > 0.55862;OCCUPATION_TYPE != Drivers\n",
      "X[2] ==> EXT_SOURCE_2 > 0.462132;EXT_SOURCE_3 > 0.390197;CODE_GENDER != M;HOUR_APPR_PROCESS_START > 0.5\n",
      "X[3] ==> EXT_SOURCE_2 <= 0.483946;EXT_SOURCE_3 <= 0.474951;AMT_CREDIT > 278536.5;AMT_GOODS_PRICE <= 452250.0\n",
      "X[4] ==> EXT_SOURCE_2 > 0.392158;EXT_SOURCE_3 > 0.302386;YEARS_BEGINEXPLUATATION_AVG > 0.97295;ORGANIZATION_TYPE != Mobile\n",
      "X[5] ==> EXT_SOURCE_2 <= 0.59197;EXT_SOURCE_3 <= 0.264348;EXT_SOURCE_3 > -4.499736;AMT_CREDIT > 249486.75\n",
      "X[6] ==> EXT_SOURCE_2 <= 0.59197;EXT_SOURCE_3 <= 0.514595;NAME_INCOME_TYPE == Working;EXT_SOURCE_1 <= 0.422118\n",
      "X[7] ==> NAME_INCOME_TYPE == Working;EXT_SOURCE_3 <= 0.512793;EXT_SOURCE_1 <= 0.263371;YEARS_BEGINEXPLUATATION_AVG <= 0.98185\n",
      "X[8] ==> EXT_SOURCE_2 <= 0.623427;EXT_SOURCE_3 <= 0.265753;EXT_SOURCE_3 > 0.015787;EXT_SOURCE_3 > 0.038297\n",
      "X[9] ==> NAME_INCOME_TYPE == Working;EXT_SOURCE_3 <= 0.512793;AMT_CREDIT > 227200.5;AMT_GOODS_PRICE <= 677250.0\n",
      "X[10] ==> EXT_SOURCE_1 <= 0.423244;FLAG_DOCUMENT_3 > 0.5;EXT_SOURCE_3 <= 0.510991;NONLIVINGAREA_AVG <= 0.00055\n",
      "X[11] ==> NAME_EDUCATION_TYPE == Higher education;EXT_SOURCE_2 > 0.000514;EXT_SOURCE_2 > 0.019098;NONLIVINGAREA_AVG <= 0.90105\n",
      "X[12] ==> REGION_RATING_CLIENT_W_CITY <= 2.5;DEF_60_CNT_SOCIAL_CIRCLE <= 0.5;OCCUPATION_TYPE != Laborers;OCCUPATION_TYPE != Drivers\n",
      "X[13] ==> EXT_SOURCE_3 <= 0.647153;NAME_EDUCATION_TYPE == Secondary / secondary special;DAYS_ID_PUBLISH > -4723.5;AMT_ANNUITY > 24819.75\n",
      "X[14] ==> OCCUPATION_TYPE != Drivers;OWN_CAR_AGE <= -4.5;CODE_GENDER != M;EXT_SOURCE_2 > 0.48739\n",
      "X[15] ==> AMT_CREDIT > 102762.0;DAYS_EMPLOYED <= -1427.5;DAYS_BIRTH <= -8107.5;NAME_EDUCATION_TYPE != Lower secondary\n",
      "X[16] ==> EXT_SOURCE_2 <= 0.718135;EXT_SOURCE_3 <= 0.674622;FLAG_DOCUMENT_3 > 0.5;AMT_GOODS_PRICE <= 677250.0\n",
      "X[17] ==> NAME_INCOME_TYPE != State servant;LIVINGAPARTMENTS_AVG <= 0.1507;DAYS_LAST_PHONE_CHANGE <= -1122.5;EXT_SOURCE_2 > 0.162283\n",
      "X[18] ==> NONLIVINGAREA_AVG <= 0.00205;EXT_SOURCE_3 <= 0.660215;AMT_CREDIT > 184907.25;OWN_CAR_AGE <= -4.5\n",
      "X[19] ==> ORGANIZATION_TYPE != Self-employed;AMT_CREDIT > 274639.5;AMT_GOODS_PRICE > 452250.0;EXT_SOURCE_2 > 0.00852\n",
      "X[20] ==> ORGANIZATION_TYPE != Industry: type 9;CODE_GENDER == F;REGION_RATING_CLIENT_W_CITY <= 2.5;DAYS_REGISTRATION <= -428.5\n",
      "X[21] ==> DAYS_EMPLOYED > -4649.5;DAYS_BIRTH <= -10139.5;DAYS_BIRTH <= -10141.5;EXT_SOURCE_2 <= 0.391725\n",
      "X[22] ==> DAYS_EMPLOYED > -4649.5;DAYS_BIRTH <= -10139.5;DAYS_BIRTH <= -10141.5;EXT_SOURCE_2 > 0.391725\n",
      "X[23] ==> AMT_ANNUITY <= 63510.75;AMT_ANNUITY <= 24167.25;AMT_ANNUITY <= 23481.0;HOUR_APPR_PROCESS_START > 0.5\n",
      "X[24] ==> EXT_SOURCE_2 > -4.499997;EXT_SOURCE_2 > 9.9e-05;EXT_SOURCE_2 > 0.011652;EXT_SOURCE_2 > 0.013394\n",
      "X[25] ==> HOUR_APPR_PROCESS_START > 7.5;DAYS_BIRTH <= -10139.5;DAYS_BIRTH <= -10143.5;EXT_SOURCE_3 > 0.582361\n",
      "X[26] ==> NAME_INCOME_TYPE != Maternity leave;DAYS_BIRTH > -23292.5;DAYS_EMPLOYED <= -1254.5;OBS_30_CNT_SOCIAL_CIRCLE <= 6.5\n",
      "X[27] ==> DAYS_EMPLOYED > -11687.5;DAYS_EMPLOYED > -11685.5;NAME_INCOME_TYPE != Working;ORGANIZATION_TYPE != Transport: type 3\n",
      "X[28] ==> EXT_SOURCE_3 <= 0.804452;EXT_SOURCE_3 > 0.015787;EXT_SOURCE_3 > 0.058627;EXT_SOURCE_3 > 0.155217\n",
      "X[29] ==> ORGANIZATION_TYPE != Self-employed;ORGANIZATION_TYPE != Business Entity Type 3;EXT_SOURCE_2 > 0.007688;SK_ID_CURR > 154558.5\n",
      "X[30] ==> OCCUPATION_TYPE != Drivers;ORGANIZATION_TYPE != Construction;OWN_CAR_AGE > -4.5;DAYS_BIRTH <= -8662.5\n",
      "X[31] ==> AMT_ANNUITY > 24167.25;AMT_GOODS_PRICE <= 677250.0;OBS_30_CNT_SOCIAL_CIRCLE <= 16.5;AMT_CREDIT > 358859.25\n"
     ]
    }
   ],
   "source": [
    "# 训练逻辑回归模型\n",
    "# 选择的变量数与C呈正相关，C越大选择的变量数越多，C越大选择的变量数越多，C越小选择的变量数越少\n",
    "intercept, coef, cols = get_lr_model(X_train_gbdt, Y_train, C=0.005)"
   ]
  },
  {
   "cell_type": "code",
   "execution_count": 18,
   "metadata": {
    "ExecuteTime": {
     "end_time": "2019-06-27T01:09:54.713035Z",
     "start_time": "2019-06-27T01:09:49.218721Z"
    }
   },
   "outputs": [
    {
     "data": {
      "text/plain": [
       "53107    0.051737\n",
       "42038    0.073460\n",
       "48694    0.063747\n",
       "39556    0.093470\n",
       "25479    0.074532\n",
       "dtype: float64"
      ]
     },
     "execution_count": 18,
     "metadata": {},
     "output_type": "execute_result"
    }
   ],
   "source": [
    "# 计算预测的概率值\n",
    "lr_proba = get_lr_proba(intercept, coef, cols, X_train_gbdt)\n",
    "lr_proba[:5]"
   ]
  },
  {
   "cell_type": "code",
   "execution_count": 19,
   "metadata": {
    "ExecuteTime": {
     "end_time": "2019-06-27T01:10:18.165378Z",
     "start_time": "2019-06-27T01:09:58.339246Z"
    }
   },
   "outputs": [
    {
     "name": "stdout",
     "output_type": "stream",
     "text": [
      "AUC: 0.7069  KS: 0.3103\n"
     ]
    }
   ],
   "source": [
    "# 对测试集回溯GBDT衍生变量，并预测概率值，查看AUC、KS\n",
    "X_test_gbdt = get_data_gbdt(X_test_trans, gbdt_path_var.columns)\n",
    "test_proba = get_lr_proba(intercept, coef, cols, X_test_gbdt, Y_test)"
   ]
  },
  {
   "cell_type": "code",
   "execution_count": null,
   "metadata": {},
   "outputs": [],
   "source": []
  }
 ],
 "metadata": {
  "kernelspec": {
   "display_name": "Python 3",
   "language": "python",
   "name": "python3"
  },
  "language_info": {
   "codemirror_mode": {
    "name": "ipython",
    "version": 3
   },
   "file_extension": ".py",
   "mimetype": "text/x-python",
   "name": "python",
   "nbconvert_exporter": "python",
   "pygments_lexer": "ipython3",
   "version": "3.6.5"
  },
  "toc": {
   "base_numbering": 1,
   "nav_menu": {},
   "number_sections": true,
   "sideBar": true,
   "skip_h1_title": false,
   "title_cell": "Table of Contents",
   "title_sidebar": "Contents",
   "toc_cell": false,
   "toc_position": {},
   "toc_section_display": true,
   "toc_window_display": false
  },
  "varInspector": {
   "cols": {
    "lenName": 16,
    "lenType": 16,
    "lenVar": 40
   },
   "kernels_config": {
    "python": {
     "delete_cmd_postfix": "",
     "delete_cmd_prefix": "del ",
     "library": "var_list.py",
     "varRefreshCmd": "print(var_dic_list())"
    },
    "r": {
     "delete_cmd_postfix": ") ",
     "delete_cmd_prefix": "rm(",
     "library": "var_list.r",
     "varRefreshCmd": "cat(var_dic_list()) "
    }
   },
   "types_to_exclude": [
    "module",
    "function",
    "builtin_function_or_method",
    "instance",
    "_Feature"
   ],
   "window_display": false
  }
 },
 "nbformat": 4,
 "nbformat_minor": 2
}
