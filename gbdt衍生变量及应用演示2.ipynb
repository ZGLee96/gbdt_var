{
 "cells": [
  {
   "cell_type": "markdown",
   "metadata": {},
   "source": [
    "## 准备工作"
   ]
  },
  {
   "cell_type": "code",
   "execution_count": 1,
   "metadata": {
    "ExecuteTime": {
     "end_time": "2019-09-18T07:54:01.617813Z",
     "start_time": "2019-09-18T07:54:00.912772Z"
    }
   },
   "outputs": [],
   "source": [
    "import numpy as np\n",
    "import pandas as pd\n",
    "import os"
   ]
  },
  {
   "cell_type": "code",
   "execution_count": 2,
   "metadata": {
    "ExecuteTime": {
     "end_time": "2019-09-18T07:54:03.175905Z",
     "start_time": "2019-09-18T07:54:01.631818Z"
    }
   },
   "outputs": [],
   "source": [
    "# 读取数据集\n",
    "data = pd.read_csv(r'data/application_train.csv')\n",
    "data.columns = [col.upper() for col in data.columns]"
   ]
  },
  {
   "cell_type": "code",
   "execution_count": 3,
   "metadata": {
    "ExecuteTime": {
     "end_time": "2019-09-18T07:54:21.931980Z",
     "start_time": "2019-09-18T07:54:15.381613Z"
    }
   },
   "outputs": [],
   "source": [
    "# 导入gbdt_var的方法\n",
    "from gbdt_var import get_gbdt_path_var, get_data_gbdt, get_head_rule, get_rule_df, get_lr_model, get_lr_proba\n",
    "\n",
    "# 导入数据集比较的代码\n",
    "os.chdir('../common_function')\n",
    "from common_function import dataframe_compare_all, dataframe_compare_sigle\n",
    "\n",
    "# 导入自动建模代码\n",
    "os.chdir('../../Auto-Modeling/auto_modeling')\n",
    "import auto_modeling as am"
   ]
  },
  {
   "cell_type": "code",
   "execution_count": 4,
   "metadata": {
    "ExecuteTime": {
     "end_time": "2019-09-18T07:54:23.328055Z",
     "start_time": "2019-09-18T07:54:22.130987Z"
    }
   },
   "outputs": [
    {
     "name": "stdout",
     "output_type": "stream",
     "text": [
      ">> 数据集划分成功,无跨时间测试集\n",
      ">> 训练集样本数: 43051\n",
      ">> 测试集样本数: 18451\n",
      ">> 训练集目标情况如下:\n",
      "   训练集TARGET为 0 的数量: 39583  占比: 91.94%\n",
      "   训练集TARGET为 1 的数量: 3468  占比: 8.06%\n"
     ]
    }
   ],
   "source": [
    "# 划分数据集\n",
    "X_train, Y_train, X_test, Y_test, X_time_test, Y_time_test = am.data_split(\n",
    "    data, test_size=0.3, time_test_type=False)"
   ]
  },
  {
   "cell_type": "code",
   "execution_count": 6,
   "metadata": {
    "ExecuteTime": {
     "end_time": "2019-06-26T10:05:27.559625Z",
     "start_time": "2019-06-26T09:48:42.122044Z"
    },
    "scrolled": true
   },
   "outputs": [
    {
     "name": "stdout",
     "output_type": "stream",
     "text": [
      ">> 根据缺失率删除 0 个变量\n",
      ">> 根据同质性删除 2 个变量\n",
      ">> 根据最大计数类别删除 0 个变量\n",
      ">> 根据相关性删除 0 个变量\n",
      ">> 特征重要度迭代次数 |■■■■■■■■■■■■■■■■■■■■■■■■■■■■■■■■■■■■■■■■■■■■■■   根据条件提前停止迭代\n",
      ">> 根据特征重要度最终保留 37 个变量\n",
      ">> 具体保留变量如下:\n",
      "   ['EXT_SOURCE_3', 'EXT_SOURCE_2', 'ORGANIZATION_TYPE', 'EXT_SOURCE_1', 'AMT_CREDIT', 'AMT_ANNUITY', 'DAYS_ID_PUBLISH', 'DAYS_BIRTH', 'AMT_GOODS_PRICE', 'DAYS_REGISTRATION', 'DAYS_LAST_PHONE_CHANGE', 'SK_ID_CURR', 'DAYS_EMPLOYED', 'OWN_CAR_AGE', 'OCCUPATION_TYPE', 'REGION_POPULATION_RELATIVE', 'AMT_INCOME_TOTAL', 'YEARS_BEGINEXPLUATATION_AVG', 'AMT_REQ_CREDIT_BUREAU_YEAR', 'LANDAREA_AVG', 'TOTALAREA_MODE', 'BASEMENTAREA_MODE', 'HOUR_APPR_PROCESS_START', 'NONLIVINGAREA_AVG', 'LIVINGAREA_MODE', 'APARTMENTS_AVG', 'OBS_30_CNT_SOCIAL_CIRCLE', 'CODE_GENDER', 'NAME_EDUCATION_TYPE', 'LIVINGAPARTMENTS_AVG', 'YEARS_BUILD_AVG', 'NAME_INCOME_TYPE', 'COMMONAREA_AVG', 'DEF_60_CNT_SOCIAL_CIRCLE', 'APARTMENTS_MODE', 'FLAG_DOCUMENT_3', 'REGION_RATING_CLIENT_W_CITY']\n"
     ]
    }
   ],
   "source": [
    "# 特征选择\n",
    "keep_cols = am.feature_select(X_train, Y_train, cols_number=50, auto_iteration=True, verbose=False)[0]"
   ]
  },
  {
   "cell_type": "code",
   "execution_count": 6,
   "metadata": {
    "ExecuteTime": {
     "end_time": "2019-09-18T07:54:34.877722Z",
     "start_time": "2019-09-18T07:54:34.715712Z"
    }
   },
   "outputs": [],
   "source": [
    "# 转换数据集\n",
    "X_train_trans, X_test_trans, X_time_test_trans, num_cols, char_cols = am.get_coltype_datalist(\n",
    "    X_train, X_test, X_time_test, keep_cols)\n",
    "\n",
    "# 封装DataFrameMapper\n",
    "mapper = am.get_mapper(num_cols, char_cols)"
   ]
  },
  {
   "cell_type": "code",
   "execution_count": 9,
   "metadata": {
    "ExecuteTime": {
     "end_time": "2019-09-18T07:55:14.825011Z",
     "start_time": "2019-09-18T07:55:14.819010Z"
    }
   },
   "outputs": [],
   "source": [
    "# 建立深度为4的模型模型，也就是让GBDT的路径长度不超过4\n",
    "# 并且确保每条路径的样本覆盖率超过0.01\n",
    "# 路径个数限制在160条内\n",
    "from sklearn.ensemble import GradientBoostingClassifier\n",
    "\n",
    "model = GradientBoostingClassifier(max_depth=4, min_samples_leaf=0.01, n_estimators=10, random_state=1234)"
   ]
  },
  {
   "cell_type": "markdown",
   "metadata": {},
   "source": [
    "## 衍生GBDT变量"
   ]
  },
  {
   "cell_type": "code",
   "execution_count": 10,
   "metadata": {
    "ExecuteTime": {
     "end_time": "2019-09-18T07:55:21.837413Z",
     "start_time": "2019-09-18T07:55:16.168089Z"
    }
   },
   "outputs": [
    {
     "data": {
      "text/html": [
       "<div>\n",
       "<style scoped>\n",
       "    .dataframe tbody tr th:only-of-type {\n",
       "        vertical-align: middle;\n",
       "    }\n",
       "\n",
       "    .dataframe tbody tr th {\n",
       "        vertical-align: top;\n",
       "    }\n",
       "\n",
       "    .dataframe thead th {\n",
       "        text-align: right;\n",
       "    }\n",
       "</style>\n",
       "<table border=\"1\" class=\"dataframe\">\n",
       "  <thead>\n",
       "    <tr style=\"text-align: right;\">\n",
       "      <th></th>\n",
       "      <th>EXT_SOURCE_2 &lt;= 0.356838;EXT_SOURCE_3 &lt;= 0.36813;EXT_SOURCE_2 &lt;= 0.108422;EXT_SOURCE_3 &lt;= -4.499736</th>\n",
       "      <th>EXT_SOURCE_2 &lt;= 0.356838;EXT_SOURCE_3 &lt;= 0.36813;EXT_SOURCE_2 &lt;= 0.108422;EXT_SOURCE_3 &gt; -4.499736</th>\n",
       "      <th>EXT_SOURCE_2 &lt;= 0.356838;EXT_SOURCE_3 &lt;= 0.36813;EXT_SOURCE_2 &gt; 0.108422;EXT_SOURCE_3 &lt;= -4.499736</th>\n",
       "      <th>EXT_SOURCE_2 &lt;= 0.356838;EXT_SOURCE_3 &lt;= 0.36813;EXT_SOURCE_2 &gt; 0.108422;EXT_SOURCE_3 &gt; -4.499736</th>\n",
       "      <th>EXT_SOURCE_2 &lt;= 0.356838;EXT_SOURCE_3 &gt; 0.36813;EXT_SOURCE_2 &lt;= 0.137969;DAYS_BIRTH &lt;= -14238.0</th>\n",
       "      <th>EXT_SOURCE_2 &lt;= 0.356838;EXT_SOURCE_3 &gt; 0.36813;EXT_SOURCE_2 &lt;= 0.137969;DAYS_BIRTH &gt; -14238.0</th>\n",
       "      <th>EXT_SOURCE_2 &lt;= 0.356838;EXT_SOURCE_3 &gt; 0.36813;EXT_SOURCE_2 &gt; 0.137969;EXT_SOURCE_3 &lt;= 0.5718</th>\n",
       "      <th>EXT_SOURCE_2 &lt;= 0.356838;EXT_SOURCE_3 &gt; 0.36813;EXT_SOURCE_2 &gt; 0.137969;EXT_SOURCE_3 &gt; 0.5718</th>\n",
       "      <th>EXT_SOURCE_2 &gt; 0.356838;EXT_SOURCE_3 &lt;= 0.42325;EXT_SOURCE_2 &lt;= 0.597194;EXT_SOURCE_3 &lt;= -4.499736</th>\n",
       "      <th>EXT_SOURCE_2 &gt; 0.356838;EXT_SOURCE_3 &lt;= 0.42325;EXT_SOURCE_2 &lt;= 0.597194;EXT_SOURCE_3 &gt; -4.499736</th>\n",
       "      <th>...</th>\n",
       "      <th>EXT_SOURCE_2 &lt;= 0.170427;EXT_SOURCE_3 &gt; 0.245184;DAYS_REGISTRATION &lt;= -2977.0;AMT_ANNUITY &gt; 24781.5</th>\n",
       "      <th>EXT_SOURCE_2 &lt;= 0.170427;EXT_SOURCE_3 &gt; 0.245184;DAYS_REGISTRATION &gt; -2977.0</th>\n",
       "      <th>EXT_SOURCE_2 &gt; 0.170427;EXT_SOURCE_3 &lt;= 0.343342;EXT_SOURCE_3 &lt;= 0.008772;DAYS_ID_PUBLISH &lt;= -4176.5</th>\n",
       "      <th>EXT_SOURCE_2 &gt; 0.170427;EXT_SOURCE_3 &lt;= 0.343342;EXT_SOURCE_3 &lt;= 0.008772;DAYS_ID_PUBLISH &gt; -4176.5</th>\n",
       "      <th>EXT_SOURCE_2 &gt; 0.170427;EXT_SOURCE_3 &lt;= 0.343342;EXT_SOURCE_3 &gt; 0.008772;EXT_SOURCE_3 &lt;= 0.145992</th>\n",
       "      <th>EXT_SOURCE_2 &gt; 0.170427;EXT_SOURCE_3 &lt;= 0.343342;EXT_SOURCE_3 &gt; 0.008772;EXT_SOURCE_3 &gt; 0.145992</th>\n",
       "      <th>EXT_SOURCE_2 &gt; 0.170427;EXT_SOURCE_3 &gt; 0.343342;EXT_SOURCE_2 &lt;= 0.55861;EXT_SOURCE_1 &lt;= 0.530291</th>\n",
       "      <th>EXT_SOURCE_2 &gt; 0.170427;EXT_SOURCE_3 &gt; 0.343342;EXT_SOURCE_2 &lt;= 0.55861;EXT_SOURCE_1 &gt; 0.530291</th>\n",
       "      <th>EXT_SOURCE_2 &gt; 0.170427;EXT_SOURCE_3 &gt; 0.343342;EXT_SOURCE_2 &gt; 0.55861;OCCUPATION_TYPE != Drivers</th>\n",
       "      <th>EXT_SOURCE_2 &gt; 0.170427;EXT_SOURCE_3 &gt; 0.343342;EXT_SOURCE_2 &gt; 0.55861;OCCUPATION_TYPE == Drivers</th>\n",
       "    </tr>\n",
       "  </thead>\n",
       "  <tbody>\n",
       "    <tr>\n",
       "      <th>0</th>\n",
       "      <td>0</td>\n",
       "      <td>0</td>\n",
       "      <td>0</td>\n",
       "      <td>0</td>\n",
       "      <td>0</td>\n",
       "      <td>0</td>\n",
       "      <td>0</td>\n",
       "      <td>0</td>\n",
       "      <td>0</td>\n",
       "      <td>0</td>\n",
       "      <td>...</td>\n",
       "      <td>0</td>\n",
       "      <td>0</td>\n",
       "      <td>0</td>\n",
       "      <td>0</td>\n",
       "      <td>0</td>\n",
       "      <td>0</td>\n",
       "      <td>1</td>\n",
       "      <td>0</td>\n",
       "      <td>0</td>\n",
       "      <td>0</td>\n",
       "    </tr>\n",
       "    <tr>\n",
       "      <th>1</th>\n",
       "      <td>0</td>\n",
       "      <td>0</td>\n",
       "      <td>0</td>\n",
       "      <td>0</td>\n",
       "      <td>0</td>\n",
       "      <td>0</td>\n",
       "      <td>0</td>\n",
       "      <td>0</td>\n",
       "      <td>0</td>\n",
       "      <td>0</td>\n",
       "      <td>...</td>\n",
       "      <td>0</td>\n",
       "      <td>0</td>\n",
       "      <td>0</td>\n",
       "      <td>0</td>\n",
       "      <td>0</td>\n",
       "      <td>0</td>\n",
       "      <td>0</td>\n",
       "      <td>0</td>\n",
       "      <td>1</td>\n",
       "      <td>0</td>\n",
       "    </tr>\n",
       "    <tr>\n",
       "      <th>2</th>\n",
       "      <td>0</td>\n",
       "      <td>0</td>\n",
       "      <td>0</td>\n",
       "      <td>0</td>\n",
       "      <td>0</td>\n",
       "      <td>0</td>\n",
       "      <td>0</td>\n",
       "      <td>0</td>\n",
       "      <td>0</td>\n",
       "      <td>1</td>\n",
       "      <td>...</td>\n",
       "      <td>0</td>\n",
       "      <td>0</td>\n",
       "      <td>0</td>\n",
       "      <td>0</td>\n",
       "      <td>0</td>\n",
       "      <td>1</td>\n",
       "      <td>0</td>\n",
       "      <td>0</td>\n",
       "      <td>0</td>\n",
       "      <td>0</td>\n",
       "    </tr>\n",
       "    <tr>\n",
       "      <th>3</th>\n",
       "      <td>0</td>\n",
       "      <td>0</td>\n",
       "      <td>0</td>\n",
       "      <td>0</td>\n",
       "      <td>0</td>\n",
       "      <td>0</td>\n",
       "      <td>0</td>\n",
       "      <td>0</td>\n",
       "      <td>0</td>\n",
       "      <td>0</td>\n",
       "      <td>...</td>\n",
       "      <td>0</td>\n",
       "      <td>0</td>\n",
       "      <td>0</td>\n",
       "      <td>1</td>\n",
       "      <td>0</td>\n",
       "      <td>0</td>\n",
       "      <td>0</td>\n",
       "      <td>0</td>\n",
       "      <td>0</td>\n",
       "      <td>0</td>\n",
       "    </tr>\n",
       "    <tr>\n",
       "      <th>4</th>\n",
       "      <td>0</td>\n",
       "      <td>0</td>\n",
       "      <td>0</td>\n",
       "      <td>0</td>\n",
       "      <td>0</td>\n",
       "      <td>0</td>\n",
       "      <td>0</td>\n",
       "      <td>0</td>\n",
       "      <td>0</td>\n",
       "      <td>0</td>\n",
       "      <td>...</td>\n",
       "      <td>0</td>\n",
       "      <td>0</td>\n",
       "      <td>1</td>\n",
       "      <td>0</td>\n",
       "      <td>0</td>\n",
       "      <td>0</td>\n",
       "      <td>0</td>\n",
       "      <td>0</td>\n",
       "      <td>0</td>\n",
       "      <td>0</td>\n",
       "    </tr>\n",
       "  </tbody>\n",
       "</table>\n",
       "<p>5 rows × 152 columns</p>\n",
       "</div>"
      ],
      "text/plain": [
       "   EXT_SOURCE_2 <= 0.356838;EXT_SOURCE_3 <= 0.36813;EXT_SOURCE_2 <= 0.108422;EXT_SOURCE_3 <= -4.499736  \\\n",
       "0                                                  0                                                     \n",
       "1                                                  0                                                     \n",
       "2                                                  0                                                     \n",
       "3                                                  0                                                     \n",
       "4                                                  0                                                     \n",
       "\n",
       "   EXT_SOURCE_2 <= 0.356838;EXT_SOURCE_3 <= 0.36813;EXT_SOURCE_2 <= 0.108422;EXT_SOURCE_3 > -4.499736  \\\n",
       "0                                                  0                                                    \n",
       "1                                                  0                                                    \n",
       "2                                                  0                                                    \n",
       "3                                                  0                                                    \n",
       "4                                                  0                                                    \n",
       "\n",
       "   EXT_SOURCE_2 <= 0.356838;EXT_SOURCE_3 <= 0.36813;EXT_SOURCE_2 > 0.108422;EXT_SOURCE_3 <= -4.499736  \\\n",
       "0                                                  0                                                    \n",
       "1                                                  0                                                    \n",
       "2                                                  0                                                    \n",
       "3                                                  0                                                    \n",
       "4                                                  0                                                    \n",
       "\n",
       "   EXT_SOURCE_2 <= 0.356838;EXT_SOURCE_3 <= 0.36813;EXT_SOURCE_2 > 0.108422;EXT_SOURCE_3 > -4.499736  \\\n",
       "0                                                  0                                                   \n",
       "1                                                  0                                                   \n",
       "2                                                  0                                                   \n",
       "3                                                  0                                                   \n",
       "4                                                  0                                                   \n",
       "\n",
       "   EXT_SOURCE_2 <= 0.356838;EXT_SOURCE_3 > 0.36813;EXT_SOURCE_2 <= 0.137969;DAYS_BIRTH <= -14238.0  \\\n",
       "0                                                  0                                                 \n",
       "1                                                  0                                                 \n",
       "2                                                  0                                                 \n",
       "3                                                  0                                                 \n",
       "4                                                  0                                                 \n",
       "\n",
       "   EXT_SOURCE_2 <= 0.356838;EXT_SOURCE_3 > 0.36813;EXT_SOURCE_2 <= 0.137969;DAYS_BIRTH > -14238.0  \\\n",
       "0                                                  0                                                \n",
       "1                                                  0                                                \n",
       "2                                                  0                                                \n",
       "3                                                  0                                                \n",
       "4                                                  0                                                \n",
       "\n",
       "   EXT_SOURCE_2 <= 0.356838;EXT_SOURCE_3 > 0.36813;EXT_SOURCE_2 > 0.137969;EXT_SOURCE_3 <= 0.5718  \\\n",
       "0                                                  0                                                \n",
       "1                                                  0                                                \n",
       "2                                                  0                                                \n",
       "3                                                  0                                                \n",
       "4                                                  0                                                \n",
       "\n",
       "   EXT_SOURCE_2 <= 0.356838;EXT_SOURCE_3 > 0.36813;EXT_SOURCE_2 > 0.137969;EXT_SOURCE_3 > 0.5718  \\\n",
       "0                                                  0                                               \n",
       "1                                                  0                                               \n",
       "2                                                  0                                               \n",
       "3                                                  0                                               \n",
       "4                                                  0                                               \n",
       "\n",
       "   EXT_SOURCE_2 > 0.356838;EXT_SOURCE_3 <= 0.42325;EXT_SOURCE_2 <= 0.597194;EXT_SOURCE_3 <= -4.499736  \\\n",
       "0                                                  0                                                    \n",
       "1                                                  0                                                    \n",
       "2                                                  0                                                    \n",
       "3                                                  0                                                    \n",
       "4                                                  0                                                    \n",
       "\n",
       "   EXT_SOURCE_2 > 0.356838;EXT_SOURCE_3 <= 0.42325;EXT_SOURCE_2 <= 0.597194;EXT_SOURCE_3 > -4.499736  \\\n",
       "0                                                  0                                                   \n",
       "1                                                  0                                                   \n",
       "2                                                  1                                                   \n",
       "3                                                  0                                                   \n",
       "4                                                  0                                                   \n",
       "\n",
       "   ...  \\\n",
       "0  ...   \n",
       "1  ...   \n",
       "2  ...   \n",
       "3  ...   \n",
       "4  ...   \n",
       "\n",
       "   EXT_SOURCE_2 <= 0.170427;EXT_SOURCE_3 > 0.245184;DAYS_REGISTRATION <= -2977.0;AMT_ANNUITY > 24781.5  \\\n",
       "0                                                  0                                                     \n",
       "1                                                  0                                                     \n",
       "2                                                  0                                                     \n",
       "3                                                  0                                                     \n",
       "4                                                  0                                                     \n",
       "\n",
       "   EXT_SOURCE_2 <= 0.170427;EXT_SOURCE_3 > 0.245184;DAYS_REGISTRATION > -2977.0  \\\n",
       "0                                                  0                              \n",
       "1                                                  0                              \n",
       "2                                                  0                              \n",
       "3                                                  0                              \n",
       "4                                                  0                              \n",
       "\n",
       "   EXT_SOURCE_2 > 0.170427;EXT_SOURCE_3 <= 0.343342;EXT_SOURCE_3 <= 0.008772;DAYS_ID_PUBLISH <= -4176.5  \\\n",
       "0                                                  0                                                      \n",
       "1                                                  0                                                      \n",
       "2                                                  0                                                      \n",
       "3                                                  0                                                      \n",
       "4                                                  1                                                      \n",
       "\n",
       "   EXT_SOURCE_2 > 0.170427;EXT_SOURCE_3 <= 0.343342;EXT_SOURCE_3 <= 0.008772;DAYS_ID_PUBLISH > -4176.5  \\\n",
       "0                                                  0                                                     \n",
       "1                                                  0                                                     \n",
       "2                                                  0                                                     \n",
       "3                                                  1                                                     \n",
       "4                                                  0                                                     \n",
       "\n",
       "   EXT_SOURCE_2 > 0.170427;EXT_SOURCE_3 <= 0.343342;EXT_SOURCE_3 > 0.008772;EXT_SOURCE_3 <= 0.145992  \\\n",
       "0                                                  0                                                   \n",
       "1                                                  0                                                   \n",
       "2                                                  0                                                   \n",
       "3                                                  0                                                   \n",
       "4                                                  0                                                   \n",
       "\n",
       "   EXT_SOURCE_2 > 0.170427;EXT_SOURCE_3 <= 0.343342;EXT_SOURCE_3 > 0.008772;EXT_SOURCE_3 > 0.145992  \\\n",
       "0                                                  0                                                  \n",
       "1                                                  0                                                  \n",
       "2                                                  1                                                  \n",
       "3                                                  0                                                  \n",
       "4                                                  0                                                  \n",
       "\n",
       "   EXT_SOURCE_2 > 0.170427;EXT_SOURCE_3 > 0.343342;EXT_SOURCE_2 <= 0.55861;EXT_SOURCE_1 <= 0.530291  \\\n",
       "0                                                  1                                                  \n",
       "1                                                  0                                                  \n",
       "2                                                  0                                                  \n",
       "3                                                  0                                                  \n",
       "4                                                  0                                                  \n",
       "\n",
       "   EXT_SOURCE_2 > 0.170427;EXT_SOURCE_3 > 0.343342;EXT_SOURCE_2 <= 0.55861;EXT_SOURCE_1 > 0.530291  \\\n",
       "0                                                  0                                                 \n",
       "1                                                  0                                                 \n",
       "2                                                  0                                                 \n",
       "3                                                  0                                                 \n",
       "4                                                  0                                                 \n",
       "\n",
       "   EXT_SOURCE_2 > 0.170427;EXT_SOURCE_3 > 0.343342;EXT_SOURCE_2 > 0.55861;OCCUPATION_TYPE != Drivers  \\\n",
       "0                                                  0                                                   \n",
       "1                                                  1                                                   \n",
       "2                                                  0                                                   \n",
       "3                                                  0                                                   \n",
       "4                                                  0                                                   \n",
       "\n",
       "   EXT_SOURCE_2 > 0.170427;EXT_SOURCE_3 > 0.343342;EXT_SOURCE_2 > 0.55861;OCCUPATION_TYPE == Drivers  \n",
       "0                                                  0                                                  \n",
       "1                                                  0                                                  \n",
       "2                                                  0                                                  \n",
       "3                                                  0                                                  \n",
       "4                                                  0                                                  \n",
       "\n",
       "[5 rows x 152 columns]"
      ]
     },
     "execution_count": 10,
     "metadata": {},
     "output_type": "execute_result"
    }
   ],
   "source": [
    "# 衍生gbdt变量\n",
    "gbdt_path_var = get_gbdt_path_var(X_train_trans, model, y=Y_train, one_hot=False)\n",
    "gbdt_path_var.head()"
   ]
  },
  {
   "cell_type": "code",
   "execution_count": 11,
   "metadata": {
    "ExecuteTime": {
     "end_time": "2019-09-18T07:55:31.719978Z",
     "start_time": "2019-09-18T07:55:27.220714Z"
    }
   },
   "outputs": [
    {
     "data": {
      "text/html": [
       "<div>\n",
       "<style scoped>\n",
       "    .dataframe tbody tr th:only-of-type {\n",
       "        vertical-align: middle;\n",
       "    }\n",
       "\n",
       "    .dataframe tbody tr th {\n",
       "        vertical-align: top;\n",
       "    }\n",
       "\n",
       "    .dataframe thead th {\n",
       "        text-align: right;\n",
       "    }\n",
       "</style>\n",
       "<table border=\"1\" class=\"dataframe\">\n",
       "  <thead>\n",
       "    <tr style=\"text-align: right;\">\n",
       "      <th></th>\n",
       "      <th>EXT_SOURCE_2 &lt;= 0.356838;EXT_SOURCE_3 &lt;= 0.36813;EXT_SOURCE_2 &lt;= 0.108422;EXT_SOURCE_3 &lt;= -4.499736</th>\n",
       "      <th>EXT_SOURCE_2 &lt;= 0.356838;EXT_SOURCE_3 &lt;= 0.36813;EXT_SOURCE_2 &lt;= 0.108422;EXT_SOURCE_3 &gt; -4.499736</th>\n",
       "      <th>EXT_SOURCE_2 &lt;= 0.356838;EXT_SOURCE_3 &lt;= 0.36813;EXT_SOURCE_2 &gt; 0.108422;EXT_SOURCE_3 &lt;= -4.499736</th>\n",
       "      <th>EXT_SOURCE_2 &lt;= 0.356838;EXT_SOURCE_3 &lt;= 0.36813;EXT_SOURCE_2 &gt; 0.108422;EXT_SOURCE_3 &gt; -4.499736</th>\n",
       "      <th>EXT_SOURCE_2 &lt;= 0.356838;EXT_SOURCE_3 &gt; 0.36813;EXT_SOURCE_2 &lt;= 0.137969;DAYS_BIRTH &lt;= -14238.0</th>\n",
       "      <th>EXT_SOURCE_2 &lt;= 0.356838;EXT_SOURCE_3 &gt; 0.36813;EXT_SOURCE_2 &lt;= 0.137969;DAYS_BIRTH &gt; -14238.0</th>\n",
       "      <th>EXT_SOURCE_2 &lt;= 0.356838;EXT_SOURCE_3 &gt; 0.36813;EXT_SOURCE_2 &gt; 0.137969;EXT_SOURCE_3 &lt;= 0.5718</th>\n",
       "      <th>EXT_SOURCE_2 &lt;= 0.356838;EXT_SOURCE_3 &gt; 0.36813;EXT_SOURCE_2 &gt; 0.137969;EXT_SOURCE_3 &gt; 0.5718</th>\n",
       "      <th>EXT_SOURCE_2 &gt; 0.356838;EXT_SOURCE_3 &lt;= 0.42325;EXT_SOURCE_2 &lt;= 0.597194;EXT_SOURCE_3 &lt;= -4.499736</th>\n",
       "      <th>EXT_SOURCE_2 &gt; 0.356838;EXT_SOURCE_3 &lt;= 0.42325;EXT_SOURCE_2 &lt;= 0.597194;EXT_SOURCE_3 &gt; -4.499736</th>\n",
       "      <th>...</th>\n",
       "      <th>EXT_SOURCE_2 &lt;= 0.170427;EXT_SOURCE_3 &gt; 0.245184;DAYS_REGISTRATION &lt;= -2977.0;AMT_ANNUITY &gt; 24781.5</th>\n",
       "      <th>EXT_SOURCE_2 &lt;= 0.170427;EXT_SOURCE_3 &gt; 0.245184;DAYS_REGISTRATION &gt; -2977.0</th>\n",
       "      <th>EXT_SOURCE_2 &gt; 0.170427;EXT_SOURCE_3 &lt;= 0.343342;EXT_SOURCE_3 &lt;= 0.008772;DAYS_ID_PUBLISH &lt;= -4176.5</th>\n",
       "      <th>EXT_SOURCE_2 &gt; 0.170427;EXT_SOURCE_3 &lt;= 0.343342;EXT_SOURCE_3 &lt;= 0.008772;DAYS_ID_PUBLISH &gt; -4176.5</th>\n",
       "      <th>EXT_SOURCE_2 &gt; 0.170427;EXT_SOURCE_3 &lt;= 0.343342;EXT_SOURCE_3 &gt; 0.008772;EXT_SOURCE_3 &lt;= 0.145992</th>\n",
       "      <th>EXT_SOURCE_2 &gt; 0.170427;EXT_SOURCE_3 &lt;= 0.343342;EXT_SOURCE_3 &gt; 0.008772;EXT_SOURCE_3 &gt; 0.145992</th>\n",
       "      <th>EXT_SOURCE_2 &gt; 0.170427;EXT_SOURCE_3 &gt; 0.343342;EXT_SOURCE_2 &lt;= 0.55861;EXT_SOURCE_1 &lt;= 0.530291</th>\n",
       "      <th>EXT_SOURCE_2 &gt; 0.170427;EXT_SOURCE_3 &gt; 0.343342;EXT_SOURCE_2 &lt;= 0.55861;EXT_SOURCE_1 &gt; 0.530291</th>\n",
       "      <th>EXT_SOURCE_2 &gt; 0.170427;EXT_SOURCE_3 &gt; 0.343342;EXT_SOURCE_2 &gt; 0.55861;OCCUPATION_TYPE != Drivers</th>\n",
       "      <th>EXT_SOURCE_2 &gt; 0.170427;EXT_SOURCE_3 &gt; 0.343342;EXT_SOURCE_2 &gt; 0.55861;OCCUPATION_TYPE == Drivers</th>\n",
       "    </tr>\n",
       "  </thead>\n",
       "  <tbody>\n",
       "    <tr>\n",
       "      <th>53107</th>\n",
       "      <td>0</td>\n",
       "      <td>0</td>\n",
       "      <td>0</td>\n",
       "      <td>0</td>\n",
       "      <td>0</td>\n",
       "      <td>0</td>\n",
       "      <td>0</td>\n",
       "      <td>0</td>\n",
       "      <td>0</td>\n",
       "      <td>0</td>\n",
       "      <td>...</td>\n",
       "      <td>0</td>\n",
       "      <td>0</td>\n",
       "      <td>0</td>\n",
       "      <td>0</td>\n",
       "      <td>0</td>\n",
       "      <td>0</td>\n",
       "      <td>1</td>\n",
       "      <td>0</td>\n",
       "      <td>0</td>\n",
       "      <td>0</td>\n",
       "    </tr>\n",
       "    <tr>\n",
       "      <th>42038</th>\n",
       "      <td>0</td>\n",
       "      <td>0</td>\n",
       "      <td>0</td>\n",
       "      <td>0</td>\n",
       "      <td>0</td>\n",
       "      <td>0</td>\n",
       "      <td>0</td>\n",
       "      <td>0</td>\n",
       "      <td>0</td>\n",
       "      <td>0</td>\n",
       "      <td>...</td>\n",
       "      <td>0</td>\n",
       "      <td>0</td>\n",
       "      <td>0</td>\n",
       "      <td>0</td>\n",
       "      <td>0</td>\n",
       "      <td>0</td>\n",
       "      <td>0</td>\n",
       "      <td>0</td>\n",
       "      <td>1</td>\n",
       "      <td>0</td>\n",
       "    </tr>\n",
       "    <tr>\n",
       "      <th>48694</th>\n",
       "      <td>0</td>\n",
       "      <td>0</td>\n",
       "      <td>0</td>\n",
       "      <td>0</td>\n",
       "      <td>0</td>\n",
       "      <td>0</td>\n",
       "      <td>0</td>\n",
       "      <td>0</td>\n",
       "      <td>0</td>\n",
       "      <td>1</td>\n",
       "      <td>...</td>\n",
       "      <td>0</td>\n",
       "      <td>0</td>\n",
       "      <td>0</td>\n",
       "      <td>0</td>\n",
       "      <td>0</td>\n",
       "      <td>1</td>\n",
       "      <td>0</td>\n",
       "      <td>0</td>\n",
       "      <td>0</td>\n",
       "      <td>0</td>\n",
       "    </tr>\n",
       "    <tr>\n",
       "      <th>39556</th>\n",
       "      <td>0</td>\n",
       "      <td>0</td>\n",
       "      <td>0</td>\n",
       "      <td>0</td>\n",
       "      <td>0</td>\n",
       "      <td>0</td>\n",
       "      <td>0</td>\n",
       "      <td>0</td>\n",
       "      <td>0</td>\n",
       "      <td>0</td>\n",
       "      <td>...</td>\n",
       "      <td>0</td>\n",
       "      <td>0</td>\n",
       "      <td>0</td>\n",
       "      <td>1</td>\n",
       "      <td>0</td>\n",
       "      <td>0</td>\n",
       "      <td>0</td>\n",
       "      <td>0</td>\n",
       "      <td>0</td>\n",
       "      <td>0</td>\n",
       "    </tr>\n",
       "    <tr>\n",
       "      <th>25479</th>\n",
       "      <td>0</td>\n",
       "      <td>0</td>\n",
       "      <td>0</td>\n",
       "      <td>0</td>\n",
       "      <td>0</td>\n",
       "      <td>0</td>\n",
       "      <td>0</td>\n",
       "      <td>0</td>\n",
       "      <td>0</td>\n",
       "      <td>0</td>\n",
       "      <td>...</td>\n",
       "      <td>0</td>\n",
       "      <td>0</td>\n",
       "      <td>1</td>\n",
       "      <td>0</td>\n",
       "      <td>0</td>\n",
       "      <td>0</td>\n",
       "      <td>0</td>\n",
       "      <td>0</td>\n",
       "      <td>0</td>\n",
       "      <td>0</td>\n",
       "    </tr>\n",
       "  </tbody>\n",
       "</table>\n",
       "<p>5 rows × 152 columns</p>\n",
       "</div>"
      ],
      "text/plain": [
       "       EXT_SOURCE_2 <= 0.356838;EXT_SOURCE_3 <= 0.36813;EXT_SOURCE_2 <= 0.108422;EXT_SOURCE_3 <= -4.499736  \\\n",
       "53107                                                  0                                                     \n",
       "42038                                                  0                                                     \n",
       "48694                                                  0                                                     \n",
       "39556                                                  0                                                     \n",
       "25479                                                  0                                                     \n",
       "\n",
       "       EXT_SOURCE_2 <= 0.356838;EXT_SOURCE_3 <= 0.36813;EXT_SOURCE_2 <= 0.108422;EXT_SOURCE_3 > -4.499736  \\\n",
       "53107                                                  0                                                    \n",
       "42038                                                  0                                                    \n",
       "48694                                                  0                                                    \n",
       "39556                                                  0                                                    \n",
       "25479                                                  0                                                    \n",
       "\n",
       "       EXT_SOURCE_2 <= 0.356838;EXT_SOURCE_3 <= 0.36813;EXT_SOURCE_2 > 0.108422;EXT_SOURCE_3 <= -4.499736  \\\n",
       "53107                                                  0                                                    \n",
       "42038                                                  0                                                    \n",
       "48694                                                  0                                                    \n",
       "39556                                                  0                                                    \n",
       "25479                                                  0                                                    \n",
       "\n",
       "       EXT_SOURCE_2 <= 0.356838;EXT_SOURCE_3 <= 0.36813;EXT_SOURCE_2 > 0.108422;EXT_SOURCE_3 > -4.499736  \\\n",
       "53107                                                  0                                                   \n",
       "42038                                                  0                                                   \n",
       "48694                                                  0                                                   \n",
       "39556                                                  0                                                   \n",
       "25479                                                  0                                                   \n",
       "\n",
       "       EXT_SOURCE_2 <= 0.356838;EXT_SOURCE_3 > 0.36813;EXT_SOURCE_2 <= 0.137969;DAYS_BIRTH <= -14238.0  \\\n",
       "53107                                                  0                                                 \n",
       "42038                                                  0                                                 \n",
       "48694                                                  0                                                 \n",
       "39556                                                  0                                                 \n",
       "25479                                                  0                                                 \n",
       "\n",
       "       EXT_SOURCE_2 <= 0.356838;EXT_SOURCE_3 > 0.36813;EXT_SOURCE_2 <= 0.137969;DAYS_BIRTH > -14238.0  \\\n",
       "53107                                                  0                                                \n",
       "42038                                                  0                                                \n",
       "48694                                                  0                                                \n",
       "39556                                                  0                                                \n",
       "25479                                                  0                                                \n",
       "\n",
       "       EXT_SOURCE_2 <= 0.356838;EXT_SOURCE_3 > 0.36813;EXT_SOURCE_2 > 0.137969;EXT_SOURCE_3 <= 0.5718  \\\n",
       "53107                                                  0                                                \n",
       "42038                                                  0                                                \n",
       "48694                                                  0                                                \n",
       "39556                                                  0                                                \n",
       "25479                                                  0                                                \n",
       "\n",
       "       EXT_SOURCE_2 <= 0.356838;EXT_SOURCE_3 > 0.36813;EXT_SOURCE_2 > 0.137969;EXT_SOURCE_3 > 0.5718  \\\n",
       "53107                                                  0                                               \n",
       "42038                                                  0                                               \n",
       "48694                                                  0                                               \n",
       "39556                                                  0                                               \n",
       "25479                                                  0                                               \n",
       "\n",
       "       EXT_SOURCE_2 > 0.356838;EXT_SOURCE_3 <= 0.42325;EXT_SOURCE_2 <= 0.597194;EXT_SOURCE_3 <= -4.499736  \\\n",
       "53107                                                  0                                                    \n",
       "42038                                                  0                                                    \n",
       "48694                                                  0                                                    \n",
       "39556                                                  0                                                    \n",
       "25479                                                  0                                                    \n",
       "\n",
       "       EXT_SOURCE_2 > 0.356838;EXT_SOURCE_3 <= 0.42325;EXT_SOURCE_2 <= 0.597194;EXT_SOURCE_3 > -4.499736  \\\n",
       "53107                                                  0                                                   \n",
       "42038                                                  0                                                   \n",
       "48694                                                  1                                                   \n",
       "39556                                                  0                                                   \n",
       "25479                                                  0                                                   \n",
       "\n",
       "       ...  \\\n",
       "53107  ...   \n",
       "42038  ...   \n",
       "48694  ...   \n",
       "39556  ...   \n",
       "25479  ...   \n",
       "\n",
       "       EXT_SOURCE_2 <= 0.170427;EXT_SOURCE_3 > 0.245184;DAYS_REGISTRATION <= -2977.0;AMT_ANNUITY > 24781.5  \\\n",
       "53107                                                  0                                                     \n",
       "42038                                                  0                                                     \n",
       "48694                                                  0                                                     \n",
       "39556                                                  0                                                     \n",
       "25479                                                  0                                                     \n",
       "\n",
       "       EXT_SOURCE_2 <= 0.170427;EXT_SOURCE_3 > 0.245184;DAYS_REGISTRATION > -2977.0  \\\n",
       "53107                                                  0                              \n",
       "42038                                                  0                              \n",
       "48694                                                  0                              \n",
       "39556                                                  0                              \n",
       "25479                                                  0                              \n",
       "\n",
       "       EXT_SOURCE_2 > 0.170427;EXT_SOURCE_3 <= 0.343342;EXT_SOURCE_3 <= 0.008772;DAYS_ID_PUBLISH <= -4176.5  \\\n",
       "53107                                                  0                                                      \n",
       "42038                                                  0                                                      \n",
       "48694                                                  0                                                      \n",
       "39556                                                  0                                                      \n",
       "25479                                                  1                                                      \n",
       "\n",
       "       EXT_SOURCE_2 > 0.170427;EXT_SOURCE_3 <= 0.343342;EXT_SOURCE_3 <= 0.008772;DAYS_ID_PUBLISH > -4176.5  \\\n",
       "53107                                                  0                                                     \n",
       "42038                                                  0                                                     \n",
       "48694                                                  0                                                     \n",
       "39556                                                  1                                                     \n",
       "25479                                                  0                                                     \n",
       "\n",
       "       EXT_SOURCE_2 > 0.170427;EXT_SOURCE_3 <= 0.343342;EXT_SOURCE_3 > 0.008772;EXT_SOURCE_3 <= 0.145992  \\\n",
       "53107                                                  0                                                   \n",
       "42038                                                  0                                                   \n",
       "48694                                                  0                                                   \n",
       "39556                                                  0                                                   \n",
       "25479                                                  0                                                   \n",
       "\n",
       "       EXT_SOURCE_2 > 0.170427;EXT_SOURCE_3 <= 0.343342;EXT_SOURCE_3 > 0.008772;EXT_SOURCE_3 > 0.145992  \\\n",
       "53107                                                  0                                                  \n",
       "42038                                                  0                                                  \n",
       "48694                                                  1                                                  \n",
       "39556                                                  0                                                  \n",
       "25479                                                  0                                                  \n",
       "\n",
       "       EXT_SOURCE_2 > 0.170427;EXT_SOURCE_3 > 0.343342;EXT_SOURCE_2 <= 0.55861;EXT_SOURCE_1 <= 0.530291  \\\n",
       "53107                                                  1                                                  \n",
       "42038                                                  0                                                  \n",
       "48694                                                  0                                                  \n",
       "39556                                                  0                                                  \n",
       "25479                                                  0                                                  \n",
       "\n",
       "       EXT_SOURCE_2 > 0.170427;EXT_SOURCE_3 > 0.343342;EXT_SOURCE_2 <= 0.55861;EXT_SOURCE_1 > 0.530291  \\\n",
       "53107                                                  0                                                 \n",
       "42038                                                  0                                                 \n",
       "48694                                                  0                                                 \n",
       "39556                                                  0                                                 \n",
       "25479                                                  0                                                 \n",
       "\n",
       "       EXT_SOURCE_2 > 0.170427;EXT_SOURCE_3 > 0.343342;EXT_SOURCE_2 > 0.55861;OCCUPATION_TYPE != Drivers  \\\n",
       "53107                                                  0                                                   \n",
       "42038                                                  1                                                   \n",
       "48694                                                  0                                                   \n",
       "39556                                                  0                                                   \n",
       "25479                                                  0                                                   \n",
       "\n",
       "       EXT_SOURCE_2 > 0.170427;EXT_SOURCE_3 > 0.343342;EXT_SOURCE_2 > 0.55861;OCCUPATION_TYPE == Drivers  \n",
       "53107                                                  0                                                  \n",
       "42038                                                  0                                                  \n",
       "48694                                                  0                                                  \n",
       "39556                                                  0                                                  \n",
       "25479                                                  0                                                  \n",
       "\n",
       "[5 rows x 152 columns]"
      ]
     },
     "execution_count": 11,
     "metadata": {},
     "output_type": "execute_result"
    }
   ],
   "source": [
    "# 回溯gbdt变量给其他数据集\n",
    "X_train_gbdt = get_data_gbdt(X_train_trans, gbdt_path_var.columns)\n",
    "X_train_gbdt.head()"
   ]
  },
  {
   "cell_type": "code",
   "execution_count": 12,
   "metadata": {
    "ExecuteTime": {
     "end_time": "2019-09-18T07:55:35.685202Z",
     "start_time": "2019-09-18T07:55:32.689029Z"
    },
    "scrolled": true
   },
   "outputs": [
    {
     "name": "stdout",
     "output_type": "stream",
     "text": [
      "第一个数据集的维度: (43051, 153)\n",
      "第二个数据集的维度: (43051, 153)\n",
      "两个数据集公共变量数: 152\n",
      "两个数据集相同 index 样本数: 43051\n",
      "所有变量均一致\n"
     ]
    }
   ],
   "source": [
    "# 对两个数据集是否一致进行检验\n",
    "# 数据集还与下面代码操作后的数据集一致\n",
    "# X_train_gbdt = model.apply(X_train_mapper)[:, :, 0]\n",
    "# enc = OneHotEncoder()\n",
    "# X_train_gbdt = np.array(enc.fit_transform(X_train_gbdt).toarray())\n",
    "# 但由于get_gbdt_path_var有进行一个去重的操作，列数可能会不同，这里不再检验\n",
    "\n",
    "gbdt_path_var.index = X_train_gbdt.index\n",
    "compare_all = dataframe_compare_all(gbdt_path_var.reset_index(), X_train_gbdt.reset_index(), 'index', verbose=1)\n",
    "\n",
    "# 两个数据集一定是完全一致的，如果不一致一般因为有变量的小数位过长，在提取子树结构时，每个节点判断的阈值精度取了6位\n",
    "# 这精准的6位有可能让路径的信息损失，需让原数据集的小数位进行四舍五入，或者将get_gbdt_path_var的参数precision增大"
   ]
  },
  {
   "cell_type": "markdown",
   "metadata": {},
   "source": [
    "## 规则提取"
   ]
  },
  {
   "cell_type": "code",
   "execution_count": 13,
   "metadata": {
    "ExecuteTime": {
     "end_time": "2019-09-18T07:55:38.428356Z",
     "start_time": "2019-09-18T07:55:37.804329Z"
    }
   },
   "outputs": [
    {
     "name": "stdout",
     "output_type": "stream",
     "text": [
      "总样本目标为 1 的样本占比为: 0.0806\n",
      "\n",
      "根据目标占比,提取前 5 个规则,具体规则如下:\n",
      ">> 规则 1: 覆盖率 0.0108  目标占比 0.4176\n",
      "   EXT_SOURCE_2 <= 0.170427;EXT_SOURCE_3 <= 0.245184;EXT_SOURCE_3 > -4.499736\n",
      "\n",
      ">> 规则 2: 覆盖率 0.0157  目标占比 0.3813\n",
      "   EXT_SOURCE_2 <= 0.356838;EXT_SOURCE_3 <= 0.265753;EXT_SOURCE_3 > -4.499736;EXT_SOURCE_2 <= 0.208904\n",
      "\n",
      ">> 规则 3: 覆盖率 0.0185  目标占比 0.3538\n",
      "   EXT_SOURCE_2 <= 0.247911;EXT_SOURCE_3 <= 0.264348;EXT_SOURCE_3 > -4.499736\n",
      "\n",
      ">> 规则 4: 覆盖率 0.0167  目标占比 0.3537\n",
      "   EXT_SOURCE_2 <= 0.483946;EXT_SOURCE_3 <= 0.265753;EXT_SOURCE_3 > -4.499736;EXT_SOURCE_3 <= 0.150546\n",
      "\n",
      ">> 规则 5: 覆盖率 0.018  目标占比 0.3479\n",
      "   EXT_SOURCE_3 <= 0.319379;EXT_SOURCE_2 <= 0.483946;EXT_SOURCE_3 > -4.499736;EXT_SOURCE_3 <= 0.156165\n",
      "\n"
     ]
    }
   ],
   "source": [
    "# 查看目标占比前5的规则\n",
    "get_head_rule(X_train_gbdt, Y_train, head=5)"
   ]
  },
  {
   "cell_type": "code",
   "execution_count": 14,
   "metadata": {
    "ExecuteTime": {
     "end_time": "2019-09-18T07:55:53.210206Z",
     "start_time": "2019-09-18T07:55:52.612172Z"
    }
   },
   "outputs": [
    {
     "name": "stdout",
     "output_type": "stream",
     "text": [
      "总样本目标为 1 的样本占比为: 0.0806\n",
      "\n",
      "根据目标占比,提取前 5 个规则,具体规则如下:\n",
      ">> 规则 1: 覆盖率 0.0241  目标占比 0.3157\n",
      "   EXT_SOURCE_2 <= 0.247911;NAME_INCOME_TYPE == Working;EXT_SOURCE_1 <= 0.387005;EXT_SOURCE_3 <= 0.260162\n",
      "\n",
      ">> 规则 2: 覆盖率 0.0235  目标占比 0.3126\n",
      "   EXT_SOURCE_2 <= 0.392158;EXT_SOURCE_3 <= 0.400542;EXT_SOURCE_2 <= 0.168078;NAME_INCOME_TYPE == Working\n",
      "\n",
      ">> 规则 3: 覆盖率 0.027  目标占比 0.3006\n",
      "   EXT_SOURCE_2 <= 0.462132;EXT_SOURCE_3 <= 0.474951;EXT_SOURCE_2 <= 0.168078;NAME_INCOME_TYPE == Working\n",
      "\n",
      ">> 规则 4: 覆盖率 0.0285  目标占比 0.2349\n",
      "   EXT_SOURCE_2 > 0.170427;EXT_SOURCE_3 <= 0.343342;EXT_SOURCE_3 > 0.008772;EXT_SOURCE_3 <= 0.145992\n",
      "\n",
      ">> 规则 5: 覆盖率 0.0308  目标占比 0.2221\n",
      "   EXT_SOURCE_2 <= 0.483946;EXT_SOURCE_3 <= 0.265753;EXT_SOURCE_3 > -4.499736;EXT_SOURCE_3 > 0.150546\n",
      "\n"
     ]
    }
   ],
   "source": [
    "# 查看目标占比前5的规则，增加覆盖率阈值的过滤\n",
    "get_head_rule(X_train_gbdt, Y_train, head=5, cover=0.02)"
   ]
  },
  {
   "cell_type": "code",
   "execution_count": 15,
   "metadata": {
    "ExecuteTime": {
     "end_time": "2019-09-18T07:55:57.568455Z",
     "start_time": "2019-09-18T07:55:56.987425Z"
    }
   },
   "outputs": [
    {
     "data": {
      "text/html": [
       "<div>\n",
       "<style scoped>\n",
       "    .dataframe tbody tr th:only-of-type {\n",
       "        vertical-align: middle;\n",
       "    }\n",
       "\n",
       "    .dataframe tbody tr th {\n",
       "        vertical-align: top;\n",
       "    }\n",
       "\n",
       "    .dataframe thead th {\n",
       "        text-align: right;\n",
       "    }\n",
       "</style>\n",
       "<table border=\"1\" class=\"dataframe\">\n",
       "  <thead>\n",
       "    <tr style=\"text-align: right;\">\n",
       "      <th></th>\n",
       "      <th>rule</th>\n",
       "      <th>cover</th>\n",
       "      <th>target</th>\n",
       "    </tr>\n",
       "  </thead>\n",
       "  <tbody>\n",
       "    <tr>\n",
       "      <th>0</th>\n",
       "      <td>EXT_SOURCE_2 &lt;= 0.170427;EXT_SOURCE_3 &lt;= 0.245...</td>\n",
       "      <td>0.0108</td>\n",
       "      <td>0.4176</td>\n",
       "    </tr>\n",
       "    <tr>\n",
       "      <th>1</th>\n",
       "      <td>EXT_SOURCE_2 &lt;= 0.356838;EXT_SOURCE_3 &lt;= 0.265...</td>\n",
       "      <td>0.0157</td>\n",
       "      <td>0.3813</td>\n",
       "    </tr>\n",
       "    <tr>\n",
       "      <th>2</th>\n",
       "      <td>EXT_SOURCE_2 &lt;= 0.247911;EXT_SOURCE_3 &lt;= 0.264...</td>\n",
       "      <td>0.0185</td>\n",
       "      <td>0.3538</td>\n",
       "    </tr>\n",
       "    <tr>\n",
       "      <th>3</th>\n",
       "      <td>EXT_SOURCE_2 &lt;= 0.483946;EXT_SOURCE_3 &lt;= 0.265...</td>\n",
       "      <td>0.0167</td>\n",
       "      <td>0.3537</td>\n",
       "    </tr>\n",
       "    <tr>\n",
       "      <th>4</th>\n",
       "      <td>EXT_SOURCE_3 &lt;= 0.319379;EXT_SOURCE_2 &lt;= 0.483...</td>\n",
       "      <td>0.0180</td>\n",
       "      <td>0.3479</td>\n",
       "    </tr>\n",
       "  </tbody>\n",
       "</table>\n",
       "</div>"
      ],
      "text/plain": [
       "                                                rule   cover  target\n",
       "0  EXT_SOURCE_2 <= 0.170427;EXT_SOURCE_3 <= 0.245...  0.0108  0.4176\n",
       "1  EXT_SOURCE_2 <= 0.356838;EXT_SOURCE_3 <= 0.265...  0.0157  0.3813\n",
       "2  EXT_SOURCE_2 <= 0.247911;EXT_SOURCE_3 <= 0.264...  0.0185  0.3538\n",
       "3  EXT_SOURCE_2 <= 0.483946;EXT_SOURCE_3 <= 0.265...  0.0167  0.3537\n",
       "4  EXT_SOURCE_3 <= 0.319379;EXT_SOURCE_2 <= 0.483...  0.0180  0.3479"
      ]
     },
     "execution_count": 15,
     "metadata": {},
     "output_type": "execute_result"
    }
   ],
   "source": [
    "# 获取所有规则信息的数据集\n",
    "rule_df = get_rule_df(X_train_gbdt, Y_train)\n",
    "rule_df.head()"
   ]
  },
  {
   "cell_type": "markdown",
   "metadata": {},
   "source": [
    "## 逻辑回归"
   ]
  },
  {
   "cell_type": "code",
   "execution_count": 16,
   "metadata": {
    "ExecuteTime": {
     "end_time": "2019-09-18T07:56:05.090894Z",
     "start_time": "2019-09-18T07:56:02.834757Z"
    },
    "scrolled": false
   },
   "outputs": [
    {
     "name": "stdout",
     "output_type": "stream",
     "text": [
      "在L1正则项系数为 0.005 下,训练出的逻辑回归模型共选择了 8 个变量\n",
      "交叉验证结果为:  训练集平均AUC: 0.676  验证集平均AUC: 0.6758\n",
      "\n",
      "逻辑回归模型如下:\n",
      "1 / (1 + e^(2.1771689556886153 + 0.06399857871544218 * X[1] - 0.08091065632026458 * X[2] + 0.2747370870213347 * X[3] + 0.13878685953331038 * X[4] - 0.35530045551031225 * X[5] + 0.05277391627131956 * X[6] + 0.08015968023680686 * X[7] + 0.6171095868614703 * X[8]))\n",
      "\n",
      "各变量对应关系如下\n",
      "X[1] ==> EXT_SOURCE_2 > 0.247911;EXT_SOURCE_3 > 0.425012;EXT_SOURCE_2 <= 0.623373;CODE_GENDER != M\n",
      "X[2] ==> EXT_SOURCE_2 <= 0.462132;EXT_SOURCE_3 <= 0.474951;EXT_SOURCE_2 <= 0.168078;NAME_INCOME_TYPE == Working\n",
      "X[3] ==> EXT_SOURCE_2 > 0.462132;EXT_SOURCE_3 > 0.390197;CODE_GENDER != M;OCCUPATION_TYPE != Sales staff\n",
      "X[4] ==> EXT_SOURCE_3 > 0.319379;EXT_SOURCE_2 > 0.247911;EXT_SOURCE_1 <= 0.590292;EXT_SOURCE_3 > 0.628833\n",
      "X[5] ==> EXT_SOURCE_2 <= 0.462132;EXT_SOURCE_3 <= 0.474951;EXT_SOURCE_2 > 0.079814;EXT_SOURCE_1 <= 0.425951\n",
      "X[6] ==> EXT_SOURCE_2 > 0.483946;EXT_SOURCE_3 <= 0.390197;EXT_SOURCE_3 <= 0.010348;REGION_RATING_CLIENT_W_CITY <= 2.5\n",
      "X[7] ==> EXT_SOURCE_2 > 0.247911;EXT_SOURCE_3 > 0.425012;NAME_EDUCATION_TYPE != Higher education;CODE_GENDER == F\n",
      "X[8] ==> EXT_SOURCE_2 > 0.170427;EXT_SOURCE_3 > 0.343342;EXT_SOURCE_2 > 0.55861;OCCUPATION_TYPE != Drivers\n"
     ]
    }
   ],
   "source": [
    "# 训练逻辑回归模型\n",
    "# 选择的变量数与C呈正相关，C越大选择的变量数越多，C越大选择的变量数越多，C越小选择的变量数越少\n",
    "intercept, coef, cols = get_lr_model(X_train_gbdt, Y_train, C=0.005)"
   ]
  },
  {
   "cell_type": "code",
   "execution_count": 17,
   "metadata": {
    "ExecuteTime": {
     "end_time": "2019-09-18T07:56:42.334017Z",
     "start_time": "2019-09-18T07:56:36.419682Z"
    }
   },
   "outputs": [
    {
     "data": {
      "text/plain": [
       "53107    0.089372\n",
       "42038    0.050286\n",
       "48694    0.101820\n",
       "39556    0.097094\n",
       "25479    0.097094\n",
       "dtype: float64"
      ]
     },
     "execution_count": 17,
     "metadata": {},
     "output_type": "execute_result"
    }
   ],
   "source": [
    "# 计算预测的概率值\n",
    "lr_proba = get_lr_proba(intercept, coef, cols, X_train_gbdt)\n",
    "lr_proba[:5]"
   ]
  },
  {
   "cell_type": "code",
   "execution_count": 18,
   "metadata": {
    "ExecuteTime": {
     "end_time": "2019-09-18T07:56:48.237357Z",
     "start_time": "2019-09-18T07:56:43.330073Z"
    }
   },
   "outputs": [
    {
     "name": "stdout",
     "output_type": "stream",
     "text": [
      "AUC: 0.6797  KS: 0.2925\n"
     ]
    }
   ],
   "source": [
    "# 对测试集回溯GBDT衍生变量，并预测概率值，查看AUC、KS\n",
    "X_test_gbdt = get_data_gbdt(X_test_trans, gbdt_path_var.columns)\n",
    "test_proba = get_lr_proba(intercept, coef, cols, X_test_gbdt, Y_test)"
   ]
  },
  {
   "cell_type": "code",
   "execution_count": null,
   "metadata": {},
   "outputs": [],
   "source": []
  }
 ],
 "metadata": {
  "kernelspec": {
   "display_name": "Python 3",
   "language": "python",
   "name": "python3"
  },
  "language_info": {
   "codemirror_mode": {
    "name": "ipython",
    "version": 3
   },
   "file_extension": ".py",
   "mimetype": "text/x-python",
   "name": "python",
   "nbconvert_exporter": "python",
   "pygments_lexer": "ipython3",
   "version": "3.6.5"
  },
  "toc": {
   "base_numbering": 1,
   "nav_menu": {},
   "number_sections": true,
   "sideBar": true,
   "skip_h1_title": false,
   "title_cell": "Table of Contents",
   "title_sidebar": "Contents",
   "toc_cell": false,
   "toc_position": {},
   "toc_section_display": true,
   "toc_window_display": false
  },
  "varInspector": {
   "cols": {
    "lenName": 16,
    "lenType": 16,
    "lenVar": 40
   },
   "kernels_config": {
    "python": {
     "delete_cmd_postfix": "",
     "delete_cmd_prefix": "del ",
     "library": "var_list.py",
     "varRefreshCmd": "print(var_dic_list())"
    },
    "r": {
     "delete_cmd_postfix": ") ",
     "delete_cmd_prefix": "rm(",
     "library": "var_list.r",
     "varRefreshCmd": "cat(var_dic_list()) "
    }
   },
   "types_to_exclude": [
    "module",
    "function",
    "builtin_function_or_method",
    "instance",
    "_Feature"
   ],
   "window_display": false
  }
 },
 "nbformat": 4,
 "nbformat_minor": 2
}
